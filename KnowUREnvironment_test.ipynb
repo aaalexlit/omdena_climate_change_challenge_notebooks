{
  "nbformat": 4,
  "nbformat_minor": 0,
  "metadata": {
    "colab": {
      "provenance": [],
      "authorship_tag": "ABX9TyNPM6vGVw8iTns4x95gPmUm",
      "include_colab_link": true
    },
    "kernelspec": {
      "name": "python3",
      "display_name": "Python 3"
    },
    "language_info": {
      "name": "python"
    }
  },
  "cells": [
    {
      "cell_type": "markdown",
      "metadata": {
        "id": "view-in-github",
        "colab_type": "text"
      },
      "source": [
        "<a href=\"https://colab.research.google.com/github/aaalexlit/omdena_climate_change_challenge_notebooks/blob/main/KnowUREnvironment_test.ipynb\" target=\"_parent\"><img src=\"https://colab.research.google.com/assets/colab-badge.svg\" alt=\"Open In Colab\"/></a>"
      ]
    },
    {
      "cell_type": "code",
      "source": [
        "## we need this to be able to download big-ish files from GDrive\n",
        "%%capture\n",
        "!pip3 install --upgrade gdown"
      ],
      "metadata": {
        "id": "r_x4_CSBz_oF"
      },
      "execution_count": 2,
      "outputs": []
    },
    {
      "cell_type": "code",
      "source": [
        "!gdown https://drive.google.com/uc?id=1-x-61xCEKWbOyw94ij_GMmpNBeAERS_f"
      ],
      "metadata": {
        "colab": {
          "base_uri": "https://localhost:8080/"
        },
        "id": "ZBR6GXGazo2d",
        "outputId": "8a79812b-62d7-4395-f86a-5a7b6ad69380"
      },
      "execution_count": 3,
      "outputs": [
        {
          "output_type": "stream",
          "name": "stdout",
          "text": [
            "Downloading...\n",
            "From: https://drive.google.com/uc?id=1-x-61xCEKWbOyw94ij_GMmpNBeAERS_f\n",
            "To: /content/all_abstracts_with_keywords.json\n",
            "100% 338M/338M [00:03<00:00, 101MB/s]\n"
          ]
        }
      ]
    },
    {
      "cell_type": "code",
      "source": [
        "!wget https://raw.githubusercontent.com/saiful1105020/KnowUREnvironment/main/final_tuples_double_evidence.csv"
      ],
      "metadata": {
        "colab": {
          "base_uri": "https://localhost:8080/"
        },
        "id": "TF8EVYWrz0NO",
        "outputId": "9f75ad15-01df-4cd6-bce0-8402d12b29a6"
      },
      "execution_count": 8,
      "outputs": [
        {
          "output_type": "stream",
          "name": "stdout",
          "text": [
            "--2023-03-11 13:18:48--  https://raw.githubusercontent.com/saiful1105020/KnowUREnvironment/main/final_tuples_double_evidence.csv\n",
            "Resolving raw.githubusercontent.com (raw.githubusercontent.com)... 185.199.108.133, 185.199.109.133, 185.199.110.133, ...\n",
            "Connecting to raw.githubusercontent.com (raw.githubusercontent.com)|185.199.108.133|:443... connected.\n",
            "HTTP request sent, awaiting response... 200 OK\n",
            "Length: 1761988 (1.7M) [text/plain]\n",
            "Saving to: ‘final_tuples_double_evidence.csv.1’\n",
            "\n",
            "final_tuples_double 100%[===================>]   1.68M  --.-KB/s    in 0.06s   \n",
            "\n",
            "2023-03-11 13:18:48 (26.5 MB/s) - ‘final_tuples_double_evidence.csv.1’ saved [1761988/1761988]\n",
            "\n"
          ]
        }
      ]
    },
    {
      "cell_type": "code",
      "execution_count": 11,
      "metadata": {
        "colab": {
          "base_uri": "https://localhost:8080/"
        },
        "id": "2NOWdmcizbpG",
        "outputId": "362eaff7-ead7-41d5-ca21-84f87b078fe5"
      },
      "outputs": [
        {
          "output_type": "stream",
          "name": "stderr",
          "text": [
            "[nltk_data] Downloading package punkt to /root/nltk_data...\n",
            "[nltk_data]   Unzipping tokenizers/punkt.zip.\n"
          ]
        },
        {
          "output_type": "execute_result",
          "data": {
            "text/plain": [
              "True"
            ]
          },
          "metadata": {},
          "execution_count": 11
        }
      ],
      "source": [
        "import pandas as pd\n",
        "import json\n",
        "import nltk\n",
        "from nltk.tokenize import sent_tokenize\n",
        "import numpy as np\n",
        "\n",
        "nltk.download('punkt')\n"
      ]
    },
    {
      "cell_type": "code",
      "source": [
        "\n",
        "with open(\"all_abstracts_with_keywords.json\", encoding='utf-8') as f:\n",
        "    all_abstracts = json.loads(f.read())\n",
        "\n",
        "    df = pd.read_csv(\"final_tuples_double_evidence.csv\")\n",
        "    for i,r in df.iterrows():\n",
        "        triple = (r['subject'], r['relation'], r['object'])\n",
        "        evidence = []\n",
        "        \n",
        "        papers = np.asarray(r['paper_id'][1:-1].split(\",\"), dtype=int)\n",
        "        n = len(papers)\n",
        "        \n",
        "        for j in range(0,n):\n",
        "            abstract = sent_tokenize(all_abstracts[papers[j]]['abstract'])\n",
        "            sentence_nos = np.asarray(r['sentence_no'][1:-1].split(\",\"), dtype=int) \n",
        "            sentence = abstract[sentence_nos[j]]\n",
        "            evidence.append(sentence)\n",
        "            \n",
        "        print(\"+\"*20)\n",
        "        print(\"Triple: \",end=\"\")\n",
        "        print(triple)\n",
        "        print(\"Evidence sentence: \",end=\"\\n\")\n",
        "        for j in range(0,len(evidence)):\n",
        "            print(\"%d. %s\"%((j+1),evidence[j]))\n",
        "        print(\"-\"*20)\n",
        "        \n",
        "        if i>10:\n",
        "          break"
      ],
      "metadata": {
        "colab": {
          "base_uri": "https://localhost:8080/"
        },
        "id": "yEyJPx0z1Q56",
        "outputId": "0f403fb2-7b74-4ecc-e7e3-1c0abd1f0d1b"
      },
      "execution_count": 13,
      "outputs": [
        {
          "output_type": "stream",
          "name": "stdout",
          "text": [
            "++++++++++++++++++++\n",
            "Triple: ('a species', 'require', 'climate')\n",
            "Evidence sentence: \n",
            "1. Observations of the distribution of eucalypt rust epidemics in the Neotropics were analysed to develop a simple description of the species climatic requirements.\n",
            "2. Almost all climate change studies of plants and animals adopt an ‘equilibrium assumption’ that analyses of natural distributions provide reliable estimates of species climatic requirements.\n",
            "3. In recent years, with the advent of large biodiversity databases and some revised SDM analysis methods, there has been a revival of interest in measuring species climatic requirements using data from beyond their realized niches.\n",
            "--------------------\n",
            "++++++++++++++++++++\n",
            "Triple: ('a species', 'tolerate', 'climate')\n",
            "Evidence sentence: \n",
            "1. This assumption has led researchers to use bioclimate envelope models that use present climate-range relationships to characterize species' limits of tolerance to climate, and then apply climate-change scenarios to enable projections of altered species distributions.\n",
            "2. Here, we show that nonnative plants reaching high elevations around the world are not highly specialized stress tolerators but species with broad climatic tolerances capable of growing across a wide elevational range.\n",
            "3. Models based on long-term climate averages over-estimate availability of suitable habitat and species' climatic tolerances, masking species potential vulnerability to climate change.\n",
            "4. This discovery will help to define the climatic tolerances of species and their habitat preferences, and offers a means of quantifying the balance between niche partitioning and 'neutral' processes in shaping complex tropical forest communities.\n",
            "--------------------\n",
            "++++++++++++++++++++\n",
            "Triple: ('a species', 'prefer', 'climate')\n",
            "Evidence sentence: \n",
            "1. Examining species climatic preferences via bioclimatic niche modelling is a key tool to study this impact.\n",
            "2. We have combined occurrence- and climate data from extant species, and used ancestral state reconstruction to model past climate preferences.\n",
            "--------------------\n",
            "++++++++++++++++++++\n",
            "Triple: ('a species', 'respond', 'climate')\n",
            "Evidence sentence: \n",
            "1. Species may respond to a warming climate by moving to higher latitudes or elevations.\n",
            "2. Moreover, the varying treeline-forming species respond in different ways to a changing climate.\n",
            "3. All in all, species differed little in photosynthetic responses to climate.\n",
            "4. Our analysis shows that isoprene emission is a key plant trait determining species responses to climate.\n",
            "5. Little is known about the adaptive capacity of species to respond to drying climates, and whether adaptation can keep pace with climate change.\n",
            "6. Disentangling the role that multiple interacting factors have on species responses to shifting climate poses a significant challenge.\n",
            "7. The species-level response to climate was most sensitive to maximum temperature of the hottest month, but phenotypic variables were most sensitive to mean annual precipitation.\n",
            "--------------------\n",
            "++++++++++++++++++++\n",
            "Triple: ('a species', 'sensitive', 'climate')\n",
            "Evidence sentence: \n",
            "1. This discovery explains how masting species tailor their flowering patterns to sites across altitudinal temperature gradients; predicts that masting will be unaffected by increasing mean temperatures under climate change; improves prediction of impacts on seed consumers; demonstrates that strongly masting species are hypersensitive to climate; explains the rarity of consecutive high-seed years without invoking resource constraints; and generates hypotheses about physiological mechanisms in plants and insect seed predators.\n",
            "2. We conclude that scientific studies and climate change adaptation policies based on the indiscriminate use of climate envelope methods irrespective of species sensitivity to climate may be misleading and in need of revision.\n",
            "3. Understanding species climatic sensitivity is a central theme in biodiversity conservation.\n",
            "4. Studies have focused on the climatic sensitivity of the retreating species, whereas little is known about the potential replacements.\n",
            "5. Here, using correlative species distribution models that contrast estimates of climatic sensitivity inferred from the two spatial extents, we quantify the response of limber pine (Pinus flexilis) to climate change in Rocky Mountain National Park (Colorado, USA).\n",
            "6. Combined, these results illustrate the importance of accounting for unknowns in species' climatic sensitivities when forecasting distributional scenarios that are used to inform management decisions.\n",
            "--------------------\n",
            "++++++++++++++++++++\n",
            "Triple: ('a species', 'relation', 'climate')\n",
            "Evidence sentence: \n",
            "1. The species-climate relationships underlying such models are calibrated using data at either 'macro' scales (coarse resolution, e.g.\n",
            "2. Here the controversial \"Pleistocene rewilding\" proposal was used as a novel example to address some of the challenges of extrapolating modeled species-climate relationships outside of current ranges.\n",
            "3. We provide unique insight into the mechanisms driving koala distribution and illustrate the importance of subtle relationships between the timing of weather events, particularly rain relative to hot-spells, in driving species-climate relationships and distributions.\n",
            "--------------------\n",
            "++++++++++++++++++++\n",
            "Triple: ('a species', 'interact', 'climate')\n",
            "Evidence sentence: \n",
            "1. One productive way to unite data across scales is the study of functional morphological traits, which can form a common denominator for studying interactions between species and climate across taxa, across ecosystems, across space and through time-an approach we call 'ecometrics'.\n",
            "2. In this study, we adopted an approach based on distribution data for W. mirabilis and ecological niche models for clarifying the species-climate interactions and for predicting the potential impacts of climate change on W. mirabilis populations in three well-separated sub-ranges (northern, southern and central) in northwestern Namibia, southern Africa.\n",
            "--------------------\n",
            "++++++++++++++++++++\n",
            "Triple: ('a species', 'interact', 'community')\n",
            "Evidence sentence: \n",
            "1. Climate change can affect species directly and indirectly by altering interactions between species within communities.\n",
            "2. As ranges expand, invading species change interactions in communities which may reduce stability, a mechanism known to affect biodiversity.\n",
            "--------------------\n",
            "++++++++++++++++++++\n",
            "Triple: ('a species', 'have', 'range')\n",
            "Evidence sentence: \n",
            "1. This may be especially problematic for species growing under contrasting climate conditions, as is the case for species with a wide geographic range.\n",
            "2. We demonstrate that the principal single-factor and composite (species-energy, water-energy and temperature-kinetics) models proposed thus far fail to predict (r(2) < or =.05) the richness of species with small to moderately large geographical ranges (first three range-size quartiles).\n",
            "3. Species with larger predicted ranges preferentially survived the initial cooling event better than species with small geographic ranges.\n",
            "4. Trends did not differ based on migratory status, but there was evidence that trends differed for species with ranges centered in the southern vs. northern portion of the study area.\n",
            "5. Species considered threatened that have larger ranges than this qualified under other (nonspatial) red list criteria.\n",
            "6. In particular, species with smaller ranges centred at lower latitudes may not have the capacity to successfully track the current rate of climate change.\n",
            "--------------------\n",
            "++++++++++++++++++++\n",
            "Triple: ('a species', 'change', 'range')\n",
            "Evidence sentence: \n",
            "1. Range changes of existing introduced species will be prominent, as many species' biogeographic ranges are set primarily by climate.\n",
            "2. Although ecologists are now using a variety of approaches to study how much and through what mechanisms increasing temperature and nutrient pollution may influence the invasions inherent in range shifts, accurate predictions are still lacking.In this study, we conducted a factorial experiment, simultaneously manipulating warming, nitrogen addition and introduction of Pityopsis aspera, to determine how range-shifting species affect a plant community.\n",
            "--------------------\n",
            "++++++++++++++++++++\n",
            "Triple: ('a species', 'shift', 'range')\n",
            "Evidence sentence: \n",
            "1. Accurate predictions of the potential distribution of range-shifting species are required for effective management of invasive species, and for assessments of the impact of climate change on native species.\n",
            "2. Range-shifting species pose a challenge for traditional correlative approaches to range prediction, often requiring the extrapolation of complex statistical associations into novel environmental space.\n",
            "3. Understanding species' abilities to shift ranges has important implications for assessing extinction risk and predicting future community structure.\n",
            "4. Changes in climate and bird distributions resulted in focal species shifting their average climatological range over time.\n",
            "5. The range shifts by species (shift vectors) revealed a complex pattern of distributional changes across latitudes rather than simple poleward expansion.\n",
            "6. The development of an approach to detect impending range shifts at an early stage will allow resource managers and researchers to better manage opportunities resulting from range-shifting species before they potentially colonize.\n",
            "--------------------\n",
            "++++++++++++++++++++\n",
            "Triple: ('a species', 'exhibit', 'range')\n",
            "Evidence sentence: \n",
            "1. The species exhibited a wide range of gas exchange responses, hydraulic strategies, and mortality rates.\n",
            "2. Although mean activity budgets were similar between species, analyses of individual-level variation in locomotion revealed that  exhibited a narrower range of activity patterns than  Further analyses revealed that  was more active earlier in the day, when temperatures were cooler, and that activity patterns for both species changed with increased interspecific co-occurrence.\n",
            "3. While it is known that species exhibit a range of physiological and behavioral responses to artificial nighttime lighting [e.g., 3-5], there is a need to gain a mechanistic understanding of whole ecological community impacts [6, 7], especially to different light intensities.\n",
            "--------------------\n"
          ]
        }
      ]
    },
    {
      "cell_type": "code",
      "source": [],
      "metadata": {
        "id": "4teiwqq90Oxb"
      },
      "execution_count": null,
      "outputs": []
    }
  ]
}