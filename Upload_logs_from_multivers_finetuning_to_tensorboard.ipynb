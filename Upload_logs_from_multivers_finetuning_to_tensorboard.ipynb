{
  "nbformat": 4,
  "nbformat_minor": 0,
  "metadata": {
    "colab": {
      "provenance": [],
      "include_colab_link": true
    },
    "kernelspec": {
      "name": "python3",
      "display_name": "Python 3"
    },
    "language_info": {
      "name": "python"
    }
  },
  "cells": [
    {
      "cell_type": "markdown",
      "metadata": {
        "id": "view-in-github",
        "colab_type": "text"
      },
      "source": [
        "<a href=\"https://colab.research.google.com/github/aaalexlit/omdena_climate_change_challenge_notebooks/blob/main/Upload_logs_from_multivers_finetuning_to_tensorboard.ipynb\" target=\"_parent\"><img src=\"https://colab.research.google.com/assets/colab-badge.svg\" alt=\"Open In Colab\"/></a>"
      ]
    },
    {
      "cell_type": "code",
      "execution_count": 1,
      "metadata": {
        "colab": {
          "base_uri": "https://localhost:8080/"
        },
        "id": "dW29zX10rN1V",
        "outputId": "c0b7d279-bd6c-4d08-fe47-eabc67ba307a"
      },
      "outputs": [
        {
          "output_type": "stream",
          "name": "stdout",
          "text": [
            "Copying gs://cc-evidences-data/multivers_checkpoints/covidfact/events.out.tfevents.1682227606.9f30b14ca98c.2526.0...\n",
            "Copying gs://cc-evidences-data/multivers_checkpoints/covidfact/events.out.tfevents.1682241468.61072d489c09.1180.0...\n",
            "Copying gs://cc-evidences-data/multivers_checkpoints/covidfact/events.out.tfevents.1682357119.21d87c28bdb0.13286.0...\n",
            "Copying gs://cc-evidences-data/multivers_checkpoints/covidfact/events.out.tfevents.1682397872.c1ef10dbf42a.6926.0...\n",
            "\\ [4/4 files][530.0 KiB/530.0 KiB] 100% Done                                    \n",
            "Operation completed over 4 objects/530.0 KiB.                                    \n"
          ]
        }
      ],
      "source": [
        "!gsutil -m cp \\\n",
        "  \"gs://cc-evidences-data/multivers_checkpoints/covidfact/events.out.tfevents.1682227606.9f30b14ca98c.2526.0\" \\\n",
        "  \"gs://cc-evidences-data/multivers_checkpoints/covidfact/events.out.tfevents.1682241468.61072d489c09.1180.0\" \\\n",
        "\"gs://cc-evidences-data/multivers_checkpoints/covidfact/events.out.tfevents.1682357119.21d87c28bdb0.13286.0\" \\\n",
        "\"gs://cc-evidences-data/multivers_checkpoints/covidfact/events.out.tfevents.1682397872.c1ef10dbf42a.6926.0\" \\\n",
        "  ."
      ]
    },
    {
      "cell_type": "code",
      "source": [
        "!mkdir logs\n",
        "!mkdir logs/1\n",
        "!mkdir logs/2\n",
        "!mkdir logs/3\n",
        "!mkdir logs/4\n",
        "!mv /content/events.out.tfevents.1682227606.9f30b14ca98c.2526.0 /content/logs/1/\n",
        "!mv /content/events.out.tfevents.1682241468.61072d489c09.1180.0 /content/logs/2/\n",
        "!mv /content/events.out.tfevents.1682357119.21d87c28bdb0.13286.0 /content/logs/3/\n",
        "!mv /content/events.out.tfevents.1682397872.c1ef10dbf42a.6926.0 /content/logs/4/\n"
      ],
      "metadata": {
        "colab": {
          "base_uri": "https://localhost:8080/"
        },
        "id": "LsBStFeI9Ddt",
        "outputId": "6dfcfa7d-d1ea-4904-ab5e-3a410cf735b9"
      },
      "execution_count": 6,
      "outputs": [
        {
          "output_type": "stream",
          "name": "stdout",
          "text": [
            "mkdir: cannot create directory ‘logs’: File exists\n"
          ]
        }
      ]
    },
    {
      "cell_type": "code",
      "source": [
        "!tensorboard dev upload --logdir ./logs/ \\\n",
        "--name \"Finetune MultiVerS on CLIMATE-FEVER\" \\\n",
        "--description \"Logs from different lauches\" \\\n",
        "--one_shot"
      ],
      "metadata": {
        "colab": {
          "base_uri": "https://localhost:8080/"
        },
        "id": "wBPmmVFYrhoX",
        "outputId": "a562656d-6da2-48a3-fd16-b567c510f4f0"
      },
      "execution_count": 7,
      "outputs": [
        {
          "output_type": "stream",
          "name": "stdout",
          "text": [
            "2023-04-25 15:10:59.506121: I tensorflow/core/platform/cpu_feature_guard.cc:182] This TensorFlow binary is optimized to use available CPU instructions in performance-critical operations.\n",
            "To enable the following instructions: AVX2 FMA, in other operations, rebuild TensorFlow with the appropriate compiler flags.\n",
            "2023-04-25 15:11:00.730824: W tensorflow/compiler/tf2tensorrt/utils/py_utils.cc:38] TF-TRT Warning: Could not find TensorRT\n",
            "\n",
            "New experiment created. View your TensorBoard at: https://tensorboard.dev/experiment/gH4EG9gHRoO1jI4rMwzN7A/\n",
            "\n",
            "\u001b[1m[2023-04-25T15:11:02]\u001b[0m Started scanning logdir.\n",
            "\u001b[1m[2023-04-25T15:11:05]\u001b[0m Total uploaded: 8065 scalars, 12 tensors (72 B), 0 binary objects\n",
            "\u001b[1m[2023-04-25T15:11:05]\u001b[0m Done scanning logdir.\n",
            "\n",
            "\n",
            "Done. View your TensorBoard at https://tensorboard.dev/experiment/gH4EG9gHRoO1jI4rMwzN7A/\n"
          ]
        }
      ]
    },
    {
      "cell_type": "code",
      "source": [
        "!tensorboard dev list"
      ],
      "metadata": {
        "colab": {
          "base_uri": "https://localhost:8080/"
        },
        "id": "DUIbqplrskFg",
        "outputId": "858f4a12-8432-4a9b-c252-3ab83cc2905a"
      },
      "execution_count": 8,
      "outputs": [
        {
          "output_type": "stream",
          "name": "stdout",
          "text": [
            "2023-04-25 15:11:07.680089: I tensorflow/core/platform/cpu_feature_guard.cc:182] This TensorFlow binary is optimized to use available CPU instructions in performance-critical operations.\n",
            "To enable the following instructions: AVX2 FMA, in other operations, rebuild TensorFlow with the appropriate compiler flags.\n",
            "2023-04-25 15:11:08.762291: W tensorflow/compiler/tf2tensorrt/utils/py_utils.cc:38] TF-TRT Warning: Could not find TensorRT\n",
            "https://tensorboard.dev/experiment/gH4EG9gHRoO1jI4rMwzN7A/\n",
            "\tName                 Finetune MultiVerS on CLIMATE-FEVER\n",
            "\tDescription          Logs from different lauches\n",
            "\tId                   gH4EG9gHRoO1jI4rMwzN7A\n",
            "\tCreated              2023-04-25 15:11:02 (9 seconds ago)\n",
            "\tUpdated              2023-04-25 15:11:05 (6 seconds ago)\n",
            "\tRuns                 4\n",
            "\tTags                 45\n",
            "\tScalars              8065\n",
            "\tTensor bytes         1032\n",
            "\tBinary object bytes  0\n",
            "https://tensorboard.dev/experiment/8gYwYYKcQBaH5MkZSpb00g/\n",
            "\tName                 Word embeddings TF tutorial\n",
            "\tDescription          [No Description]\n",
            "\tId                   8gYwYYKcQBaH5MkZSpb00g\n",
            "\tCreated              2022-07-20 04:51:47\n",
            "\tUpdated              2022-07-20 04:51:48\n",
            "\tRuns                 2\n",
            "\tTags                 5\n",
            "\tScalars              90\n",
            "\tTensor bytes         0\n",
            "\tBinary object bytes  67232\n",
            "https://tensorboard.dev/experiment/2gqHkC55SQywalCQsLDOAQ/\n",
            "\tName                 milestone project experiments\n",
            "\tDescription          [No Description]\n",
            "\tId                   2gqHkC55SQywalCQsLDOAQ\n",
            "\tCreated              2022-06-27 05:45:10\n",
            "\tUpdated              2022-06-27 05:45:12\n",
            "\tRuns                 4\n",
            "\tTags                 5\n",
            "\tScalars              48\n",
            "\tTensor bytes         0\n",
            "\tBinary object bytes  2138945\n",
            "https://tensorboard.dev/experiment/y9KvmTvqT92KxWYkdv7VFQ/\n",
            "\tName                 Transfer learnin experiments with 10 Food101 Classes\n",
            "\tDescription          A series of Transfer learning experiments with different amounts of data\n",
            "\tId                   y9KvmTvqT92KxWYkdv7VFQ\n",
            "\tCreated              2022-06-08 04:10:08\n",
            "\tUpdated              2022-06-08 04:10:13\n",
            "\tRuns                 10\n",
            "\tTags                 5\n",
            "\tScalars              162\n",
            "\tTensor bytes         0\n",
            "\tBinary object bytes  4432628\n",
            "https://tensorboard.dev/experiment/eLD4yrhGQyCaUkCZ5lxEPw/\n",
            "\tName                 effnet vs resnet vs mobnet\n",
            "\tDescription          compare different feature extraction architecture\n",
            "\tId                   eLD4yrhGQyCaUkCZ5lxEPw\n",
            "\tCreated              2022-05-22 19:06:20\n",
            "\tUpdated              2022-05-22 19:06:27\n",
            "\tRuns                 6\n",
            "\tTags                 5\n",
            "\tScalars              150\n",
            "\tTensor bytes         0\n",
            "\tBinary object bytes  7433651\n",
            "Total: 5 experiment(s)\n"
          ]
        }
      ]
    },
    {
      "cell_type": "code",
      "source": [
        "!tensorboard dev delete --experiment_id jREyxGbVQG6H5tY0AhqMsQ\n"
      ],
      "metadata": {
        "colab": {
          "base_uri": "https://localhost:8080/"
        },
        "id": "hC2VnVTvulLq",
        "outputId": "3d5c4ff3-6ba5-47cc-db1f-95405bb566e2"
      },
      "execution_count": null,
      "outputs": [
        {
          "output_type": "stream",
          "name": "stdout",
          "text": [
            "2023-04-24 05:29:27.650571: I tensorflow/core/platform/cpu_feature_guard.cc:182] This TensorFlow binary is optimized to use available CPU instructions in performance-critical operations.\n",
            "To enable the following instructions: AVX2 FMA, in other operations, rebuild TensorFlow with the appropriate compiler flags.\n",
            "2023-04-24 05:29:28.673967: W tensorflow/compiler/tf2tensorrt/utils/py_utils.cc:38] TF-TRT Warning: Could not find TensorRT\n",
            "Deleted experiment jREyxGbVQG6H5tY0AhqMsQ.\n"
          ]
        }
      ]
    },
    {
      "cell_type": "code",
      "source": [],
      "metadata": {
        "id": "wgLMGioHvP5E"
      },
      "execution_count": null,
      "outputs": []
    }
  ]
}