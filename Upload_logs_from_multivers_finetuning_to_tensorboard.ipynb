{
  "nbformat": 4,
  "nbformat_minor": 0,
  "metadata": {
    "colab": {
      "provenance": [],
      "include_colab_link": true
    },
    "kernelspec": {
      "name": "python3",
      "display_name": "Python 3"
    },
    "language_info": {
      "name": "python"
    }
  },
  "cells": [
    {
      "cell_type": "markdown",
      "metadata": {
        "id": "view-in-github",
        "colab_type": "text"
      },
      "source": [
        "<a href=\"https://colab.research.google.com/github/aaalexlit/omdena_climate_change_challenge_notebooks/blob/main/Upload_logs_from_multivers_finetuning_to_tensorboard.ipynb\" target=\"_parent\"><img src=\"https://colab.research.google.com/assets/colab-badge.svg\" alt=\"Open In Colab\"/></a>"
      ]
    },
    {
      "cell_type": "code",
      "execution_count": null,
      "metadata": {
        "colab": {
          "base_uri": "https://localhost:8080/"
        },
        "id": "dW29zX10rN1V",
        "outputId": "2a758aa8-4ba5-40e8-d9b5-e35ff492d37b"
      },
      "outputs": [
        {
          "output_type": "stream",
          "name": "stdout",
          "text": [
            "Copying gs://cc-evidences-data/multivers_checkpoints/covidfact/events.out.tfevents.1682227606.9f30b14ca98c.2526.0...\n",
            "Copying gs://cc-evidences-data/multivers_checkpoints/covidfact/events.out.tfevents.1682241468.61072d489c09.1180.0...\n",
            "- [2/2 files][347.3 KiB/347.3 KiB] 100% Done                                    \n",
            "Operation completed over 2 objects/347.3 KiB.                                    \n"
          ]
        }
      ],
      "source": [
        "!gsutil -m cp \\\n",
        "  \"gs://cc-evidences-data/multivers_checkpoints/covidfact/events.out.tfevents.1682227606.9f30b14ca98c.2526.0\" \\\n",
        "  \"gs://cc-evidences-data/multivers_checkpoints/covidfact/events.out.tfevents.1682241468.61072d489c09.1180.0\" \\\n",
        "  ."
      ]
    },
    {
      "cell_type": "code",
      "source": [
        "!tensorboard dev upload --logdir ./logs/ \\\n",
        "--name \"Finetune MultiVerS on CLIMATE-FEVER\" \\\n",
        "--description \"Logs from different lauches\" \\\n",
        "--one_shot"
      ],
      "metadata": {
        "colab": {
          "base_uri": "https://localhost:8080/"
        },
        "id": "wBPmmVFYrhoX",
        "outputId": "38930f92-367a-475c-da9c-82794e9e8b89"
      },
      "execution_count": null,
      "outputs": [
        {
          "output_type": "stream",
          "name": "stdout",
          "text": [
            "2023-04-24 05:29:48.585628: I tensorflow/core/platform/cpu_feature_guard.cc:182] This TensorFlow binary is optimized to use available CPU instructions in performance-critical operations.\n",
            "To enable the following instructions: AVX2 FMA, in other operations, rebuild TensorFlow with the appropriate compiler flags.\n",
            "2023-04-24 05:29:49.591672: W tensorflow/compiler/tf2tensorrt/utils/py_utils.cc:38] TF-TRT Warning: Could not find TensorRT\n",
            "\n",
            "New experiment created. View your TensorBoard at: https://tensorboard.dev/experiment/G68UkT6dTMykQq6mFkpXfA/\n",
            "\n",
            "\u001b[1m[2023-04-24T05:29:51]\u001b[0m Started scanning logdir.\n",
            "\u001b[1m[2023-04-24T05:29:53]\u001b[0m Total uploaded: 5347 scalars, 6 tensors (36 B), 0 binary objects\n",
            "\u001b[1m[2023-04-24T05:29:53]\u001b[0m Done scanning logdir.\n",
            "\n",
            "\n",
            "Done. View your TensorBoard at https://tensorboard.dev/experiment/G68UkT6dTMykQq6mFkpXfA/\n"
          ]
        }
      ]
    },
    {
      "cell_type": "code",
      "source": [
        "!tensorboard dev list"
      ],
      "metadata": {
        "colab": {
          "base_uri": "https://localhost:8080/"
        },
        "id": "DUIbqplrskFg",
        "outputId": "0718b5de-0517-4862-bc9a-02a3b40b45b8"
      },
      "execution_count": null,
      "outputs": [
        {
          "output_type": "stream",
          "name": "stdout",
          "text": [
            "2023-04-24 05:26:32.552329: I tensorflow/core/platform/cpu_feature_guard.cc:182] This TensorFlow binary is optimized to use available CPU instructions in performance-critical operations.\n",
            "To enable the following instructions: AVX2 FMA, in other operations, rebuild TensorFlow with the appropriate compiler flags.\n",
            "2023-04-24 05:26:33.706539: W tensorflow/compiler/tf2tensorrt/utils/py_utils.cc:38] TF-TRT Warning: Could not find TensorRT\n",
            "https://tensorboard.dev/experiment/jREyxGbVQG6H5tY0AhqMsQ/\n",
            "\tName                 Finetune MultiVerS on CLIMATE-FEVER\n",
            "\tDescription          Logs from different lauches\n",
            "\tId                   jREyxGbVQG6H5tY0AhqMsQ\n",
            "\tCreated              2023-04-24 05:18:33 (8 minutes ago)\n",
            "\tUpdated              2023-04-24 05:18:35 (8 minutes ago)\n",
            "\tRuns                 1\n",
            "\tTags                 45\n",
            "\tScalars              5347\n",
            "\tTensor bytes         516\n",
            "\tBinary object bytes  0\n",
            "Total: 1 experiment(s)\n"
          ]
        }
      ]
    },
    {
      "cell_type": "code",
      "source": [
        "!tensorboard dev delete --experiment_id jREyxGbVQG6H5tY0AhqMsQ\n"
      ],
      "metadata": {
        "colab": {
          "base_uri": "https://localhost:8080/"
        },
        "id": "hC2VnVTvulLq",
        "outputId": "3d5c4ff3-6ba5-47cc-db1f-95405bb566e2"
      },
      "execution_count": null,
      "outputs": [
        {
          "output_type": "stream",
          "name": "stdout",
          "text": [
            "2023-04-24 05:29:27.650571: I tensorflow/core/platform/cpu_feature_guard.cc:182] This TensorFlow binary is optimized to use available CPU instructions in performance-critical operations.\n",
            "To enable the following instructions: AVX2 FMA, in other operations, rebuild TensorFlow with the appropriate compiler flags.\n",
            "2023-04-24 05:29:28.673967: W tensorflow/compiler/tf2tensorrt/utils/py_utils.cc:38] TF-TRT Warning: Could not find TensorRT\n",
            "Deleted experiment jREyxGbVQG6H5tY0AhqMsQ.\n"
          ]
        }
      ]
    },
    {
      "cell_type": "code",
      "source": [],
      "metadata": {
        "id": "wgLMGioHvP5E"
      },
      "execution_count": null,
      "outputs": []
    }
  ]
}