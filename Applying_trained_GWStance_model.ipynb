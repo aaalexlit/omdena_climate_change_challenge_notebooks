{
  "nbformat": 4,
  "nbformat_minor": 0,
  "metadata": {
    "colab": {
      "provenance": [],
      "authorship_tag": "ABX9TyO3nxDOcHO4iWYfpMaGUllm",
      "include_colab_link": true
    },
    "kernelspec": {
      "name": "python3",
      "display_name": "Python 3"
    },
    "language_info": {
      "name": "python"
    }
  },
  "cells": [
    {
      "cell_type": "markdown",
      "metadata": {
        "id": "view-in-github",
        "colab_type": "text"
      },
      "source": [
        "<a href=\"https://colab.research.google.com/github/aaalexlit/omdena_climate_change_challenge_notebooks/blob/main/Applying_trained_GWStance_model.ipynb\" target=\"_parent\"><img src=\"https://colab.research.google.com/assets/colab-badge.svg\" alt=\"Open In Colab\"/></a>"
      ]
    },
    {
      "cell_type": "code",
      "source": [
        "## we need this to be able to download big-ish files from GDrive\n",
        "%%capture\n",
        "!pip3 install --upgrade gdown"
      ],
      "metadata": {
        "id": "rUDqbiK3E_r0"
      },
      "execution_count": 11,
      "outputs": []
    },
    {
      "cell_type": "code",
      "execution_count": 12,
      "metadata": {
        "colab": {
          "base_uri": "https://localhost:8080/"
        },
        "id": "k2m9A258Ea30",
        "outputId": "db1d4862-e022-47c4-d65f-6b382adc339b"
      },
      "outputs": [
        {
          "output_type": "stream",
          "name": "stdout",
          "text": [
            "Downloading...\n",
            "From: https://drive.google.com/uc?id=12rVg_bpuDfZbdWRtEN2Jf6SNyMEnax76\n",
            "To: /content/final_model.tar.gz\n",
            "100% 405M/405M [00:03<00:00, 114MB/s] \n"
          ]
        }
      ],
      "source": [
        "!gdown https://drive.google.com/uc?id=12rVg_bpuDfZbdWRtEN2Jf6SNyMEnax76"
      ]
    },
    {
      "cell_type": "code",
      "source": [
        "!git clone https://github.com/yiweiluo/GWStance.git"
      ],
      "metadata": {
        "colab": {
          "base_uri": "https://localhost:8080/"
        },
        "id": "inXf3QQCFTiH",
        "outputId": "de227198-d713-435e-e860-bc5ec1906200"
      },
      "execution_count": 13,
      "outputs": [
        {
          "output_type": "stream",
          "name": "stdout",
          "text": [
            "fatal: destination path 'GWStance' already exists and is not an empty directory.\n"
          ]
        }
      ]
    },
    {
      "cell_type": "code",
      "source": [
        "!tar -xvzf final_model.tar.gz"
      ],
      "metadata": {
        "colab": {
          "base_uri": "https://localhost:8080/"
        },
        "id": "gLrYO5Q1E4mK",
        "outputId": "d4e9f4f9-fd43-45b2-cbcf-40ea44673d97"
      },
      "execution_count": 14,
      "outputs": [
        {
          "output_type": "stream",
          "name": "stdout",
          "text": [
            "final_model/\n",
            "final_model/no-dev/\n",
            "final_model/no-dev/tokenizer_config.json\n",
            "final_model/no-dev/training_args.bin\n",
            "final_model/no-dev/pytorch_model.bin\n",
            "final_model/no-dev/config.json\n",
            "final_model/no-dev/vocab.txt\n",
            "final_model/no-dev/special_tokens_map.json\n",
            "final_model/config.json\n"
          ]
        }
      ]
    },
    {
      "cell_type": "code",
      "source": [
        "!source /content/gwstance/bin/activate; pip install scipy pandas matplotlib scikit-learn tqdm tensorboard boto3"
      ],
      "metadata": {
        "colab": {
          "base_uri": "https://localhost:8080/"
        },
        "id": "Pl_Fs6Q5eY-n",
        "outputId": "6d420a54-b31b-4c0c-d9c3-a5fe9733b12a"
      },
      "execution_count": 25,
      "outputs": [
        {
          "output_type": "stream",
          "name": "stdout",
          "text": [
            "Looking in indexes: https://pypi.org/simple, https://us-python.pkg.dev/colab-wheels/public/simple/\n",
            "Collecting scipy\n",
            "  Downloading scipy-1.10.1-cp39-cp39-manylinux_2_17_x86_64.manylinux2014_x86_64.whl (34.5 MB)\n",
            "\u001b[2K     \u001b[90m━━━━━━━━━━━━━━━━━━━━━━━━━━━━━━━━━━━━━━━━\u001b[0m \u001b[32m34.5/34.5 MB\u001b[0m \u001b[31m22.0 MB/s\u001b[0m eta \u001b[36m0:00:00\u001b[0m\n",
            "\u001b[?25hCollecting pandas\n",
            "  Downloading pandas-1.5.3-cp39-cp39-manylinux_2_17_x86_64.manylinux2014_x86_64.whl (12.2 MB)\n",
            "\u001b[2K     \u001b[90m━━━━━━━━━━━━━━━━━━━━━━━━━━━━━━━━━━━━━━━━\u001b[0m \u001b[32m12.2/12.2 MB\u001b[0m \u001b[31m71.2 MB/s\u001b[0m eta \u001b[36m0:00:00\u001b[0m\n",
            "\u001b[?25hRequirement already satisfied: matplotlib in ./gwstance/lib/python3.9/site-packages (3.7.1)\n",
            "Collecting scikit-learn\n",
            "  Downloading scikit_learn-1.2.2-cp39-cp39-manylinux_2_17_x86_64.manylinux2014_x86_64.whl (9.6 MB)\n",
            "\u001b[2K     \u001b[90m━━━━━━━━━━━━━━━━━━━━━━━━━━━━━━━━━━━━━━━━\u001b[0m \u001b[32m9.6/9.6 MB\u001b[0m \u001b[31m62.4 MB/s\u001b[0m eta \u001b[36m0:00:00\u001b[0m\n",
            "\u001b[?25hRequirement already satisfied: tqdm in ./gwstance/lib/python3.9/site-packages (4.65.0)\n",
            "Collecting tensorboard\n",
            "  Downloading tensorboard-2.12.0-py3-none-any.whl (5.6 MB)\n",
            "\u001b[2K     \u001b[90m━━━━━━━━━━━━━━━━━━━━━━━━━━━━━━━━━━━━━━━━\u001b[0m \u001b[32m5.6/5.6 MB\u001b[0m \u001b[31m68.7 MB/s\u001b[0m eta \u001b[36m0:00:00\u001b[0m\n",
            "\u001b[?25hCollecting boto3\n",
            "  Downloading boto3-1.26.89-py3-none-any.whl (134 kB)\n",
            "\u001b[2K     \u001b[90m━━━━━━━━━━━━━━━━━━━━━━━━━━━━━━━━━━━━━\u001b[0m \u001b[32m134.7/134.7 kB\u001b[0m \u001b[31m770.6 kB/s\u001b[0m eta \u001b[36m0:00:00\u001b[0m\n",
            "\u001b[?25hRequirement already satisfied: numpy<1.27.0,>=1.19.5 in ./gwstance/lib/python3.9/site-packages (from scipy) (1.24.2)\n",
            "Collecting pytz>=2020.1\n",
            "  Downloading pytz-2022.7.1-py2.py3-none-any.whl (499 kB)\n",
            "\u001b[2K     \u001b[90m━━━━━━━━━━━━━━━━━━━━━━━━━━━━━━━━━━━━━━\u001b[0m \u001b[32m499.4/499.4 kB\u001b[0m \u001b[31m29.0 MB/s\u001b[0m eta \u001b[36m0:00:00\u001b[0m\n",
            "\u001b[?25hRequirement already satisfied: python-dateutil>=2.8.1 in ./gwstance/lib/python3.9/site-packages (from pandas) (2.8.2)\n",
            "Requirement already satisfied: cycler>=0.10 in ./gwstance/lib/python3.9/site-packages (from matplotlib) (0.11.0)\n",
            "Requirement already satisfied: contourpy>=1.0.1 in ./gwstance/lib/python3.9/site-packages (from matplotlib) (1.0.7)\n",
            "Requirement already satisfied: pillow>=6.2.0 in ./gwstance/lib/python3.9/site-packages (from matplotlib) (9.4.0)\n",
            "Requirement already satisfied: pyparsing>=2.3.1 in ./gwstance/lib/python3.9/site-packages (from matplotlib) (3.0.9)\n",
            "Requirement already satisfied: importlib-resources>=3.2.0 in ./gwstance/lib/python3.9/site-packages (from matplotlib) (5.12.0)\n",
            "Requirement already satisfied: kiwisolver>=1.0.1 in ./gwstance/lib/python3.9/site-packages (from matplotlib) (1.4.4)\n",
            "Requirement already satisfied: packaging>=20.0 in ./gwstance/lib/python3.9/site-packages (from matplotlib) (23.0)\n",
            "Requirement already satisfied: fonttools>=4.22.0 in ./gwstance/lib/python3.9/site-packages (from matplotlib) (4.39.0)\n",
            "Collecting threadpoolctl>=2.0.0\n",
            "  Downloading threadpoolctl-3.1.0-py3-none-any.whl (14 kB)\n",
            "Collecting joblib>=1.1.1\n",
            "  Downloading joblib-1.2.0-py3-none-any.whl (297 kB)\n",
            "\u001b[2K     \u001b[90m━━━━━━━━━━━━━━━━━━━━━━━━━━━━━━━━━━━━━━\u001b[0m \u001b[32m298.0/298.0 kB\u001b[0m \u001b[31m22.7 MB/s\u001b[0m eta \u001b[36m0:00:00\u001b[0m\n",
            "\u001b[?25hRequirement already satisfied: setuptools>=41.0.0 in ./gwstance/lib/python3.9/site-packages (from tensorboard) (67.4.0)\n",
            "Collecting absl-py>=0.4\n",
            "  Downloading absl_py-1.4.0-py3-none-any.whl (126 kB)\n",
            "\u001b[2K     \u001b[90m━━━━━━━━━━━━━━━━━━━━━━━━━━━━━━━━━━━━━━\u001b[0m \u001b[32m126.5/126.5 kB\u001b[0m \u001b[31m14.0 MB/s\u001b[0m eta \u001b[36m0:00:00\u001b[0m\n",
            "\u001b[?25hCollecting grpcio>=1.48.2\n",
            "  Downloading grpcio-1.51.3-cp39-cp39-manylinux_2_17_x86_64.manylinux2014_x86_64.whl (4.8 MB)\n",
            "\u001b[2K     \u001b[90m━━━━━━━━━━━━━━━━━━━━━━━━━━━━━━━━━━━━━━━━\u001b[0m \u001b[32m4.8/4.8 MB\u001b[0m \u001b[31m31.6 MB/s\u001b[0m eta \u001b[36m0:00:00\u001b[0m\n",
            "\u001b[?25hCollecting werkzeug>=1.0.1\n",
            "  Downloading Werkzeug-2.2.3-py3-none-any.whl (233 kB)\n",
            "\u001b[2K     \u001b[90m━━━━━━━━━━━━━━━━━━━━━━━━━━━━━━━━━━━━━━\u001b[0m \u001b[32m233.6/233.6 kB\u001b[0m \u001b[31m17.8 MB/s\u001b[0m eta \u001b[36m0:00:00\u001b[0m\n",
            "\u001b[?25hCollecting tensorboard-plugin-wit>=1.6.0\n",
            "  Downloading tensorboard_plugin_wit-1.8.1-py3-none-any.whl (781 kB)\n",
            "\u001b[2K     \u001b[90m━━━━━━━━━━━━━━━━━━━━━━━━━━━━━━━━━━━━━━\u001b[0m \u001b[32m781.3/781.3 kB\u001b[0m \u001b[31m30.1 MB/s\u001b[0m eta \u001b[36m0:00:00\u001b[0m\n",
            "\u001b[?25hRequirement already satisfied: requests<3,>=2.21.0 in ./gwstance/lib/python3.9/site-packages (from tensorboard) (2.28.2)\n",
            "Collecting google-auth-oauthlib<0.5,>=0.4.1\n",
            "  Downloading google_auth_oauthlib-0.4.6-py2.py3-none-any.whl (18 kB)\n",
            "Collecting google-auth<3,>=1.6.3\n",
            "  Downloading google_auth-2.16.2-py2.py3-none-any.whl (177 kB)\n",
            "\u001b[2K     \u001b[90m━━━━━━━━━━━━━━━━━━━━━━━━━━━━━━━━━━━━━━\u001b[0m \u001b[32m177.2/177.2 kB\u001b[0m \u001b[31m17.8 MB/s\u001b[0m eta \u001b[36m0:00:00\u001b[0m\n",
            "\u001b[?25hCollecting markdown>=2.6.8\n",
            "  Downloading Markdown-3.4.1-py3-none-any.whl (93 kB)\n",
            "\u001b[2K     \u001b[90m━━━━━━━━━━━━━━━━━━━━━━━━━━━━━━━━━━━━━━━━\u001b[0m \u001b[32m93.3/93.3 kB\u001b[0m \u001b[31m8.5 MB/s\u001b[0m eta \u001b[36m0:00:00\u001b[0m\n",
            "\u001b[?25hRequirement already satisfied: wheel>=0.26 in ./gwstance/lib/python3.9/site-packages (from tensorboard) (0.38.4)\n",
            "Collecting tensorboard-data-server<0.8.0,>=0.7.0\n",
            "  Downloading tensorboard_data_server-0.7.0-py3-none-manylinux2014_x86_64.whl (6.6 MB)\n",
            "\u001b[2K     \u001b[90m━━━━━━━━━━━━━━━━━━━━━━━━━━━━━━━━━━━━━━━━\u001b[0m \u001b[32m6.6/6.6 MB\u001b[0m \u001b[31m36.1 MB/s\u001b[0m eta \u001b[36m0:00:00\u001b[0m\n",
            "\u001b[?25hCollecting protobuf>=3.19.6\n",
            "  Downloading protobuf-4.22.1-cp37-abi3-manylinux2014_x86_64.whl (302 kB)\n",
            "\u001b[2K     \u001b[90m━━━━━━━━━━━━━━━━━━━━━━━━━━━━━━━━━━━━━━\u001b[0m \u001b[32m302.4/302.4 kB\u001b[0m \u001b[31m25.6 MB/s\u001b[0m eta \u001b[36m0:00:00\u001b[0m\n",
            "\u001b[?25hCollecting botocore<1.30.0,>=1.29.89\n",
            "  Downloading botocore-1.29.89-py3-none-any.whl (10.5 MB)\n",
            "\u001b[2K     \u001b[90m━━━━━━━━━━━━━━━━━━━━━━━━━━━━━━━━━━━━━━━━\u001b[0m \u001b[32m10.5/10.5 MB\u001b[0m \u001b[31m58.7 MB/s\u001b[0m eta \u001b[36m0:00:00\u001b[0m\n",
            "\u001b[?25hCollecting s3transfer<0.7.0,>=0.6.0\n",
            "  Downloading s3transfer-0.6.0-py3-none-any.whl (79 kB)\n",
            "\u001b[2K     \u001b[90m━━━━━━━━━━━━━━━━━━━━━━━━━━━━━━━━━━━━━━━━\u001b[0m \u001b[32m79.6/79.6 kB\u001b[0m \u001b[31m10.6 MB/s\u001b[0m eta \u001b[36m0:00:00\u001b[0m\n",
            "\u001b[?25hCollecting jmespath<2.0.0,>=0.7.1\n",
            "  Downloading jmespath-1.0.1-py3-none-any.whl (20 kB)\n",
            "Requirement already satisfied: urllib3<1.27,>=1.25.4 in ./gwstance/lib/python3.9/site-packages (from botocore<1.30.0,>=1.29.89->boto3) (1.26.15)\n",
            "Collecting cachetools<6.0,>=2.0.0\n",
            "  Downloading cachetools-5.3.0-py3-none-any.whl (9.3 kB)\n",
            "Collecting pyasn1-modules>=0.2.1\n",
            "  Downloading pyasn1_modules-0.2.8-py2.py3-none-any.whl (155 kB)\n",
            "\u001b[2K     \u001b[90m━━━━━━━━━━━━━━━━━━━━━━━━━━━━━━━━━━━━━━\u001b[0m \u001b[32m155.3/155.3 kB\u001b[0m \u001b[31m15.8 MB/s\u001b[0m eta \u001b[36m0:00:00\u001b[0m\n",
            "\u001b[?25hCollecting rsa<5,>=3.1.4\n",
            "  Downloading rsa-4.9-py3-none-any.whl (34 kB)\n",
            "Requirement already satisfied: six>=1.9.0 in ./gwstance/lib/python3.9/site-packages (from google-auth<3,>=1.6.3->tensorboard) (1.16.0)\n",
            "Collecting requests-oauthlib>=0.7.0\n",
            "  Downloading requests_oauthlib-1.3.1-py2.py3-none-any.whl (23 kB)\n",
            "Requirement already satisfied: zipp>=3.1.0 in ./gwstance/lib/python3.9/site-packages (from importlib-resources>=3.2.0->matplotlib) (3.15.0)\n",
            "Collecting importlib-metadata>=4.4\n",
            "  Downloading importlib_metadata-6.0.0-py3-none-any.whl (21 kB)\n",
            "Requirement already satisfied: charset-normalizer<4,>=2 in ./gwstance/lib/python3.9/site-packages (from requests<3,>=2.21.0->tensorboard) (3.1.0)\n",
            "Requirement already satisfied: certifi>=2017.4.17 in ./gwstance/lib/python3.9/site-packages (from requests<3,>=2.21.0->tensorboard) (2022.12.7)\n",
            "Requirement already satisfied: idna<4,>=2.5 in ./gwstance/lib/python3.9/site-packages (from requests<3,>=2.21.0->tensorboard) (3.4)\n",
            "Collecting MarkupSafe>=2.1.1\n",
            "  Downloading MarkupSafe-2.1.2-cp39-cp39-manylinux_2_17_x86_64.manylinux2014_x86_64.whl (25 kB)\n",
            "Collecting pyasn1<0.5.0,>=0.4.6\n",
            "  Downloading pyasn1-0.4.8-py2.py3-none-any.whl (77 kB)\n",
            "\u001b[2K     \u001b[90m━━━━━━━━━━━━━━━━━━━━━━━━━━━━━━━━━━━━━━━━\u001b[0m \u001b[32m77.1/77.1 kB\u001b[0m \u001b[31m6.3 MB/s\u001b[0m eta \u001b[36m0:00:00\u001b[0m\n",
            "\u001b[?25hCollecting oauthlib>=3.0.0\n",
            "  Downloading oauthlib-3.2.2-py3-none-any.whl (151 kB)\n",
            "\u001b[2K     \u001b[90m━━━━━━━━━━━━━━━━━━━━━━━━━━━━━━━━━━━━━━\u001b[0m \u001b[32m151.7/151.7 kB\u001b[0m \u001b[31m12.9 MB/s\u001b[0m eta \u001b[36m0:00:00\u001b[0m\n",
            "\u001b[?25hInstalling collected packages: tensorboard-plugin-wit, pytz, pyasn1, threadpoolctl, tensorboard-data-server, scipy, rsa, pyasn1-modules, protobuf, oauthlib, MarkupSafe, joblib, jmespath, importlib-metadata, grpcio, cachetools, absl-py, werkzeug, scikit-learn, requests-oauthlib, pandas, markdown, google-auth, botocore, s3transfer, google-auth-oauthlib, tensorboard, boto3\n",
            "Successfully installed MarkupSafe-2.1.2 absl-py-1.4.0 boto3-1.26.89 botocore-1.29.89 cachetools-5.3.0 google-auth-2.16.2 google-auth-oauthlib-0.4.6 grpcio-1.51.3 importlib-metadata-6.0.0 jmespath-1.0.1 joblib-1.2.0 markdown-3.4.1 oauthlib-3.2.2 pandas-1.5.3 protobuf-4.22.1 pyasn1-0.4.8 pyasn1-modules-0.2.8 pytz-2022.7.1 requests-oauthlib-1.3.1 rsa-4.9 s3transfer-0.6.0 scikit-learn-1.2.2 scipy-1.10.1 tensorboard-2.12.0 tensorboard-data-server-0.7.0 tensorboard-plugin-wit-1.8.1 threadpoolctl-3.1.0 werkzeug-2.2.3\n"
          ]
        }
      ]
    },
    {
      "cell_type": "code",
      "source": [
        "!source /content/gwstance/bin/activate; pip install torch torchvision"
      ],
      "metadata": {
        "colab": {
          "base_uri": "https://localhost:8080/"
        },
        "id": "zmrdfzM1fLtr",
        "outputId": "e27fdf9b-fff5-45c6-ff69-702462b92494"
      },
      "execution_count": 29,
      "outputs": [
        {
          "output_type": "stream",
          "name": "stdout",
          "text": [
            "Looking in indexes: https://pypi.org/simple, https://us-python.pkg.dev/colab-wheels/public/simple/\n",
            "Collecting torch\n",
            "  Using cached torch-1.13.1-cp39-cp39-manylinux1_x86_64.whl (887.4 MB)\n",
            "Collecting torchvision\n",
            "  Using cached torchvision-0.14.1-cp39-cp39-manylinux1_x86_64.whl (24.2 MB)\n",
            "Requirement already satisfied: typing-extensions in ./gwstance/lib/python3.9/site-packages (from torch) (4.5.0)\n",
            "Collecting nvidia-cuda-runtime-cu11==11.7.99\n",
            "  Using cached nvidia_cuda_runtime_cu11-11.7.99-py3-none-manylinux1_x86_64.whl (849 kB)\n",
            "Collecting nvidia-cuda-nvrtc-cu11==11.7.99\n",
            "  Using cached nvidia_cuda_nvrtc_cu11-11.7.99-2-py3-none-manylinux1_x86_64.whl (21.0 MB)\n",
            "Collecting nvidia-cudnn-cu11==8.5.0.96\n",
            "  Using cached nvidia_cudnn_cu11-8.5.0.96-2-py3-none-manylinux1_x86_64.whl (557.1 MB)\n",
            "Collecting nvidia-cublas-cu11==11.10.3.66\n",
            "  Using cached nvidia_cublas_cu11-11.10.3.66-py3-none-manylinux1_x86_64.whl (317.1 MB)\n",
            "Requirement already satisfied: wheel in ./gwstance/lib/python3.9/site-packages (from nvidia-cublas-cu11==11.10.3.66->torch) (0.38.4)\n",
            "Requirement already satisfied: setuptools in ./gwstance/lib/python3.9/site-packages (from nvidia-cublas-cu11==11.10.3.66->torch) (67.4.0)\n",
            "Requirement already satisfied: requests in ./gwstance/lib/python3.9/site-packages (from torchvision) (2.28.2)\n",
            "Requirement already satisfied: numpy in ./gwstance/lib/python3.9/site-packages (from torchvision) (1.24.2)\n",
            "Requirement already satisfied: pillow!=8.3.*,>=5.3.0 in ./gwstance/lib/python3.9/site-packages (from torchvision) (9.4.0)\n",
            "Requirement already satisfied: certifi>=2017.4.17 in ./gwstance/lib/python3.9/site-packages (from requests->torchvision) (2022.12.7)\n",
            "Requirement already satisfied: charset-normalizer<4,>=2 in ./gwstance/lib/python3.9/site-packages (from requests->torchvision) (3.1.0)\n",
            "Requirement already satisfied: idna<4,>=2.5 in ./gwstance/lib/python3.9/site-packages (from requests->torchvision) (3.4)\n",
            "Requirement already satisfied: urllib3<1.27,>=1.21.1 in ./gwstance/lib/python3.9/site-packages (from requests->torchvision) (1.26.15)\n",
            "Installing collected packages: nvidia-cuda-runtime-cu11, nvidia-cuda-nvrtc-cu11, nvidia-cublas-cu11, nvidia-cudnn-cu11, torch, torchvision\n",
            "Successfully installed nvidia-cublas-cu11-11.10.3.66 nvidia-cuda-nvrtc-cu11-11.7.99 nvidia-cuda-runtime-cu11-11.7.99 nvidia-cudnn-cu11-8.5.0.96 torch-1.13.1 torchvision-0.14.1\n"
          ]
        }
      ]
    },
    {
      "cell_type": "code",
      "source": [
        "!pip install virtualenv\n",
        "!virtualenv gwstance\n",
        "!source /content/gwstance/bin/activate; pip install transformers\n"
      ],
      "metadata": {
        "colab": {
          "base_uri": "https://localhost:8080/"
        },
        "id": "GOMwapmyFrfR",
        "outputId": "165d262e-ffd7-4398-b642-a5d9e6b80a2e"
      },
      "execution_count": 15,
      "outputs": [
        {
          "output_type": "stream",
          "name": "stdout",
          "text": [
            "Looking in indexes: https://pypi.org/simple, https://us-python.pkg.dev/colab-wheels/public/simple/\n",
            "Requirement already satisfied: virtualenv in /usr/local/lib/python3.9/dist-packages (20.20.0)\n",
            "Requirement already satisfied: platformdirs<4,>=2.4 in /usr/local/lib/python3.9/dist-packages (from virtualenv) (3.1.0)\n",
            "Requirement already satisfied: filelock<4,>=3.4.1 in /usr/local/lib/python3.9/dist-packages (from virtualenv) (3.9.0)\n",
            "Requirement already satisfied: distlib<1,>=0.3.6 in /usr/local/lib/python3.9/dist-packages (from virtualenv) (0.3.6)\n",
            "created virtual environment CPython3.9.16.final.0-64 in 1046ms\n",
            "  creator CPython3Posix(dest=/content/gwstance, clear=False, no_vcs_ignore=False, global=False)\n",
            "  seeder FromAppData(download=False, pip=bundle, setuptools=bundle, wheel=bundle, via=copy, app_data_dir=/root/.local/share/virtualenv)\n",
            "    added seed packages: PyYAML==6.0, certifi==2022.12.7, charset_normalizer==3.1.0, filelock==3.9.0, huggingface_hub==0.13.1, idna==3.4, numpy==1.24.2, packaging==23.0, pip==23.0.1, regex==2022.10.31, requests==2.28.2, setuptools==67.4.0, tokenizers==0.13.2, tqdm==4.65.0, transformers==4.26.1, typing_extensions==4.5.0, urllib3==1.26.15, wheel==0.38.4\n",
            "  activators BashActivator,CShellActivator,FishActivator,NushellActivator,PowerShellActivator,PythonActivator\n",
            "Looking in indexes: https://pypi.org/simple, https://us-python.pkg.dev/colab-wheels/public/simple/\n",
            "Requirement already satisfied: transformers in ./gwstance/lib/python3.9/site-packages (4.26.1)\n",
            "Requirement already satisfied: filelock in ./gwstance/lib/python3.9/site-packages (from transformers) (3.9.0)\n",
            "Requirement already satisfied: packaging>=20.0 in ./gwstance/lib/python3.9/site-packages (from transformers) (23.0)\n",
            "Requirement already satisfied: regex!=2019.12.17 in ./gwstance/lib/python3.9/site-packages (from transformers) (2022.10.31)\n",
            "Requirement already satisfied: numpy>=1.17 in ./gwstance/lib/python3.9/site-packages (from transformers) (1.24.2)\n",
            "Requirement already satisfied: huggingface-hub<1.0,>=0.11.0 in ./gwstance/lib/python3.9/site-packages (from transformers) (0.13.1)\n",
            "Requirement already satisfied: tokenizers!=0.11.3,<0.14,>=0.11.1 in ./gwstance/lib/python3.9/site-packages (from transformers) (0.13.2)\n",
            "Requirement already satisfied: tqdm>=4.27 in ./gwstance/lib/python3.9/site-packages (from transformers) (4.65.0)\n",
            "Requirement already satisfied: pyyaml>=5.1 in ./gwstance/lib/python3.9/site-packages (from transformers) (6.0)\n",
            "Requirement already satisfied: requests in ./gwstance/lib/python3.9/site-packages (from transformers) (2.28.2)\n",
            "Requirement already satisfied: typing-extensions>=3.7.4.3 in ./gwstance/lib/python3.9/site-packages (from huggingface-hub<1.0,>=0.11.0->transformers) (4.5.0)\n",
            "Requirement already satisfied: idna<4,>=2.5 in ./gwstance/lib/python3.9/site-packages (from requests->transformers) (3.4)\n",
            "Requirement already satisfied: certifi>=2017.4.17 in ./gwstance/lib/python3.9/site-packages (from requests->transformers) (2022.12.7)\n",
            "Requirement already satisfied: urllib3<1.27,>=1.21.1 in ./gwstance/lib/python3.9/site-packages (from requests->transformers) (1.26.15)\n",
            "Requirement already satisfied: charset-normalizer<4,>=2 in ./gwstance/lib/python3.9/site-packages (from requests->transformers) (3.1.0)\n"
          ]
        }
      ]
    },
    {
      "cell_type": "code",
      "source": [
        "!cp -r /content/GWStance/3_stance_detection/2_Stance_model/for_transformers/* /content/gwstance/lib/python3.9/site-packages/transformers"
      ],
      "metadata": {
        "id": "vVjMMLtlF0aU"
      },
      "execution_count": 16,
      "outputs": []
    },
    {
      "cell_type": "code",
      "source": [
        "!echo \"As long as humans continue polluting and heating the sea, marine ecosystems will become more delicate and less predictable. Each outbreak shows us the consequences of our own actions—if we choose to see them. unknown 1.0\" > test.tsv"
      ],
      "metadata": {
        "id": "L5YGEM4ZaDK5"
      },
      "execution_count": 20,
      "outputs": []
    },
    {
      "cell_type": "code",
      "source": [
        "!source /content/gwstance/bin/activate; python /content/GWStance/3_stance_detection/2_Stance_model/predict.py /content/final_model/config.json /content/final_model/no-dev --data-dir /content/ --transformers-dir /content/gwstance/lib/python3.9/site-packages/transformers"
      ],
      "metadata": {
        "colab": {
          "base_uri": "https://localhost:8080/"
        },
        "id": "YontL81DbZYD",
        "outputId": "7db7ba20-76ab-4c0e-d580-007c2105c8fe"
      },
      "execution_count": 32,
      "outputs": [
        {
          "output_type": "stream",
          "name": "stdout",
          "text": [
            "Using transformers dir: /content/gwstance/lib/python3.9/site-packages/transformers\n",
            "['python', '/content/gwstance/lib/python3.9/site-packages/transformers/run_weighted.py', '--model_type', 'bert', '--task_name', 'climate-weight', '--do_eval', '--pred_file_name', 'predictions', '--do_lower_case', '--data_dir', '/content/', '--max_seq_length', '256', '--per_gpu_eval_batch_size=16', '--per_gpu_train_batch_size=16', '--output_dir', '/content/final_model/no-dev', '--overwrite_cache', '--overwrite_output_dir', '--model_name_or_path', '/content/final_model/no-dev', '--eval_partition', 'test', '--num_labels', '3']\n",
            "/content/gwstance/lib/python3.9/site-packages/torch/cuda/__init__.py:497: UserWarning: Can't initialize NVML\n",
            "  warnings.warn(\"Can't initialize NVML\")\n",
            "03/12/2023 15:55:54 - WARNING - __main__ -   Process rank: -1, device: cpu, n_gpu: 0, distributed training: False, 16-bits training: False\n",
            "Num labels: 3\n",
            "You passed along `num_labels=3` with an incompatible id to label map: {'0': 'LABEL_0', '1': 'LABEL_1'}. The number of labels wil be overwritten to 2.\n",
            "You passed along `num_labels=3` with an incompatible id to label map: {'0': 'LABEL_0', '1': 'LABEL_1'}. The number of labels wil be overwritten to 2.\n",
            "03/12/2023 15:55:55 - INFO - __main__ -   Training/evaluation parameters Namespace(data_dir='/content/', model_type='bert', model_name_or_path='/content/final_model/no-dev', task_name='climate-weight', output_dir='/content/final_model/no-dev', config_name='', tokenizer_name='', cache_dir='', max_seq_length=256, do_train=False, do_eval=True, eval_partition='test', pred_file_name='predictions', evaluate_during_training=False, do_lower_case=True, do_text_b=False, per_gpu_train_batch_size=16, per_gpu_eval_batch_size=16, gradient_accumulation_steps=1, learning_rate=5e-05, weight_decay=0.0, adam_epsilon=1e-08, max_grad_norm=1.0, num_train_epochs=3.0, max_steps=-1, warmup_steps=0, logging_steps=500, save_steps=500, eval_all_checkpoints=False, no_cuda=False, overwrite_output_dir=True, overwrite_cache=True, seed=42, fp16=False, fp16_opt_level='O1', local_rank=-1, server_ip='', server_port='', num_labels=3, n_gpu=0, device=device(type='cpu'), output_mode='classification')\n",
            "You passed along `num_labels=3` with an incompatible id to label map: {'0': 'LABEL_0', '1': 'LABEL_1'}. The number of labels wil be overwritten to 2.\n",
            "03/12/2023 15:55:55 - INFO - __main__ -   Evaluate the following checkpoints: ['/content/final_model/no-dev']\n",
            "checkpoint: /content/final_model/no-dev\n",
            "You passed along `num_labels=3` with an incompatible id to label map: {'0': 'LABEL_0', '1': 'LABEL_1'}. The number of labels wil be overwritten to 2.\n",
            "cached_features_file: /content/cached_test_no-dev_256_climate-weight\n",
            "False\n",
            "03/12/2023 15:55:57 - INFO - __main__ -   Creating features from dataset file at /content/\n",
            "num examples: 3\n",
            "args.eval_partition test\n",
            "examples: [InputExampleWeighted(guid='test-0', text_a='As long as humans continue polluting and heating the sea, marine ecosystems will become more delicate and less predictable. Each outbreak shows us the consequences of our own actions—if we choose to see them.', text_b=None, label='neutral'), InputExampleWeighted(guid='test-1', text_a=\"A day earlier, President Joe Biden said it was too early to know the specific effect climate change had on this week's storms. He said he would ask his Environmental Protection Agency to assess.Scientific research on the role that climate change is playing in the formation and intensity of tornadoes is not as robust as for other types of extreme weather like droughts, floods and even hurricanes\", text_b=None, label='neutral'), InputExampleWeighted(guid='test-2', text_a='Conflict, climate change and economic shocks are all driving the rises in hunger, the WFP said, with those pressures on food security compounded by steep price increases for basic foods this year', text_b=None, label='neutral')]\n",
            "03/12/2023 15:55:57 - INFO - classifier.glue_weighted -   Writing example 0/3\n",
            "03/12/2023 15:55:57 - INFO - classifier.glue_weighted -   *** Example ***\n",
            "03/12/2023 15:55:57 - INFO - classifier.glue_weighted -   guid: test-0\n",
            "03/12/2023 15:55:57 - INFO - classifier.glue_weighted -   input_ids: 101 2004 2146 2004 4286 3613 8554 20807 1998 10808 1996 2712 1010 3884 20440 2097 2468 2062 10059 1998 2625 21425 1012 2169 8293 3065 2149 1996 8465 1997 2256 2219 4506 1517 2065 2057 5454 2000 2156 2068 1012 102 0 0 0 0 0 0 0 0 0 0 0 0 0 0 0 0 0 0 0 0 0 0 0 0 0 0 0 0 0 0 0 0 0 0 0 0 0 0 0 0 0 0 0 0 0 0 0 0 0 0 0 0 0 0 0 0 0 0 0 0 0 0 0 0 0 0 0 0 0 0 0 0 0 0 0 0 0 0 0 0 0 0 0 0 0 0 0 0 0 0 0 0 0 0 0 0 0 0 0 0 0 0 0 0 0 0 0 0 0 0 0 0 0 0 0 0 0 0 0 0 0 0 0 0 0 0 0 0 0 0 0 0 0 0 0 0 0 0 0 0 0 0 0 0 0 0 0 0 0 0 0 0 0 0 0 0 0 0 0 0 0 0 0 0 0 0 0 0 0 0 0 0 0 0 0 0 0 0 0 0 0 0 0 0 0 0 0 0 0 0 0 0 0 0 0 0 0 0 0 0 0 0 0 0 0 0 0 0 0 0 0 0 0 0\n",
            "03/12/2023 15:55:57 - INFO - classifier.glue_weighted -   attention_mask: 1 1 1 1 1 1 1 1 1 1 1 1 1 1 1 1 1 1 1 1 1 1 1 1 1 1 1 1 1 1 1 1 1 1 1 1 1 1 1 1 1 1 0 0 0 0 0 0 0 0 0 0 0 0 0 0 0 0 0 0 0 0 0 0 0 0 0 0 0 0 0 0 0 0 0 0 0 0 0 0 0 0 0 0 0 0 0 0 0 0 0 0 0 0 0 0 0 0 0 0 0 0 0 0 0 0 0 0 0 0 0 0 0 0 0 0 0 0 0 0 0 0 0 0 0 0 0 0 0 0 0 0 0 0 0 0 0 0 0 0 0 0 0 0 0 0 0 0 0 0 0 0 0 0 0 0 0 0 0 0 0 0 0 0 0 0 0 0 0 0 0 0 0 0 0 0 0 0 0 0 0 0 0 0 0 0 0 0 0 0 0 0 0 0 0 0 0 0 0 0 0 0 0 0 0 0 0 0 0 0 0 0 0 0 0 0 0 0 0 0 0 0 0 0 0 0 0 0 0 0 0 0 0 0 0 0 0 0 0 0 0 0 0 0 0 0 0 0 0 0 0 0 0 0 0 0\n",
            "03/12/2023 15:55:57 - INFO - classifier.glue_weighted -   token_type_ids: 0 0 0 0 0 0 0 0 0 0 0 0 0 0 0 0 0 0 0 0 0 0 0 0 0 0 0 0 0 0 0 0 0 0 0 0 0 0 0 0 0 0 0 0 0 0 0 0 0 0 0 0 0 0 0 0 0 0 0 0 0 0 0 0 0 0 0 0 0 0 0 0 0 0 0 0 0 0 0 0 0 0 0 0 0 0 0 0 0 0 0 0 0 0 0 0 0 0 0 0 0 0 0 0 0 0 0 0 0 0 0 0 0 0 0 0 0 0 0 0 0 0 0 0 0 0 0 0 0 0 0 0 0 0 0 0 0 0 0 0 0 0 0 0 0 0 0 0 0 0 0 0 0 0 0 0 0 0 0 0 0 0 0 0 0 0 0 0 0 0 0 0 0 0 0 0 0 0 0 0 0 0 0 0 0 0 0 0 0 0 0 0 0 0 0 0 0 0 0 0 0 0 0 0 0 0 0 0 0 0 0 0 0 0 0 0 0 0 0 0 0 0 0 0 0 0 0 0 0 0 0 0 0 0 0 0 0 0 0 0 0 0 0 0 0 0 0 0 0 0 0 0 0 0 0 0\n",
            "03/12/2023 15:55:57 - INFO - classifier.glue_weighted -   label: neutral (id = 1)\n",
            "03/12/2023 15:55:57 - INFO - classifier.glue_weighted -   *** Example ***\n",
            "03/12/2023 15:55:57 - INFO - classifier.glue_weighted -   guid: test-1\n",
            "03/12/2023 15:55:57 - INFO - classifier.glue_weighted -   input_ids: 101 1037 2154 3041 1010 2343 3533 7226 2368 2056 2009 2001 2205 2220 2000 2113 1996 3563 3466 4785 2689 2018 2006 2023 2733 1005 1055 12642 1012 2002 2056 2002 2052 3198 2010 4483 3860 4034 2000 14358 1012 4045 2470 2006 1996 2535 2008 4785 2689 2003 2652 1999 1996 4195 1998 8015 1997 22668 2003 2025 2004 15873 2004 2005 2060 4127 1997 6034 4633 2066 14734 2015 1010 14295 1998 2130 17035 102 0 0 0 0 0 0 0 0 0 0 0 0 0 0 0 0 0 0 0 0 0 0 0 0 0 0 0 0 0 0 0 0 0 0 0 0 0 0 0 0 0 0 0 0 0 0 0 0 0 0 0 0 0 0 0 0 0 0 0 0 0 0 0 0 0 0 0 0 0 0 0 0 0 0 0 0 0 0 0 0 0 0 0 0 0 0 0 0 0 0 0 0 0 0 0 0 0 0 0 0 0 0 0 0 0 0 0 0 0 0 0 0 0 0 0 0 0 0 0 0 0 0 0 0 0 0 0 0 0 0 0 0 0 0 0 0 0 0 0 0 0 0 0 0 0 0 0 0 0 0 0 0 0 0 0 0 0 0 0 0 0 0 0 0 0 0 0 0 0 0 0 0 0 0 0 0 0 0\n",
            "03/12/2023 15:55:57 - INFO - classifier.glue_weighted -   attention_mask: 1 1 1 1 1 1 1 1 1 1 1 1 1 1 1 1 1 1 1 1 1 1 1 1 1 1 1 1 1 1 1 1 1 1 1 1 1 1 1 1 1 1 1 1 1 1 1 1 1 1 1 1 1 1 1 1 1 1 1 1 1 1 1 1 1 1 1 1 1 1 1 1 1 1 1 1 1 1 0 0 0 0 0 0 0 0 0 0 0 0 0 0 0 0 0 0 0 0 0 0 0 0 0 0 0 0 0 0 0 0 0 0 0 0 0 0 0 0 0 0 0 0 0 0 0 0 0 0 0 0 0 0 0 0 0 0 0 0 0 0 0 0 0 0 0 0 0 0 0 0 0 0 0 0 0 0 0 0 0 0 0 0 0 0 0 0 0 0 0 0 0 0 0 0 0 0 0 0 0 0 0 0 0 0 0 0 0 0 0 0 0 0 0 0 0 0 0 0 0 0 0 0 0 0 0 0 0 0 0 0 0 0 0 0 0 0 0 0 0 0 0 0 0 0 0 0 0 0 0 0 0 0 0 0 0 0 0 0 0 0 0 0 0 0 0 0 0 0 0 0 0 0 0 0 0 0\n",
            "03/12/2023 15:55:57 - INFO - classifier.glue_weighted -   token_type_ids: 0 0 0 0 0 0 0 0 0 0 0 0 0 0 0 0 0 0 0 0 0 0 0 0 0 0 0 0 0 0 0 0 0 0 0 0 0 0 0 0 0 0 0 0 0 0 0 0 0 0 0 0 0 0 0 0 0 0 0 0 0 0 0 0 0 0 0 0 0 0 0 0 0 0 0 0 0 0 0 0 0 0 0 0 0 0 0 0 0 0 0 0 0 0 0 0 0 0 0 0 0 0 0 0 0 0 0 0 0 0 0 0 0 0 0 0 0 0 0 0 0 0 0 0 0 0 0 0 0 0 0 0 0 0 0 0 0 0 0 0 0 0 0 0 0 0 0 0 0 0 0 0 0 0 0 0 0 0 0 0 0 0 0 0 0 0 0 0 0 0 0 0 0 0 0 0 0 0 0 0 0 0 0 0 0 0 0 0 0 0 0 0 0 0 0 0 0 0 0 0 0 0 0 0 0 0 0 0 0 0 0 0 0 0 0 0 0 0 0 0 0 0 0 0 0 0 0 0 0 0 0 0 0 0 0 0 0 0 0 0 0 0 0 0 0 0 0 0 0 0 0 0 0 0 0 0\n",
            "03/12/2023 15:55:57 - INFO - classifier.glue_weighted -   label: neutral (id = 1)\n",
            "03/12/2023 15:55:57 - INFO - classifier.glue_weighted -   *** Example ***\n",
            "03/12/2023 15:55:57 - INFO - classifier.glue_weighted -   guid: test-2\n",
            "03/12/2023 15:55:57 - INFO - classifier.glue_weighted -   input_ids: 101 4736 1010 4785 2689 1998 3171 28215 2024 2035 4439 1996 9466 1999 9012 1010 1996 1059 22540 2056 1010 2007 2216 15399 2006 2833 3036 7328 2098 2011 9561 3976 7457 2005 3937 9440 2023 2095 102 0 0 0 0 0 0 0 0 0 0 0 0 0 0 0 0 0 0 0 0 0 0 0 0 0 0 0 0 0 0 0 0 0 0 0 0 0 0 0 0 0 0 0 0 0 0 0 0 0 0 0 0 0 0 0 0 0 0 0 0 0 0 0 0 0 0 0 0 0 0 0 0 0 0 0 0 0 0 0 0 0 0 0 0 0 0 0 0 0 0 0 0 0 0 0 0 0 0 0 0 0 0 0 0 0 0 0 0 0 0 0 0 0 0 0 0 0 0 0 0 0 0 0 0 0 0 0 0 0 0 0 0 0 0 0 0 0 0 0 0 0 0 0 0 0 0 0 0 0 0 0 0 0 0 0 0 0 0 0 0 0 0 0 0 0 0 0 0 0 0 0 0 0 0 0 0 0 0 0 0 0 0 0 0 0 0 0 0 0 0 0 0 0 0 0 0 0 0 0 0 0 0 0 0 0 0 0 0 0 0 0 0 0 0 0 0 0\n",
            "03/12/2023 15:55:57 - INFO - classifier.glue_weighted -   attention_mask: 1 1 1 1 1 1 1 1 1 1 1 1 1 1 1 1 1 1 1 1 1 1 1 1 1 1 1 1 1 1 1 1 1 1 1 1 1 1 1 0 0 0 0 0 0 0 0 0 0 0 0 0 0 0 0 0 0 0 0 0 0 0 0 0 0 0 0 0 0 0 0 0 0 0 0 0 0 0 0 0 0 0 0 0 0 0 0 0 0 0 0 0 0 0 0 0 0 0 0 0 0 0 0 0 0 0 0 0 0 0 0 0 0 0 0 0 0 0 0 0 0 0 0 0 0 0 0 0 0 0 0 0 0 0 0 0 0 0 0 0 0 0 0 0 0 0 0 0 0 0 0 0 0 0 0 0 0 0 0 0 0 0 0 0 0 0 0 0 0 0 0 0 0 0 0 0 0 0 0 0 0 0 0 0 0 0 0 0 0 0 0 0 0 0 0 0 0 0 0 0 0 0 0 0 0 0 0 0 0 0 0 0 0 0 0 0 0 0 0 0 0 0 0 0 0 0 0 0 0 0 0 0 0 0 0 0 0 0 0 0 0 0 0 0 0 0 0 0 0 0 0 0 0 0 0 0\n",
            "03/12/2023 15:55:57 - INFO - classifier.glue_weighted -   token_type_ids: 0 0 0 0 0 0 0 0 0 0 0 0 0 0 0 0 0 0 0 0 0 0 0 0 0 0 0 0 0 0 0 0 0 0 0 0 0 0 0 0 0 0 0 0 0 0 0 0 0 0 0 0 0 0 0 0 0 0 0 0 0 0 0 0 0 0 0 0 0 0 0 0 0 0 0 0 0 0 0 0 0 0 0 0 0 0 0 0 0 0 0 0 0 0 0 0 0 0 0 0 0 0 0 0 0 0 0 0 0 0 0 0 0 0 0 0 0 0 0 0 0 0 0 0 0 0 0 0 0 0 0 0 0 0 0 0 0 0 0 0 0 0 0 0 0 0 0 0 0 0 0 0 0 0 0 0 0 0 0 0 0 0 0 0 0 0 0 0 0 0 0 0 0 0 0 0 0 0 0 0 0 0 0 0 0 0 0 0 0 0 0 0 0 0 0 0 0 0 0 0 0 0 0 0 0 0 0 0 0 0 0 0 0 0 0 0 0 0 0 0 0 0 0 0 0 0 0 0 0 0 0 0 0 0 0 0 0 0 0 0 0 0 0 0 0 0 0 0 0 0 0 0 0 0 0 0\n",
            "03/12/2023 15:55:57 - INFO - classifier.glue_weighted -   label: neutral (id = 1)\n",
            "03/12/2023 15:55:57 - INFO - __main__ -   Saving features into cached file /content/cached_test_no-dev_256_climate-weight\n",
            "03/12/2023 15:55:57 - INFO - __main__ -   ***** Running evaluation  *****\n",
            "03/12/2023 15:55:57 - INFO - __main__ -     Num examples = 3\n",
            "03/12/2023 15:55:57 - INFO - __main__ -     Batch size = 16\n",
            "Evaluating: 100% 1/1 [00:02<00:00,  2.55s/it]\n",
            "/content/gwstance/lib/python3.9/site-packages/sklearn/metrics/_classification.py:1344: UndefinedMetricWarning: Precision and F-score are ill-defined and being set to 0.0 in labels with no predicted samples. Use `zero_division` parameter to control this behavior.\n",
            "  _warn_prf(average, modifier, msg_start, len(result))\n",
            "/content/gwstance/lib/python3.9/site-packages/sklearn/metrics/_classification.py:1344: UndefinedMetricWarning: Recall and F-score are ill-defined and being set to 0.0 in labels with no true samples. Use `zero_division` parameter to control this behavior.\n",
            "  _warn_prf(average, modifier, msg_start, len(result))\n",
            "/content/gwstance/lib/python3.9/site-packages/sklearn/metrics/_classification.py:1344: UndefinedMetricWarning: Precision and F-score are ill-defined and being set to 0.0 in labels with no predicted samples. Use `zero_division` parameter to control this behavior.\n",
            "  _warn_prf(average, modifier, msg_start, len(result))\n",
            "/content/gwstance/lib/python3.9/site-packages/sklearn/metrics/_classification.py:1344: UndefinedMetricWarning: Recall and F-score are ill-defined and being set to 0.0 in labels with no true samples. Use `zero_division` parameter to control this behavior.\n",
            "  _warn_prf(average, modifier, msg_start, len(result))\n",
            "/content/gwstance/lib/python3.9/site-packages/sklearn/metrics/_classification.py:1344: UndefinedMetricWarning: Precision and F-score are ill-defined and being set to 0.0 in labels with no predicted samples. Use `zero_division` parameter to control this behavior.\n",
            "  _warn_prf(average, modifier, msg_start, len(result))\n",
            "/content/gwstance/lib/python3.9/site-packages/sklearn/metrics/_classification.py:1344: UndefinedMetricWarning: Recall and F-score are ill-defined and being set to 0.0 in labels with no true samples. Use `zero_division` parameter to control this behavior.\n",
            "  _warn_prf(average, modifier, msg_start, len(result))\n",
            "03/12/2023 15:55:59 - INFO - __main__ -   ***** Eval results  *****\n",
            "03/12/2023 15:55:59 - INFO - __main__ -     acc = 0.3333333333333333\n",
            "03/12/2023 15:55:59 - INFO - __main__ -     acc_and_f1 = {'acc': 0.3333333333333333, 'micro_f1': 0.3333333333333333, 'macro_f1': 0.25, 'acc_and_macro_f1': 0.29166666666666663}\n",
            "03/12/2023 15:55:59 - INFO - __main__ -     cm = [[1 0]\n",
            " [2 0]]\n",
            "03/12/2023 15:55:59 - INFO - __main__ -     per_class = {'disagree': {'precision': 0.0, 'recall': 0.0, 'f1-score': 0.0, 'support': 0}, 'neutral': {'precision': 1.0, 'recall': 0.3333333333333333, 'f1-score': 0.5, 'support': 3}, 'agree': {'precision': 0.0, 'recall': 0.0, 'f1-score': 0.0, 'support': 0}, 'micro avg': {'precision': 0.3333333333333333, 'recall': 0.3333333333333333, 'f1-score': 0.3333333333333333, 'support': 3}, 'macro avg': {'precision': 0.3333333333333333, 'recall': 0.1111111111111111, 'f1-score': 0.16666666666666666, 'support': 3}, 'weighted avg': {'precision': 1.0, 'recall': 0.3333333333333333, 'f1-score': 0.5, 'support': 3}}\n"
          ]
        }
      ]
    },
    {
      "cell_type": "code",
      "source": [
        "!cat test.tsv"
      ],
      "metadata": {
        "colab": {
          "base_uri": "https://localhost:8080/"
        },
        "id": "hucTttnddnFE",
        "outputId": "ea1d6bdd-c172-46d1-94e4-b22d0cce8bad"
      },
      "execution_count": 33,
      "outputs": [
        {
          "output_type": "stream",
          "name": "stdout",
          "text": [
            "As long as humans continue polluting and heating the sea, marine ecosystems will become more delicate and less predictable. Each outbreak shows us the consequences of our own actions—if we choose to see them.\tneutral\t1.0\n",
            "A day earlier, President Joe Biden said it was too early to know the specific effect climate change had on this week's storms. He said he would ask his Environmental Protection Agency to assess.Scientific research on the role that climate change is playing in the formation and intensity of tornadoes is not as robust as for other types of extreme weather like droughts, floods and even hurricanes\tneutral\t1.0\n",
            "Conflict, climate change and economic shocks are all driving the rises in hunger, the WFP said, with those pressures on food security compounded by steep price increases for basic foods this year\tneutral\t1.0"
          ]
        }
      ]
    },
    {
      "cell_type": "code",
      "source": [],
      "metadata": {
        "id": "Lr0JbovairP7"
      },
      "execution_count": null,
      "outputs": []
    }
  ]
}