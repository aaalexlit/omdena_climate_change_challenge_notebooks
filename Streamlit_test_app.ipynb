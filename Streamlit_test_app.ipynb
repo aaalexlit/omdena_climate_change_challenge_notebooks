{
  "cells": [
    {
      "cell_type": "markdown",
      "metadata": {
        "id": "view-in-github",
        "colab_type": "text"
      },
      "source": [
        "<a href=\"https://colab.research.google.com/github/aaalexlit/omdena_climate_change_challenge_notebooks/blob/main/Streamlit_test_app.ipynb\" target=\"_parent\"><img src=\"https://colab.research.google.com/assets/colab-badge.svg\" alt=\"Open In Colab\"/></a>"
      ]
    },
    {
      "cell_type": "code",
      "execution_count": null,
      "metadata": {
        "id": "cfSddEP6Io3e"
      },
      "outputs": [],
      "source": [
        "\n",
        "%%capture\n",
        "!pip install streamlit\n",
        "!pip install pandas\n",
        "!pip install matplotlib\n",
        "!pip install transformers torch\n",
        "!pip3 install newspaper3k\n",
        "!pip install nltk "
      ]
    },
    {
      "cell_type": "code",
      "execution_count": 21,
      "metadata": {
        "colab": {
          "base_uri": "https://localhost:8080/"
        },
        "id": "MtnD_ai9Ipi4",
        "outputId": "438cb224-84ad-4857-b105-c553130a435f"
      },
      "outputs": [
        {
          "output_type": "stream",
          "name": "stdout",
          "text": [
            "Overwriting CRBC_preMVP.py\n"
          ]
        }
      ],
      "source": [
        "# %%writefile CRBC_preMVP.py\n",
        "import streamlit as st\n",
        "from transformers import AutoModelForSequenceClassification, AutoTokenizer\n",
        "from newspaper import Article\n",
        "import nltk\n",
        "from nltk.tokenize import sent_tokenize\n",
        "import os\n",
        "\n",
        "# Define a function for classifying text\n",
        "def classify_text(text, model, tokenizer):\n",
        "    inputs = tokenizer(text, padding=True, truncation=True, max_length=512, return_tensors=\"pt\")\n",
        "    outputs = model(**inputs)\n",
        "    logits = outputs.logits\n",
        "    probabilities = torch.softmax(logits, dim=1).detach().numpy()[0]\n",
        "    return probabilities[1]\n",
        "\n",
        "def extract_article_text(url):\n",
        "    article = Article(url)\n",
        "    article.download()\n",
        "    article.parse()\n",
        "    article.nlp()\n",
        "    return [article.text, article.title, article.authors, article.publish_date, article.keywords, article.summary] \n",
        "\n",
        "def extract_sentences(article_text):\n",
        "    tokenized_text = sent_tokenize(article_text)\n",
        "    return tokenized_text\n",
        "\n",
        "def print_result(input_text, prob):\n",
        "  if prob > 0.5:\n",
        "    st.success('This text contains an climate change relaited claim:')\n",
        "    st.write(input_text)\n",
        "    #st.write('Probability:', prob)\n",
        "    bias_score = \"tbd\"\n",
        "    st.metric(label=\"**Bias Score**\", value=bias_score)\n",
        "    st.write() \n",
        "  else:\n",
        "    st.write(\"This text does not contain an climate change related claim.\")\n",
        "\n",
        "@st.cache_resource\n",
        "def download_models():\n",
        "    nltk.download('punkt')\n",
        "\n",
        "    # Load the pre-trained model\n",
        "    model_name = \"climatebert/environmental-claims\"\n",
        "    model = AutoModelForSequenceClassification.from_pretrained(model_name)\n",
        "    tokenizer = AutoTokenizer.from_pretrained(model_name)\n",
        "    return model, tokenizer\n",
        "\n",
        "# Create the Streamlit app\n",
        "def main():\n",
        "    st.set_page_config(page_title=\"Applying trained Global Warming stance model\", page_icon=\":earth_americas:\")\n",
        "    model, tokenizer = download_models()\n",
        "\n",
        "    # Add a sidebar with links\n",
        "    st.sidebar.title(\"Omdena, Local Chapter, 🇩🇪 Cologne\")\n",
        "    project_link = '[Project Description](https://omdena.com/chapter-challenges/detecting-bias-in-climate-reporting-in-english-and-german-language-news-media/)'\n",
        "    st.sidebar.markdown(project_link, unsafe_allow_html=True)\n",
        "    github_link = '[Github Repo](https://github.com/OmdenaAI/cologne-germany-reporting-bias/)'\n",
        "    st.sidebar.markdown(github_link, unsafe_allow_html=True)\n",
        "\n",
        "    st.header(\"Applying trained Global Warming stance model to the sentences extracted from climate news articles\")\n",
        "    \n",
        "    tab_bias_detection, tab_how_to, tab_faq = st.tabs([\"Global Warming Stance Detection\", \"How-To\", \"FAQ\"])\n",
        "\n",
        "    with tab_bias_detection:\n",
        "      \n",
        "      st.write(\"Enter a Text or URL below and click the Classify Button to see if it contains an climate change related claim.\")\n",
        "\n",
        "      # Choose between text or url input\n",
        "      input_type = st.radio(\"Input type:\", (\"Text\", \"URL\"))\n",
        "\n",
        "      # Get input text\n",
        "      if input_type == \"Text\":\n",
        "        text_input = st.text_area(\"Enter Text\")\n",
        "      else:\n",
        "        url_input = st.text_input(\"Enter URL\")\n",
        "        if url_input:\n",
        "          try:\n",
        "            article_text, article_title, article_authors, article_publish_date, \n",
        "            article_keywords, article_summary = extract_article_text(url_input)\n",
        "\n",
        "            text_input = extract_sentences(article_text)\n",
        "\n",
        "            with st.expander(\"Article Info\"):\n",
        "              st.write('Title:', article_title)\n",
        "              st.write('Authors:', article_authors)\n",
        "              st.write('Publish Date:', article_publish_date)\n",
        "              st.write('Article Keywords:', article_keywords)\n",
        "              st.write('Article Summary:', article_summary)\n",
        "\n",
        "          except:\n",
        "            st.write(\"Could not extract text from article.\")\n",
        "            return\n",
        "\n",
        "      # Classify text and show result\n",
        "      if st.button(\"Classify\"):\n",
        "        if input_type == \"Text\":\n",
        "          text_input = extract_sentences(text_input)\n",
        "        has_climate_claim = False\n",
        "        for sentence in text_input:\n",
        "          prob = classify_text(sentence, model, tokenizer)\n",
        "          if prob > 0.5:\n",
        "            has_climate_claim = True\n",
        "            print_result(sentence, prob)\n",
        "        if not has_climate_claim:\n",
        "          st.write(\"None of the sentences contain an climate change related claim.\")\n",
        "    \n",
        "    with tab_how_to:\n",
        "      st.write(\"tbd\")\n",
        "    \n",
        "    with tab_faq:\n",
        "      st.write(\"tbd\")\n",
        "\n",
        "\n",
        "if __name__ == \"__main__\":\n",
        "    main()"
      ]
    },
    {
      "cell_type": "code",
      "execution_count": 22,
      "metadata": {
        "colab": {
          "base_uri": "https://localhost:8080/"
        },
        "id": "7mDn4ZwGJCpc",
        "outputId": "b2ff5234-0ce4-4397-9d7d-939fdbf1b1db"
      },
      "outputs": [
        {
          "output_type": "stream",
          "name": "stdout",
          "text": [
            "\u001b[K\u001b[?25hnpx: installed 22 in 7.166s\n",
            "\n",
            "Collecting usage statistics. To deactivate, set browser.gatherUsageStats to False.\n",
            "\u001b[0m\n",
            "\u001b[0m\n",
            "\u001b[34m\u001b[1m  You can now view your Streamlit app in your browser.\u001b[0m\n",
            "\u001b[0m\n",
            "\u001b[34m  Network URL: \u001b[0m\u001b[1mhttp://172.28.0.12:8501\u001b[0m\n",
            "\u001b[34m  External URL: \u001b[0m\u001b[1mhttp://34.105.121.229:8501\u001b[0m\n",
            "\u001b[0m\n",
            "your url is: https://dry-areas-stick-34-105-121-229.loca.lt\n",
            "[nltk_data] Downloading package punkt to /root/nltk_data...\n",
            "[nltk_data]   Package punkt is already up-to-date!\n",
            "\u001b[34m  Stopping...\u001b[0m\n",
            "^C\n"
          ]
        }
      ],
      "source": [
        "# Run streamlit \n",
        "!streamlit run CRBC_preMVP.py & npx localtunnel --port 8501"
      ]
    },
    {
      "cell_type": "code",
      "execution_count": null,
      "metadata": {
        "id": "gz0-uPr8Jcy9"
      },
      "outputs": [],
      "source": []
    }
  ],
  "metadata": {
    "colab": {
      "provenance": [],
      "authorship_tag": "ABX9TyNBgeQWnDWq7BJvLZnat42/",
      "include_colab_link": true
    },
    "kernelspec": {
      "display_name": "Python 3",
      "name": "python3"
    },
    "language_info": {
      "name": "python"
    }
  },
  "nbformat": 4,
  "nbformat_minor": 0
}