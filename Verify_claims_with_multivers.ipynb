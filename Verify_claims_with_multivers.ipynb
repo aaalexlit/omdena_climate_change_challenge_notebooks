{
  "nbformat": 4,
  "nbformat_minor": 0,
  "metadata": {
    "colab": {
      "provenance": [],
      "authorship_tag": "ABX9TyOX4ZG3bvcpu3u9q/Zfz5Xk",
      "include_colab_link": true
    },
    "kernelspec": {
      "name": "python3",
      "display_name": "Python 3"
    },
    "language_info": {
      "name": "python"
    },
    "accelerator": "GPU",
    "gpuClass": "standard",
    "widgets": {
      "application/vnd.jupyter.widget-state+json": {
        "fe236bd1629a481387e5c48b27322e05": {
          "model_module": "@jupyter-widgets/controls",
          "model_name": "HBoxModel",
          "model_module_version": "1.5.0",
          "state": {
            "_dom_classes": [],
            "_model_module": "@jupyter-widgets/controls",
            "_model_module_version": "1.5.0",
            "_model_name": "HBoxModel",
            "_view_count": null,
            "_view_module": "@jupyter-widgets/controls",
            "_view_module_version": "1.5.0",
            "_view_name": "HBoxView",
            "box_style": "",
            "children": [
              "IPY_MODEL_50cb414c51404d2ca44f4f71758a7eaf",
              "IPY_MODEL_15b527ea58454a2098a3f6561b04a09d",
              "IPY_MODEL_0961f936d34a40b086531dff1cffc6e6"
            ],
            "layout": "IPY_MODEL_ef2b2b1e9ce94698ba995285d3677bcc"
          }
        },
        "50cb414c51404d2ca44f4f71758a7eaf": {
          "model_module": "@jupyter-widgets/controls",
          "model_name": "HTMLModel",
          "model_module_version": "1.5.0",
          "state": {
            "_dom_classes": [],
            "_model_module": "@jupyter-widgets/controls",
            "_model_module_version": "1.5.0",
            "_model_name": "HTMLModel",
            "_view_count": null,
            "_view_module": "@jupyter-widgets/controls",
            "_view_module_version": "1.5.0",
            "_view_name": "HTMLView",
            "description": "",
            "description_tooltip": null,
            "layout": "IPY_MODEL_a321ea36dc524cf1bfe31f2b8c1bfef1",
            "placeholder": "​",
            "style": "IPY_MODEL_16383eb79e6c41fd9b04e76393748380",
            "value": "Batches: 100%"
          }
        },
        "15b527ea58454a2098a3f6561b04a09d": {
          "model_module": "@jupyter-widgets/controls",
          "model_name": "FloatProgressModel",
          "model_module_version": "1.5.0",
          "state": {
            "_dom_classes": [],
            "_model_module": "@jupyter-widgets/controls",
            "_model_module_version": "1.5.0",
            "_model_name": "FloatProgressModel",
            "_view_count": null,
            "_view_module": "@jupyter-widgets/controls",
            "_view_module_version": "1.5.0",
            "_view_name": "ProgressView",
            "bar_style": "success",
            "description": "",
            "description_tooltip": null,
            "layout": "IPY_MODEL_060bc0df6d78463da96c2d770996f81f",
            "max": 1,
            "min": 0,
            "orientation": "horizontal",
            "style": "IPY_MODEL_9f63fde98a24434ca146eca58d18797d",
            "value": 1
          }
        },
        "0961f936d34a40b086531dff1cffc6e6": {
          "model_module": "@jupyter-widgets/controls",
          "model_name": "HTMLModel",
          "model_module_version": "1.5.0",
          "state": {
            "_dom_classes": [],
            "_model_module": "@jupyter-widgets/controls",
            "_model_module_version": "1.5.0",
            "_model_name": "HTMLModel",
            "_view_count": null,
            "_view_module": "@jupyter-widgets/controls",
            "_view_module_version": "1.5.0",
            "_view_name": "HTMLView",
            "description": "",
            "description_tooltip": null,
            "layout": "IPY_MODEL_37faab3b6c794bb7ad1ad5fbe41d6320",
            "placeholder": "​",
            "style": "IPY_MODEL_86b821f11d84442fb0e1e3af203870bb",
            "value": " 1/1 [00:00&lt;00:00, 15.57it/s]"
          }
        },
        "ef2b2b1e9ce94698ba995285d3677bcc": {
          "model_module": "@jupyter-widgets/base",
          "model_name": "LayoutModel",
          "model_module_version": "1.2.0",
          "state": {
            "_model_module": "@jupyter-widgets/base",
            "_model_module_version": "1.2.0",
            "_model_name": "LayoutModel",
            "_view_count": null,
            "_view_module": "@jupyter-widgets/base",
            "_view_module_version": "1.2.0",
            "_view_name": "LayoutView",
            "align_content": null,
            "align_items": null,
            "align_self": null,
            "border": null,
            "bottom": null,
            "display": null,
            "flex": null,
            "flex_flow": null,
            "grid_area": null,
            "grid_auto_columns": null,
            "grid_auto_flow": null,
            "grid_auto_rows": null,
            "grid_column": null,
            "grid_gap": null,
            "grid_row": null,
            "grid_template_areas": null,
            "grid_template_columns": null,
            "grid_template_rows": null,
            "height": null,
            "justify_content": null,
            "justify_items": null,
            "left": null,
            "margin": null,
            "max_height": null,
            "max_width": null,
            "min_height": null,
            "min_width": null,
            "object_fit": null,
            "object_position": null,
            "order": null,
            "overflow": null,
            "overflow_x": null,
            "overflow_y": null,
            "padding": null,
            "right": null,
            "top": null,
            "visibility": null,
            "width": null
          }
        },
        "a321ea36dc524cf1bfe31f2b8c1bfef1": {
          "model_module": "@jupyter-widgets/base",
          "model_name": "LayoutModel",
          "model_module_version": "1.2.0",
          "state": {
            "_model_module": "@jupyter-widgets/base",
            "_model_module_version": "1.2.0",
            "_model_name": "LayoutModel",
            "_view_count": null,
            "_view_module": "@jupyter-widgets/base",
            "_view_module_version": "1.2.0",
            "_view_name": "LayoutView",
            "align_content": null,
            "align_items": null,
            "align_self": null,
            "border": null,
            "bottom": null,
            "display": null,
            "flex": null,
            "flex_flow": null,
            "grid_area": null,
            "grid_auto_columns": null,
            "grid_auto_flow": null,
            "grid_auto_rows": null,
            "grid_column": null,
            "grid_gap": null,
            "grid_row": null,
            "grid_template_areas": null,
            "grid_template_columns": null,
            "grid_template_rows": null,
            "height": null,
            "justify_content": null,
            "justify_items": null,
            "left": null,
            "margin": null,
            "max_height": null,
            "max_width": null,
            "min_height": null,
            "min_width": null,
            "object_fit": null,
            "object_position": null,
            "order": null,
            "overflow": null,
            "overflow_x": null,
            "overflow_y": null,
            "padding": null,
            "right": null,
            "top": null,
            "visibility": null,
            "width": null
          }
        },
        "16383eb79e6c41fd9b04e76393748380": {
          "model_module": "@jupyter-widgets/controls",
          "model_name": "DescriptionStyleModel",
          "model_module_version": "1.5.0",
          "state": {
            "_model_module": "@jupyter-widgets/controls",
            "_model_module_version": "1.5.0",
            "_model_name": "DescriptionStyleModel",
            "_view_count": null,
            "_view_module": "@jupyter-widgets/base",
            "_view_module_version": "1.2.0",
            "_view_name": "StyleView",
            "description_width": ""
          }
        },
        "060bc0df6d78463da96c2d770996f81f": {
          "model_module": "@jupyter-widgets/base",
          "model_name": "LayoutModel",
          "model_module_version": "1.2.0",
          "state": {
            "_model_module": "@jupyter-widgets/base",
            "_model_module_version": "1.2.0",
            "_model_name": "LayoutModel",
            "_view_count": null,
            "_view_module": "@jupyter-widgets/base",
            "_view_module_version": "1.2.0",
            "_view_name": "LayoutView",
            "align_content": null,
            "align_items": null,
            "align_self": null,
            "border": null,
            "bottom": null,
            "display": null,
            "flex": null,
            "flex_flow": null,
            "grid_area": null,
            "grid_auto_columns": null,
            "grid_auto_flow": null,
            "grid_auto_rows": null,
            "grid_column": null,
            "grid_gap": null,
            "grid_row": null,
            "grid_template_areas": null,
            "grid_template_columns": null,
            "grid_template_rows": null,
            "height": null,
            "justify_content": null,
            "justify_items": null,
            "left": null,
            "margin": null,
            "max_height": null,
            "max_width": null,
            "min_height": null,
            "min_width": null,
            "object_fit": null,
            "object_position": null,
            "order": null,
            "overflow": null,
            "overflow_x": null,
            "overflow_y": null,
            "padding": null,
            "right": null,
            "top": null,
            "visibility": null,
            "width": null
          }
        },
        "9f63fde98a24434ca146eca58d18797d": {
          "model_module": "@jupyter-widgets/controls",
          "model_name": "ProgressStyleModel",
          "model_module_version": "1.5.0",
          "state": {
            "_model_module": "@jupyter-widgets/controls",
            "_model_module_version": "1.5.0",
            "_model_name": "ProgressStyleModel",
            "_view_count": null,
            "_view_module": "@jupyter-widgets/base",
            "_view_module_version": "1.2.0",
            "_view_name": "StyleView",
            "bar_color": null,
            "description_width": ""
          }
        },
        "37faab3b6c794bb7ad1ad5fbe41d6320": {
          "model_module": "@jupyter-widgets/base",
          "model_name": "LayoutModel",
          "model_module_version": "1.2.0",
          "state": {
            "_model_module": "@jupyter-widgets/base",
            "_model_module_version": "1.2.0",
            "_model_name": "LayoutModel",
            "_view_count": null,
            "_view_module": "@jupyter-widgets/base",
            "_view_module_version": "1.2.0",
            "_view_name": "LayoutView",
            "align_content": null,
            "align_items": null,
            "align_self": null,
            "border": null,
            "bottom": null,
            "display": null,
            "flex": null,
            "flex_flow": null,
            "grid_area": null,
            "grid_auto_columns": null,
            "grid_auto_flow": null,
            "grid_auto_rows": null,
            "grid_column": null,
            "grid_gap": null,
            "grid_row": null,
            "grid_template_areas": null,
            "grid_template_columns": null,
            "grid_template_rows": null,
            "height": null,
            "justify_content": null,
            "justify_items": null,
            "left": null,
            "margin": null,
            "max_height": null,
            "max_width": null,
            "min_height": null,
            "min_width": null,
            "object_fit": null,
            "object_position": null,
            "order": null,
            "overflow": null,
            "overflow_x": null,
            "overflow_y": null,
            "padding": null,
            "right": null,
            "top": null,
            "visibility": null,
            "width": null
          }
        },
        "86b821f11d84442fb0e1e3af203870bb": {
          "model_module": "@jupyter-widgets/controls",
          "model_name": "DescriptionStyleModel",
          "model_module_version": "1.5.0",
          "state": {
            "_model_module": "@jupyter-widgets/controls",
            "_model_module_version": "1.5.0",
            "_model_name": "DescriptionStyleModel",
            "_view_count": null,
            "_view_module": "@jupyter-widgets/base",
            "_view_module_version": "1.2.0",
            "_view_name": "StyleView",
            "description_width": ""
          }
        }
      }
    }
  },
  "cells": [
    {
      "cell_type": "markdown",
      "metadata": {
        "id": "view-in-github",
        "colab_type": "text"
      },
      "source": [
        "<a href=\"https://colab.research.google.com/github/aaalexlit/omdena_climate_change_challenge_notebooks/blob/main/Verify_claims_with_multivers.ipynb\" target=\"_parent\"><img src=\"https://colab.research.google.com/assets/colab-badge.svg\" alt=\"Open In Colab\"/></a>"
      ]
    },
    {
      "cell_type": "markdown",
      "source": [
        "# Multivers Setup"
      ],
      "metadata": {
        "id": "gcCejQT9fH20"
      }
    },
    {
      "cell_type": "markdown",
      "source": [
        "## Clone multivers repo"
      ],
      "metadata": {
        "id": "eJDH82bEfLlp"
      }
    },
    {
      "cell_type": "code",
      "execution_count": null,
      "metadata": {
        "id": "Oy-D2TkIFdny"
      },
      "outputs": [],
      "source": [
        "%%capture\n",
        "!git clone https://github.com/dwadden/multivers.git"
      ]
    },
    {
      "cell_type": "markdown",
      "source": [
        "## Setup virtual environment and requirements\n",
        "virtual environment is needed to avoid conflicts with the packages already installed on Colab"
      ],
      "metadata": {
        "id": "yqfLZfK8fPM0"
      }
    },
    {
      "cell_type": "code",
      "source": [
        "%%capture\n",
        "!pip install virtualenv\n",
        "!virtualenv multivers\n",
        "!source /content/multivers/bin/activate; pip install -r /content/multivers/requirements.txt"
      ],
      "metadata": {
        "id": "2z7GAM7dRbXR"
      },
      "execution_count": null,
      "outputs": []
    },
    {
      "cell_type": "markdown",
      "source": [
        "## Download the model checkpoints"
      ],
      "metadata": {
        "id": "X96cYNZ8fjHr"
      }
    },
    {
      "cell_type": "code",
      "source": [
        "!python /content/multivers/script/get_checkpoint.py longformer_large_science\n",
        "!python /content/multivers/script/get_checkpoint.py scifact\n"
      ],
      "metadata": {
        "colab": {
          "base_uri": "https://localhost:8080/"
        },
        "id": "FdHc1LAAGFG1",
        "outputId": "b681e475-e178-48f7-fa56-3c39fd77de75"
      },
      "execution_count": null,
      "outputs": [
        {
          "output_type": "stream",
          "name": "stdout",
          "text": [
            "--2023-03-05 13:33:42--  https://scifact.s3.us-west-2.amazonaws.com/longchecker/latest/checkpoints/longformer_large_science.ckpt\n",
            "Resolving scifact.s3.us-west-2.amazonaws.com (scifact.s3.us-west-2.amazonaws.com)... 52.218.234.169, 3.5.76.175, 52.92.128.34, ...\n",
            "Connecting to scifact.s3.us-west-2.amazonaws.com (scifact.s3.us-west-2.amazonaws.com)|52.218.234.169|:443... connected.\n",
            "HTTP request sent, awaiting response... 200 OK\n",
            "Length: 1646843693 (1.5G) [binary/octet-stream]\n",
            "Saving to: ‘checkpoints/longformer_large_science.ckpt’\n",
            "\n",
            "checkpoints/longfor 100%[===================>]   1.53G  7.67MB/s    in 98s     \n",
            "\n",
            "2023-03-05 13:35:21 (16.0 MB/s) - ‘checkpoints/longformer_large_science.ckpt’ saved [1646843693/1646843693]\n",
            "\n",
            "--2023-03-05 13:35:21--  https://scifact.s3.us-west-2.amazonaws.com/longchecker/latest/checkpoints/scifact.ckpt\n",
            "Resolving scifact.s3.us-west-2.amazonaws.com (scifact.s3.us-west-2.amazonaws.com)... 3.5.80.155, 52.92.152.10, 3.5.77.132, ...\n",
            "Connecting to scifact.s3.us-west-2.amazonaws.com (scifact.s3.us-west-2.amazonaws.com)|3.5.80.155|:443... connected.\n",
            "HTTP request sent, awaiting response... 200 OK\n",
            "Length: 5253770098 (4.9G) [binary/octet-stream]\n",
            "Saving to: ‘checkpoints/scifact.ckpt’\n",
            "\n",
            "checkpoints/scifact 100%[===================>]   4.89G  15.9MB/s    in 6m 42s  \n",
            "\n",
            "2023-03-05 13:42:04 (12.5 MB/s) - ‘checkpoints/scifact.ckpt’ saved [5253770098/5253770098]\n",
            "\n"
          ]
        }
      ]
    },
    {
      "cell_type": "markdown",
      "source": [
        "And move the models to the folder where multivers is looking for them"
      ],
      "metadata": {
        "id": "--vTkn0zfqa2"
      }
    },
    {
      "cell_type": "code",
      "source": [
        "!mv /content/checkpoints /content/multivers/checkpoints"
      ],
      "metadata": {
        "id": "Ecv2DoTWHmz8"
      },
      "execution_count": null,
      "outputs": []
    },
    {
      "cell_type": "markdown",
      "source": [
        "## If CPU is not available \n",
        "delete line `    model.to(f\"cuda:{args.device}\")` from `predict.py` otherwise it would throw an error `RuntimeError: No CUDA GPUs are available\n",
        "`"
      ],
      "metadata": {
        "id": "tmxYKbV6xOT5"
      }
    },
    {
      "cell_type": "code",
      "source": [
        "import torch\n",
        "import os\n",
        "if not torch.cuda.is_available():\n",
        "  ret_code = os.system(\"sed -i '40d' /content/multivers/multivers/predict.py\")\n",
        "  print(f\"exit code = {ret_code}\")"
      ],
      "metadata": {
        "id": "1ym2v6ExwOTq"
      },
      "execution_count": null,
      "outputs": []
    },
    {
      "cell_type": "markdown",
      "source": [
        "# Setup evidence retrieval"
      ],
      "metadata": {
        "id": "nhQPnLstQqWe"
      }
    },
    {
      "cell_type": "markdown",
      "source": [
        "## Download abstracts database"
      ],
      "metadata": {
        "id": "Ps8V8FgiQ_a9"
      }
    },
    {
      "cell_type": "code",
      "source": [
        "## we need this to be able to download big-ish files from GDrive\n",
        "%%capture\n",
        "!pip3 install --upgrade gdown"
      ],
      "metadata": {
        "id": "XD7vbuurRC6r"
      },
      "execution_count": null,
      "outputs": []
    },
    {
      "cell_type": "code",
      "source": [
        "!gdown https://drive.google.com/uc?id=1b_FWp-526YsVOvonkEj_qvtHZFZusN8y -O faiss_document_store.db\n",
        "!gdown https://drive.google.com/uc?id=1--xpfesTzHcwrGw4NsZI4lFaQWnzHuZz -O faiss_index\n",
        "!gdown https://drive.google.com/uc?id=1-2pdEl2JBs1KUpLRCoiDhVSE1yGkHoGI -O faiss_index.json"
      ],
      "metadata": {
        "colab": {
          "base_uri": "https://localhost:8080/"
        },
        "id": "XEdXFJgIRGgR",
        "outputId": "4a9ffae2-d960-4a9c-8dcd-b3ef8213f544"
      },
      "execution_count": null,
      "outputs": [
        {
          "output_type": "stream",
          "name": "stdout",
          "text": [
            "Downloading...\n",
            "From: https://drive.google.com/uc?id=1b_FWp-526YsVOvonkEj_qvtHZFZusN8y\n",
            "To: /content/faiss_document_store.db\n",
            "100% 1.06G/1.06G [00:05<00:00, 197MB/s]\n",
            "Downloading...\n",
            "From: https://drive.google.com/uc?id=1--xpfesTzHcwrGw4NsZI4lFaQWnzHuZz\n",
            "To: /content/faiss_index\n",
            "100% 879M/879M [00:03<00:00, 227MB/s]\n",
            "Downloading...\n",
            "From: https://drive.google.com/uc?id=1-2pdEl2JBs1KUpLRCoiDhVSE1yGkHoGI\n",
            "To: /content/faiss_index.json\n",
            "100% 187/187 [00:00<00:00, 377kB/s]\n"
          ]
        }
      ]
    },
    {
      "cell_type": "markdown",
      "source": [
        "## Install requirements"
      ],
      "metadata": {
        "id": "i11XBB-hQ1Qs"
      }
    },
    {
      "cell_type": "markdown",
      "source": [
        "### Check if GPU is available to install gpu version of faiss"
      ],
      "metadata": {
        "id": "_9kEJkAhiQE8"
      }
    },
    {
      "cell_type": "code",
      "source": [
        "faiss_to_install = \"faiss-gpu\"\n",
        "if not torch.cuda.is_available():\n",
        "  faiss_to_install = \"faiss\"\n",
        "\n",
        "ret_code = os.system(f\"source /content/multivers/bin/activate; pip install farm-haystack[{faiss_to_install}]\")\n",
        "if not ret_code:\n",
        "  print(f\"Installed {faiss_to_install}\")"
      ],
      "metadata": {
        "colab": {
          "base_uri": "https://localhost:8080/"
        },
        "id": "oh68LdJzWo-4",
        "outputId": "848efb6b-30dc-452c-940c-f7da7691f04a"
      },
      "execution_count": null,
      "outputs": [
        {
          "output_type": "stream",
          "name": "stdout",
          "text": [
            "Installed faiss-gpu\n"
          ]
        }
      ]
    },
    {
      "cell_type": "code",
      "source": [
        "!pip install newspaper3k\n",
        "!pip install codetiming\n",
        "!pip install jsonlines"
      ],
      "metadata": {
        "colab": {
          "base_uri": "https://localhost:8080/"
        },
        "id": "qllQ1mVwQ5qb",
        "outputId": "5ae8779f-8396-4571-bb80-5c73db6ffa0f"
      },
      "execution_count": null,
      "outputs": [
        {
          "output_type": "stream",
          "name": "stdout",
          "text": [
            "Looking in indexes: https://pypi.org/simple, https://us-python.pkg.dev/colab-wheels/public/simple/\n",
            "Requirement already satisfied: newspaper3k in /usr/local/lib/python3.8/dist-packages (0.2.8)\n",
            "Requirement already satisfied: Pillow>=3.3.0 in /usr/local/lib/python3.8/dist-packages (from newspaper3k) (8.4.0)\n",
            "Requirement already satisfied: nltk>=3.2.1 in /usr/local/lib/python3.8/dist-packages (from newspaper3k) (3.7)\n",
            "Requirement already satisfied: tinysegmenter==0.3 in /usr/local/lib/python3.8/dist-packages (from newspaper3k) (0.3)\n",
            "Requirement already satisfied: feedparser>=5.2.1 in /usr/local/lib/python3.8/dist-packages (from newspaper3k) (6.0.10)\n",
            "Requirement already satisfied: jieba3k>=0.35.1 in /usr/local/lib/python3.8/dist-packages (from newspaper3k) (0.35.1)\n",
            "Requirement already satisfied: python-dateutil>=2.5.3 in /usr/local/lib/python3.8/dist-packages (from newspaper3k) (2.8.2)\n",
            "Requirement already satisfied: requests>=2.10.0 in /usr/local/lib/python3.8/dist-packages (from newspaper3k) (2.28.2)\n",
            "Requirement already satisfied: feedfinder2>=0.0.4 in /usr/local/lib/python3.8/dist-packages (from newspaper3k) (0.0.4)\n",
            "Requirement already satisfied: lxml>=3.6.0 in /usr/local/lib/python3.8/dist-packages (from newspaper3k) (4.9.2)\n",
            "Requirement already satisfied: tldextract>=2.0.1 in /usr/local/lib/python3.8/dist-packages (from newspaper3k) (3.4.0)\n",
            "Requirement already satisfied: beautifulsoup4>=4.4.1 in /usr/local/lib/python3.8/dist-packages (from newspaper3k) (4.6.3)\n",
            "Requirement already satisfied: PyYAML>=3.11 in /usr/local/lib/python3.8/dist-packages (from newspaper3k) (6.0)\n",
            "Requirement already satisfied: cssselect>=0.9.2 in /usr/local/lib/python3.8/dist-packages (from newspaper3k) (1.2.0)\n",
            "Requirement already satisfied: six in /usr/local/lib/python3.8/dist-packages (from feedfinder2>=0.0.4->newspaper3k) (1.15.0)\n",
            "Requirement already satisfied: sgmllib3k in /usr/local/lib/python3.8/dist-packages (from feedparser>=5.2.1->newspaper3k) (1.0.0)\n",
            "Requirement already satisfied: joblib in /usr/local/lib/python3.8/dist-packages (from nltk>=3.2.1->newspaper3k) (1.2.0)\n",
            "Requirement already satisfied: click in /usr/local/lib/python3.8/dist-packages (from nltk>=3.2.1->newspaper3k) (8.1.3)\n",
            "Requirement already satisfied: tqdm in /usr/local/lib/python3.8/dist-packages (from nltk>=3.2.1->newspaper3k) (4.64.1)\n",
            "Requirement already satisfied: regex>=2021.8.3 in /usr/local/lib/python3.8/dist-packages (from nltk>=3.2.1->newspaper3k) (2022.6.2)\n",
            "Requirement already satisfied: certifi>=2017.4.17 in /usr/local/lib/python3.8/dist-packages (from requests>=2.10.0->newspaper3k) (2022.12.7)\n",
            "Requirement already satisfied: charset-normalizer<4,>=2 in /usr/local/lib/python3.8/dist-packages (from requests>=2.10.0->newspaper3k) (3.0.1)\n",
            "Requirement already satisfied: urllib3<1.27,>=1.21.1 in /usr/local/lib/python3.8/dist-packages (from requests>=2.10.0->newspaper3k) (1.26.14)\n",
            "Requirement already satisfied: idna<4,>=2.5 in /usr/local/lib/python3.8/dist-packages (from requests>=2.10.0->newspaper3k) (2.10)\n",
            "Requirement already satisfied: filelock>=3.0.8 in /usr/local/lib/python3.8/dist-packages (from tldextract>=2.0.1->newspaper3k) (3.9.0)\n",
            "Requirement already satisfied: requests-file>=1.4 in /usr/local/lib/python3.8/dist-packages (from tldextract>=2.0.1->newspaper3k) (1.5.1)\n",
            "Looking in indexes: https://pypi.org/simple, https://us-python.pkg.dev/colab-wheels/public/simple/\n",
            "Requirement already satisfied: codetiming in /usr/local/lib/python3.8/dist-packages (1.4.0)\n",
            "Looking in indexes: https://pypi.org/simple, https://us-python.pkg.dev/colab-wheels/public/simple/\n",
            "Collecting jsonlines\n",
            "  Downloading jsonlines-3.1.0-py3-none-any.whl (8.6 kB)\n",
            "Requirement already satisfied: attrs>=19.2.0 in /usr/local/lib/python3.8/dist-packages (from jsonlines) (22.2.0)\n",
            "Installing collected packages: jsonlines\n",
            "Successfully installed jsonlines-3.1.0\n"
          ]
        }
      ]
    },
    {
      "cell_type": "markdown",
      "source": [
        "## Imports"
      ],
      "metadata": {
        "id": "Dj_VHXUpQcTV"
      }
    },
    {
      "cell_type": "code",
      "source": [
        "from newspaper import Article\n",
        "from nltk.tokenize import sent_tokenize\n",
        "from transformers import AutoTokenizer, AutoModelForSequenceClassification, \\\n",
        "                         pipeline, RobertaForSequenceClassification\n",
        "from codetiming import Timer\n",
        "import logging\n",
        "\n",
        "from haystack.document_stores import FAISSDocumentStore\n",
        "from haystack.nodes import EmbeddingRetriever  \n",
        "import jsonlines\n",
        "\n",
        "from timeit import default_timer as timer\n",
        "from collections import defaultdict\n",
        "\n",
        "import os\n",
        "import torch \n",
        "\n",
        "import nltk\n",
        "nltk.download('punkt')"
      ],
      "metadata": {
        "colab": {
          "base_uri": "https://localhost:8080/"
        },
        "id": "pOhO9707QfoB",
        "outputId": "51885fc6-a3e3-40d8-b487-224fc9e2100e"
      },
      "execution_count": null,
      "outputs": [
        {
          "output_type": "stream",
          "name": "stderr",
          "text": [
            "[nltk_data] Downloading package punkt to /root/nltk_data...\n",
            "[nltk_data]   Package punkt is already up-to-date!\n"
          ]
        },
        {
          "output_type": "execute_result",
          "data": {
            "text/plain": [
              "True"
            ]
          },
          "metadata": {},
          "execution_count": 1
        }
      ]
    },
    {
      "cell_type": "markdown",
      "source": [
        "## Setups and model downloads"
      ],
      "metadata": {
        "id": "k3Xd9n4-jXM6"
      }
    },
    {
      "cell_type": "code",
      "source": [
        "# model to build semantic encodings\n",
        "MODEL_NAME = 'sebastian-hofstaetter/distilbert-dot-tas_b-b256-msmarco'\n",
        "# embedding size used by distilbert-dot-tas_b-b256-msmarco\n",
        "EMBEDDING_DIM = 768\n",
        "\n",
        "SIMILARITY = 'dot_product'\n",
        "\n",
        "logging.basicConfig(format=\"%(levelname)s - %(name)s -  %(message)s\", level=logging.WARNING)"
      ],
      "metadata": {
        "id": "2bSDEZ_gZxt-"
      },
      "execution_count": null,
      "outputs": []
    },
    {
      "cell_type": "code",
      "source": [
        "claimbuster_tokenizer = AutoTokenizer.from_pretrained(\"lucafrost/ClaimBuster-DeBERTaV2\")\n",
        "claimbuster_model = AutoModelForSequenceClassification.from_pretrained(\"lucafrost/ClaimBuster-DeBERTaV2\")\n",
        "\n",
        "# climatebert_tokenizer = AutoTokenizer.from_pretrained(\"climatebert/distilroberta-base-climate-f\")\n",
        "# climate_attention_model = RobertaForSequenceClassification.from_pretrained('kruthof/climateattention-ctw',\n",
        "#                                                                            num_labels=2)"
      ],
      "metadata": {
        "id": "67HxuCJYjcgA"
      },
      "execution_count": null,
      "outputs": []
    },
    {
      "cell_type": "code",
      "source": [
        "class FAISSIndexer():\n",
        "    def __init__(self, path_to_index_dir,\n",
        "                 model_name, embedding_dim,\n",
        "                 similarity_measure,\n",
        "                 path_to_postgres=None) -> None:\n",
        "        self.path_to_index_dir = path_to_index_dir\n",
        "        # our db is postgres, only need to set path to faiss index\n",
        "        if path_to_postgres:\n",
        "            self.path_to_db = path_to_postgres\n",
        "            self._set_path_to_index()\n",
        "        # our db is SQLLite\n",
        "        else:\n",
        "            self._set_path_to_index_and_db()\n",
        "        self.embedding_dim = embedding_dim\n",
        "        self.model_name = model_name\n",
        "        self.similarity_measure = similarity_measure\n",
        "        self.document_store = self._init_document_store()\n",
        "        self.retriever = self._init_retriever()\n",
        "\n",
        "    def _set_path_to_index(self):\n",
        "        if not os.path.exists(self.path_to_index_dir):\n",
        "            os.makedirs(self.path_to_index_dir)\n",
        "        self.path_to_index = os.path.join(self.path_to_index_dir, \"faiss_index\")\n",
        "\n",
        "    def _set_path_to_index_and_db(self):\n",
        "        self._set_path_to_index()\n",
        "        self.path_to_db = f\"sqlite:///{os.path.join(self.path_to_index_dir, 'faiss_document_store.db')}\"\n",
        "\n",
        "    def _init_document_store(self):\n",
        "        if os.path.exists(self.path_to_index):\n",
        "            return FAISSDocumentStore.load(index_path=self.path_to_index)\n",
        "        else:\n",
        "            return FAISSDocumentStore(\n",
        "                sql_url=self.path_to_db,\n",
        "                return_embedding=True,\n",
        "                similarity=self.similarity_measure,\n",
        "                embedding_dim=self.embedding_dim,\n",
        "                duplicate_documents='skip'\n",
        "            )\n",
        "\n",
        "    def _init_retriever(self, progress_bar=True):\n",
        "        return EmbeddingRetriever(\n",
        "            document_store=self.document_store,\n",
        "            embedding_model=self.model_name,\n",
        "            model_format='sentence_transformers',\n",
        "            # include article title into the embedding\n",
        "            embed_meta_fields=[\"title\"],\n",
        "            progress_bar=progress_bar\n",
        "        )\n",
        "\n",
        "    def write_documents(self, docs):\n",
        "        self.document_store.write_documents(docs)\n",
        "\n",
        "        print('Updating embeddings ...')\n",
        "\n",
        "        self.document_store.update_embeddings(\n",
        "            retriever=self.retriever,\n",
        "            update_existing_embeddings=False\n",
        "        )\n",
        "\n",
        "        print(f'current embedding count is {self.document_store.get_embedding_count()}')\n",
        "        self.document_store.save(index_path=self.path_to_index)\n",
        "\n",
        "    def retrieve_matches_for_a_phrase(self, phrase, top_k=10):\n",
        "        return self.retriever.retrieve(phrase, top_k=top_k)\n",
        "\n",
        "    def retrieve_matches_for_phrases(self, phrases, top_k=10):\n",
        "        return self.retriever.retrieve_batch(phrases, top_k=top_k)"
      ],
      "metadata": {
        "id": "Ae-nCtPSlG5G"
      },
      "execution_count": null,
      "outputs": []
    },
    {
      "cell_type": "markdown",
      "source": [
        "# Retrieve relevant evidences and convert them to Multivers format"
      ],
      "metadata": {
        "id": "y-rEY-kBQGam"
      }
    },
    {
      "cell_type": "code",
      "source": [
        "def is_claim(sentences,\n",
        "             model=claimbuster_model,\n",
        "             tokenizer=claimbuster_tokenizer,\n",
        "             debug=False):\n",
        "    if torch.cuda.is_available():\n",
        "        device = 0\n",
        "        batch_size = 128\n",
        "    else:\n",
        "        device = -1\n",
        "        batch_size = 1\n",
        "    pipe = pipeline(\"text-classification\", model=model,\n",
        "                    tokenizer=tokenizer, device=device)\n",
        "    labels, probs = [], []\n",
        "    for out in pipe(sentences, batch_size=batch_size):\n",
        "        labels.append(out['label'])\n",
        "        probs.append(out['score'])\n",
        "    if debug:\n",
        "        for sentence, label, prob in zip(sentences, labels, probs):\n",
        "            print(f\"{label}({prob:.3f})\")\n",
        "            print(sentence)\n",
        "    return list(map(lambda l: model.config.label2id[l], labels)), probs"
      ],
      "metadata": {
        "id": "WCxrorvwjmVn"
      },
      "execution_count": null,
      "outputs": []
    },
    {
      "cell_type": "code",
      "source": [
        "def get_claims_from_text(text, threshold=0.5, debug=False):\n",
        "    sentences = sent_tokenize(text)\n",
        "    predicted_class_ids, probs = is_claim(sentences, debug=debug)\n",
        "    return [sentence for sentence, label, prob in zip(sentences, predicted_class_ids, probs) if\n",
        "            label in [1, 2] and prob > threshold]"
      ],
      "metadata": {
        "id": "1_F90Lm7XA7S"
      },
      "execution_count": null,
      "outputs": []
    },
    {
      "cell_type": "code",
      "source": [
        "def get_text_from_url(news_article_url):\n",
        "    article = Article(news_article_url)\n",
        "    article.download()\n",
        "    article.parse()\n",
        "    article.nlp()\n",
        "    return article.text"
      ],
      "metadata": {
        "id": "IFQYzMPEQYdg"
      },
      "execution_count": null,
      "outputs": []
    },
    {
      "cell_type": "code",
      "source": [
        "@Timer(text=\"get_abstracts_matching_claims elapsed time: {seconds:.0f} s\")\n",
        "def get_abstracts_matching_claims(claims,\n",
        "                                  indexer,\n",
        "                                  top_k=10, debug=False):\n",
        "    all_matches = indexer.retrieve_matches_for_phrases(claims,\n",
        "                                                       top_k=top_k)\n",
        "    if debug:\n",
        "        for claim_n, matches in enumerate(all_matches):\n",
        "            print(f\"Claim:\\n{claims[claim_n]}\\n\")\n",
        "            for i, match in enumerate(matches):\n",
        "                print(f'Evidence {i}:\\n',\n",
        "                      f'Similarity: {match.score:.3f}\\n'\n",
        "                      f'Quote: {match.content}\\n',\n",
        "                      f'Article Title: {match.meta.get(\"title\", \"\")}\\n',\n",
        "                      f'DOI: {match.meta.get(\"doi\", \"\")}\\n',\n",
        "                      f'year: {match.meta.get(\"publication_year\", \"\")}\\n', )\n",
        "    return all_matches"
      ],
      "metadata": {
        "id": "skE84h6CkclL"
      },
      "execution_count": null,
      "outputs": []
    },
    {
      "cell_type": "code",
      "source": [
        "# https://github.com/dwadden/multivers/blob/main/doc/data.md\n",
        "def convert_evidences_from_abstracts_to_multivers_format(text, indexer,\n",
        "                                                         claims_filename,\n",
        "                                                         corpus_filename):\n",
        "    if text.startswith('http'):\n",
        "        text = get_text_from_url(text)\n",
        "    claims = get_claims_from_text(text, threshold=0.5)\n",
        "    evidence_abstracts = get_abstracts_matching_claims(claims, indexer, top_k=30)\n",
        "    with jsonlines.open(claims_filename, 'w') as claims_writer, \\\n",
        "            jsonlines.open(corpus_filename, 'w') as corpus_writer:\n",
        "        doc_id = 0\n",
        "\n",
        "        for claim_id, matches in enumerate(evidence_abstracts):\n",
        "            doc_ids = []\n",
        "            for i, match in enumerate(matches):\n",
        "                evidence_abstract = {\n",
        "                    'doc_id': doc_id,\n",
        "                    'title': match.meta.get(\"title\", \"\"),\n",
        "                    'abstract': sent_tokenize(match.content)\n",
        "                }\n",
        "                corpus_writer.write(evidence_abstract)\n",
        "                doc_ids.append(doc_id)\n",
        "                doc_id += 1\n",
        "            claim_doc = {\n",
        "                'id': claim_id,\n",
        "                'claim': claims[claim_id],\n",
        "                'doc_ids': doc_ids\n",
        "            }\n",
        "            claims_writer.write(claim_doc)"
      ],
      "metadata": {
        "id": "RHaFcHRjQUAz"
      },
      "execution_count": null,
      "outputs": []
    },
    {
      "cell_type": "code",
      "source": [
        "CLAIMS_FILE = \"claims.jsonl\"\n",
        "CORPUS_FILE = \"corpus.jsonl\"\n",
        "PREDS_FILE = \"preds.jsonl\""
      ],
      "metadata": {
        "id": "rb70Dx3s5LA6"
      },
      "execution_count": null,
      "outputs": []
    },
    {
      "cell_type": "code",
      "source": [
        "STORE_PATH = '/content/'\n",
        "faiss_indexer = FAISSIndexer(STORE_PATH, \n",
        "                             MODEL_NAME, \n",
        "                             EMBEDDING_DIM,\n",
        "                             # this needs to be changed to SIMILARITY which is dot_product when I re-index the abstracts correctly cause the used model was optimized for dot_product\n",
        "                             'cosine')\n",
        "# get_abstracts_matching_claims(\n",
        "#     [\"Rain now falls in massive bursts more frequently than it once did, triggering record floods.\",\n",
        "#       \"CO2 is not the cause of our current warming trend.\"],\n",
        "#     faiss_indexer,\n",
        "#     debug=True);\n",
        "\n",
        "\n",
        "# convert_evidences_from_abstracts_to_multivers_format(\"https://www.nationalgeographic.com/environment/article/amazon-rainforest-now-appears-to-be-contributing-to-climate-change\",\n",
        "#                                                      indexer=faiss_indexer,\n",
        "#                                                      claims_filename=CLAIMS_FILE,\n",
        "#                                                      corpus_filename=CORPUS_FILE)\n",
        "\n",
        "convert_evidences_from_abstracts_to_multivers_format(\"https://www.thesun.co.uk/news/15288148/climate-change-risks-economy/\",\n",
        "                                                     indexer=faiss_indexer,\n",
        "                                                     claims_filename=CLAIMS_FILE,\n",
        "                                                     corpus_filename=CORPUS_FILE)"
      ],
      "metadata": {
        "colab": {
          "base_uri": "https://localhost:8080/",
          "height": 104,
          "referenced_widgets": [
            "fe236bd1629a481387e5c48b27322e05",
            "50cb414c51404d2ca44f4f71758a7eaf",
            "15b527ea58454a2098a3f6561b04a09d",
            "0961f936d34a40b086531dff1cffc6e6",
            "ef2b2b1e9ce94698ba995285d3677bcc",
            "a321ea36dc524cf1bfe31f2b8c1bfef1",
            "16383eb79e6c41fd9b04e76393748380",
            "060bc0df6d78463da96c2d770996f81f",
            "9f63fde98a24434ca146eca58d18797d",
            "37faab3b6c794bb7ad1ad5fbe41d6320",
            "86b821f11d84442fb0e1e3af203870bb"
          ]
        },
        "id": "ofNHgqzh9jcs",
        "outputId": "b67f3641-a30d-40dd-e675-611b8f6a6bea"
      },
      "execution_count": null,
      "outputs": [
        {
          "output_type": "stream",
          "name": "stderr",
          "text": [
            "WARNING:sentence_transformers.SentenceTransformer:No sentence-transformers model found with name /root/.cache/torch/sentence_transformers/sebastian-hofstaetter_distilbert-dot-tas_b-b256-msmarco. Creating a new one with MEAN pooling.\n"
          ]
        },
        {
          "output_type": "display_data",
          "data": {
            "text/plain": [
              "Batches:   0%|          | 0/1 [00:00<?, ?it/s]"
            ],
            "application/vnd.jupyter.widget-view+json": {
              "version_major": 2,
              "version_minor": 0,
              "model_id": "fe236bd1629a481387e5c48b27322e05"
            }
          },
          "metadata": {}
        },
        {
          "output_type": "stream",
          "name": "stdout",
          "text": [
            "get_abstracts_matching_claims elapsed time: 7 s\n"
          ]
        }
      ]
    },
    {
      "cell_type": "markdown",
      "source": [
        "# First inference attempt"
      ],
      "metadata": {
        "id": "PVABbvPuer5K"
      }
    },
    {
      "cell_type": "code",
      "source": [
        "start = timer()"
      ],
      "metadata": {
        "id": "hAr3sKjQxKvh"
      },
      "execution_count": null,
      "outputs": []
    },
    {
      "cell_type": "code",
      "source": [
        "!source /content/multivers/bin/activate; python /content/multivers/multivers/predict.py \\\n",
        "        --checkpoint_path=/content/multivers/checkpoints/scifact.ckpt \\\n",
        "        --batch_size=1 \\\n",
        "        --input_file=\"/content/claims.jsonl\" \\\n",
        "        --corpus_file=\"/content/corpus.jsonl\" \\\n",
        "        --output_file=\"/content/preds.jsonl\""
      ],
      "metadata": {
        "colab": {
          "base_uri": "https://localhost:8080/"
        },
        "id": "RGo-X-zkHLPH",
        "outputId": "a40f32a9-2d86-4afd-928d-af9277b2cc5d"
      },
      "execution_count": null,
      "outputs": [
        {
          "output_type": "stream",
          "name": "stdout",
          "text": [
            "100% 420/420 [01:33<00:00,  4.48it/s]\n"
          ]
        }
      ]
    },
    {
      "cell_type": "code",
      "source": [
        "import gc\n",
        "gc.collect()"
      ],
      "metadata": {
        "colab": {
          "base_uri": "https://localhost:8080/"
        },
        "id": "aXZF20oVDuaW",
        "outputId": "9cc9aac1-a77e-4449-cfe9-405f510fadc4"
      },
      "execution_count": null,
      "outputs": [
        {
          "output_type": "execute_result",
          "data": {
            "text/plain": [
              "5"
            ]
          },
          "metadata": {},
          "execution_count": 4
        }
      ]
    },
    {
      "cell_type": "code",
      "source": [
        "end = timer()\n",
        "print(f\"Took {(end - start):.0f} seconds\")"
      ],
      "metadata": {
        "colab": {
          "base_uri": "https://localhost:8080/"
        },
        "id": "Tv9O9s72xRyt",
        "outputId": "9b360f4e-875d-4be8-a442-0345ea5d7090"
      },
      "execution_count": null,
      "outputs": [
        {
          "output_type": "stream",
          "name": "stdout",
          "text": [
            "Took 154 seconds\n"
          ]
        }
      ]
    },
    {
      "cell_type": "code",
      "source": [
        "# !cat /content/preds.jsonl"
      ],
      "metadata": {
        "id": "qDFnWELJL82s"
      },
      "execution_count": null,
      "outputs": []
    },
    {
      "cell_type": "code",
      "source": [
        "def get_verified_claims(preds_filename, claims_filename, corpus_filename):\n",
        "  claim_id_evidence_ids = {}\n",
        "  with jsonlines.open(preds_filename, 'r') as preds_reader:\n",
        "    for jsonline in preds_reader.iter():\n",
        "      if jsonline[\"evidence\"]:\n",
        "        evidences = []\n",
        "        for key in jsonline[\"evidence\"]:\n",
        "          d = {'evidence_id': key, \n",
        "              'label': jsonline[\"evidence\"][key]['label'],\n",
        "              'sentences': jsonline[\"evidence\"][key]['sentences']\n",
        "              }\n",
        "          evidences.append(d)\n",
        "        claim_id_evidence_ids[jsonline[\"id\"]] = {\"evidences\": evidences}\n",
        "\n",
        "  for claim_id in claim_id_evidence_ids:\n",
        "    with jsonlines.open(claims_filename, 'r') as claims_reader:\n",
        "      for line_num, jsonline in enumerate(claims_reader.iter()):\n",
        "        if line_num == claim_id:\n",
        "          claim_id_evidence_ids[claim_id]['claim_text']=jsonline['claim']\n",
        "\n",
        "  for claim_id in claim_id_evidence_ids:\n",
        "    evidences = claim_id_evidence_ids[claim_id]['evidences']\n",
        "    for evidence in evidences:\n",
        "      with jsonlines.open(corpus_filename, 'r') as corpus_reader:\n",
        "        for line_num, jsonline in enumerate(corpus_reader.iter()):\n",
        "          if str(line_num) == evidence['evidence_id']:\n",
        "            evidence['evidence_title'] = jsonline['title']\n",
        "            evidence['evidence_text'] = jsonline['abstract']\n",
        "            sentences_text = []\n",
        "            for sent_num in evidence['sentences']:\n",
        "              sentences_text.append(jsonline['abstract'][sent_num])\n",
        "            evidence['sentences_text'] = sentences_text\n",
        "    return claim_id_evidence_ids"
      ],
      "metadata": {
        "id": "PMUZpaLr-6MO"
      },
      "execution_count": null,
      "outputs": []
    },
    {
      "cell_type": "code",
      "source": [
        "verified_claims = get_verified_claims()"
      ],
      "metadata": {
        "id": "wodlmB_7ade5"
      },
      "execution_count": null,
      "outputs": []
    },
    {
      "cell_type": "code",
      "source": [
        "for claim_id, claim in verified_claims.items():\n",
        "  print('\\nClaim:\\n\\t', claim['claim_text'])\n",
        "  for evidence in claim['evidences']:\n",
        "    print(f\"\\nLabel: {evidence['label']}\")\n",
        "    print(f\"Article titile: {evidence['evidence_title']}\")\n",
        "    if evidence['sentences']:\n",
        "      for sent in evidence['sentences_text']:\n",
        "        print(f\"Phrase: {sent}\")\n",
        "    else:\n",
        "      print(f\"Abstract: {evidence['evidence_text']}\")\n",
        "    "
      ],
      "metadata": {
        "id": "8vVeT7Swg08K",
        "colab": {
          "base_uri": "https://localhost:8080/"
        },
        "outputId": "e2ebc322-b76d-4bde-a363-3229871669d1"
      },
      "execution_count": null,
      "outputs": [
        {
          "output_type": "stream",
          "name": "stdout",
          "text": [
            "\n",
            "Claim:\n",
            "\t But longer, hotter summers will lead to a tripling of heat-related deaths to around 7,000 per year.\n",
            "\n",
            "Label: CONTRADICT\n",
            "Article titile: Heat related deaths could rise from 2000 to 12 000 a year by the 2080s, health agency says\n",
            "Abstract: ['More deaths of elderly people relating to hot weather, a longer hay fever season, and more with asthma are just some the public health implications climate change predicted for United Kingdom by detailed report published today Health Protection Agency.1\\n\\nThere will also be flooding, ultraviolet light, greater potential exotic, disease carrying mosquitoes invade UK, says HPA’s report, unveiled at its annual conference in Warwick.', 'Temperatures UK have been rising around 0.25°C decade since 1960s, while amount summer rainfall has decreased that winter increased.', 'It is mean average temperature rise another 2°C 5°C 2080 heat waves become frequent.', 'Southern-central eastern England expected see largest temperatures rises, rises being most pronounced urban areas.', 'Currently 2000 die prematurely year …']\n",
            "\n",
            "Label: SUPPORT\n",
            "Article titile: Death in heat waves\n",
            "Phrase: Accurate estimates of consequences these must wait until daily data available, but press reports indicate hot weather caused around 1000 deaths one week alone perhaps 10 000 overall France, where higher.\n",
            "\n",
            "Label: SUPPORT\n",
            "Article titile: Climate Change and Heat-Related Excess Mortality in the Eastern USA\n",
            "Phrase: Warmer could cause 11,562 additional annual deaths (95% confidence interval, CI: 2641-20,095) due cardiovascular stress in population aged 65 years above, while higher minimum 8767 5030-12,475) each year.\n",
            "\n",
            "Label: CONTRADICT\n",
            "Article titile: Changing heat-related mortality in the United States.\n",
            "Phrase: For 28-city average, there were 41.0 +/- 4.8 (mean SE) deaths per year (per standard million) 1960s 1970s, 17.3 2.7 1980s, 10.5 2.0 1990s.\n",
            "\n",
            "Label: SUPPORT\n",
            "Article titile: The burden of heat-related mortality attributable to recent human-induced climate change\n",
            "Phrase: Across all study countries, find 37.0% (range 20.5–76.3%) of warm-season deaths can be attributed anthropogenic and increased is evident on every continent.\n",
            "\n",
            "Label: CONTRADICT\n",
            "Article titile: Heat-Related Mortality and Adaptation to Heat in the United States\n",
            "Phrase: Time-varying coefficient regression models Bayesian hierarchical were estimate city-specific, regional, temporal trends in identify factors might explain variation across cities.On average cities, number deaths (per 1,000 deaths) attributable each 10°F increase same-day temperature decreased from 51 [95% posterior interval (PI): 42, 61] 1987 19 (95% PI: 12, 27) 2005.\n",
            "Phrase: Based on 2005 estimates, an by 5°F (central climate projection) lead additional 1,907 per summer all cities.\n"
          ]
        }
      ]
    },
    {
      "cell_type": "code",
      "source": [],
      "metadata": {
        "id": "szmOz0Nxh_Ok"
      },
      "execution_count": null,
      "outputs": []
    }
  ]
}