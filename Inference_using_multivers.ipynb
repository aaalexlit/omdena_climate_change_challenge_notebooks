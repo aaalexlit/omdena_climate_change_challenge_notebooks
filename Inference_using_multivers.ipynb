{
  "nbformat": 4,
  "nbformat_minor": 0,
  "metadata": {
    "colab": {
      "provenance": [],
      "mount_file_id": "1dbY6ybcfezhqgVfN0CfUG_uJAkcU1IOV",
      "authorship_tag": "ABX9TyMWaG+Bo+AFNZsNcPz4KSYB",
      "include_colab_link": true
    },
    "kernelspec": {
      "name": "python3",
      "display_name": "Python 3"
    },
    "language_info": {
      "name": "python"
    },
    "accelerator": "GPU",
    "gpuClass": "standard"
  },
  "cells": [
    {
      "cell_type": "markdown",
      "metadata": {
        "id": "view-in-github",
        "colab_type": "text"
      },
      "source": [
        "<a href=\"https://colab.research.google.com/github/aaalexlit/omdena_climate_change_challenge_notebooks/blob/main/Inference_using_multivers.ipynb\" target=\"_parent\"><img src=\"https://colab.research.google.com/assets/colab-badge.svg\" alt=\"Open In Colab\"/></a>"
      ]
    },
    {
      "cell_type": "code",
      "execution_count": 1,
      "metadata": {
        "id": "Oy-D2TkIFdny"
      },
      "outputs": [],
      "source": [
        "%%capture\n",
        "!git clone https://github.com/dwadden/multivers.git"
      ]
    },
    {
      "cell_type": "code",
      "source": [
        "!gdown https://drive.google.com/uc?id=1KFKGaaiKwx81B_hIeSyvyqiMPDy0e6VZ -O corpus.jsonl\n",
        "!gdown https://drive.google.com/uc?id=1QwqYmNWQhlsy4Wabg5Lqtv0H1wDjW2N2 -O claims.jsonl"
      ],
      "metadata": {
        "colab": {
          "base_uri": "https://localhost:8080/"
        },
        "id": "GREndalUIId5",
        "outputId": "c80c016b-eafb-45fd-9d1c-f61a3653672d"
      },
      "execution_count": 2,
      "outputs": [
        {
          "output_type": "stream",
          "name": "stdout",
          "text": [
            "Downloading...\n",
            "From: https://drive.google.com/uc?id=1KFKGaaiKwx81B_hIeSyvyqiMPDy0e6VZ\n",
            "To: /content/corpus.jsonl\n",
            "100% 87.7k/87.7k [00:00<00:00, 87.1MB/s]\n",
            "Downloading...\n",
            "From: https://drive.google.com/uc?id=1QwqYmNWQhlsy4Wabg5Lqtv0H1wDjW2N2\n",
            "To: /content/claims.jsonl\n",
            "100% 629/629 [00:00<00:00, 1.43MB/s]\n"
          ]
        }
      ]
    },
    {
      "cell_type": "code",
      "source": [
        "%%capture\n",
        "!pip install virtualenv\n",
        "!virtualenv multivers\n",
        "!source /content/multivers/bin/activate; pip install -r /content/multivers/requirements.txt"
      ],
      "metadata": {
        "id": "2z7GAM7dRbXR"
      },
      "execution_count": 3,
      "outputs": []
    },
    {
      "cell_type": "code",
      "source": [
        "!python /content/multivers/script/get_checkpoint.py longformer_large_science\n",
        "!python /content/multivers/script/get_checkpoint.py scifact\n"
      ],
      "metadata": {
        "colab": {
          "base_uri": "https://localhost:8080/"
        },
        "id": "FdHc1LAAGFG1",
        "outputId": "cc1f1763-8180-4017-e0ac-872c9badc9ba"
      },
      "execution_count": 4,
      "outputs": [
        {
          "output_type": "stream",
          "name": "stdout",
          "text": [
            "--2023-02-24 14:01:02--  https://scifact.s3.us-west-2.amazonaws.com/longchecker/latest/checkpoints/longformer_large_science.ckpt\n",
            "Resolving scifact.s3.us-west-2.amazonaws.com (scifact.s3.us-west-2.amazonaws.com)... 52.218.212.1, 52.92.180.82, 3.5.80.155, ...\n",
            "Connecting to scifact.s3.us-west-2.amazonaws.com (scifact.s3.us-west-2.amazonaws.com)|52.218.212.1|:443... connected.\n",
            "HTTP request sent, awaiting response... 200 OK\n",
            "Length: 1646843693 (1.5G) [binary/octet-stream]\n",
            "Saving to: ‘checkpoints/longformer_large_science.ckpt’\n",
            "\n",
            "checkpoints/longfor 100%[===================>]   1.53G  4.59MB/s    in 2m 51s  \n",
            "\n",
            "2023-02-24 14:03:54 (9.18 MB/s) - ‘checkpoints/longformer_large_science.ckpt’ saved [1646843693/1646843693]\n",
            "\n",
            "--2023-02-24 14:03:54--  https://scifact.s3.us-west-2.amazonaws.com/longchecker/latest/checkpoints/scifact.ckpt\n",
            "Resolving scifact.s3.us-west-2.amazonaws.com (scifact.s3.us-west-2.amazonaws.com)... 52.92.131.66, 3.5.78.113, 52.92.146.74, ...\n",
            "Connecting to scifact.s3.us-west-2.amazonaws.com (scifact.s3.us-west-2.amazonaws.com)|52.92.131.66|:443... connected.\n",
            "HTTP request sent, awaiting response... 200 OK\n",
            "Length: 5253770098 (4.9G) [binary/octet-stream]\n",
            "Saving to: ‘checkpoints/scifact.ckpt’\n",
            "\n",
            "checkpoints/scifact 100%[===================>]   4.89G  16.4MB/s    in 7m 14s  \n",
            "\n",
            "2023-02-24 14:11:09 (11.6 MB/s) - ‘checkpoints/scifact.ckpt’ saved [5253770098/5253770098]\n",
            "\n"
          ]
        }
      ]
    },
    {
      "cell_type": "code",
      "source": [
        "!mv /content/checkpoints /content/multivers/checkpoints"
      ],
      "metadata": {
        "id": "Ecv2DoTWHmz8"
      },
      "execution_count": 5,
      "outputs": []
    },
    {
      "cell_type": "markdown",
      "source": [
        "### If CPU is not available  \n",
        "delete line `    model.to(f\"cuda:{args.device}\")` from `predict.py` otherwise it would throw an error `RuntimeError: No CUDA GPUs are available\n",
        "`"
      ],
      "metadata": {
        "id": "tmxYKbV6xOT5"
      }
    },
    {
      "cell_type": "code",
      "source": [
        "import torch\n",
        "import os\n",
        "if not torch.cuda.is_available():\n",
        "  ret_code = os.system(\"sed -i '40d' /content/multivers/multivers/predict.py\")\n",
        "  print(f\"exit code = {ret_code}\")"
      ],
      "metadata": {
        "id": "1ym2v6ExwOTq"
      },
      "execution_count": 6,
      "outputs": []
    },
    {
      "cell_type": "code",
      "source": [
        "from timeit import default_timer as timer\n",
        "start = timer()"
      ],
      "metadata": {
        "id": "hAr3sKjQxKvh"
      },
      "execution_count": 9,
      "outputs": []
    },
    {
      "cell_type": "code",
      "source": [
        "!source /content/multivers/bin/activate; python /content/multivers/multivers/predict.py \\\n",
        "        --checkpoint_path=/content/multivers/checkpoints/scifact.ckpt \\\n",
        "        --batch_size=100 \\\n",
        "        --input_file=/content/claims.jsonl \\\n",
        "        --corpus_file=/content/corpus.jsonl \\\n",
        "        --output_file=/content/preds.jsonl"
      ],
      "metadata": {
        "colab": {
          "base_uri": "https://localhost:8080/"
        },
        "id": "RGo-X-zkHLPH",
        "outputId": "ebf1f169-71aa-41f0-c2fd-cee8f1834707"
      },
      "execution_count": 10,
      "outputs": [
        {
          "output_type": "stream",
          "name": "stdout",
          "text": [
            "100% 1/1 [00:15<00:00, 15.12s/it]\n"
          ]
        }
      ]
    },
    {
      "cell_type": "code",
      "source": [
        "end = timer()\n",
        "print(f\"Took {(end - start):.0f} seconds\")"
      ],
      "metadata": {
        "colab": {
          "base_uri": "https://localhost:8080/"
        },
        "id": "Tv9O9s72xRyt",
        "outputId": "c885d9e0-51d4-48ed-fa90-67a010789420"
      },
      "execution_count": 11,
      "outputs": [
        {
          "output_type": "stream",
          "name": "stdout",
          "text": [
            "Took 80 seconds\n"
          ]
        }
      ]
    },
    {
      "cell_type": "code",
      "source": [
        "!cat /content/preds.jsonl"
      ],
      "metadata": {
        "colab": {
          "base_uri": "https://localhost:8080/"
        },
        "id": "qDFnWELJL82s",
        "outputId": "b0797e3a-7f7b-4ca3-9760-026ae246db53"
      },
      "execution_count": 12,
      "outputs": [
        {
          "output_type": "stream",
          "name": "stdout",
          "text": [
            "{\"id\": 0, \"evidence\": {}}\n",
            "{\"id\": 1, \"evidence\": {\"31\": {\"label\": \"CONTRADICT\", \"sentences\": []}, \"32\": {\"label\": \"CONTRADICT\", \"sentences\": [1]}}}\n",
            "{\"id\": 2, \"evidence\": {}}\n"
          ]
        }
      ]
    },
    {
      "cell_type": "code",
      "source": [],
      "metadata": {
        "id": "sMM3Rr8nMClz"
      },
      "execution_count": 8,
      "outputs": []
    }
  ]
}