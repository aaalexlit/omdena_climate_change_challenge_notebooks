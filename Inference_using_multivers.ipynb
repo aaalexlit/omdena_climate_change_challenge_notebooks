{
  "nbformat": 4,
  "nbformat_minor": 0,
  "metadata": {
    "colab": {
      "provenance": [],
      "mount_file_id": "1dbY6ybcfezhqgVfN0CfUG_uJAkcU1IOV",
      "authorship_tag": "ABX9TyOuzX169n98egpzeMTeH6/v",
      "include_colab_link": true
    },
    "kernelspec": {
      "name": "python3",
      "display_name": "Python 3"
    },
    "language_info": {
      "name": "python"
    },
    "accelerator": "GPU",
    "gpuClass": "standard"
  },
  "cells": [
    {
      "cell_type": "markdown",
      "metadata": {
        "id": "view-in-github",
        "colab_type": "text"
      },
      "source": [
        "<a href=\"https://colab.research.google.com/github/aaalexlit/omdena_climate_change_challenge_notebooks/blob/main/Inference_using_multivers.ipynb\" target=\"_parent\"><img src=\"https://colab.research.google.com/assets/colab-badge.svg\" alt=\"Open In Colab\"/></a>"
      ]
    },
    {
      "cell_type": "markdown",
      "source": [
        "# Setup"
      ],
      "metadata": {
        "id": "gcCejQT9fH20"
      }
    },
    {
      "cell_type": "markdown",
      "source": [
        "## Clone multivers repo"
      ],
      "metadata": {
        "id": "eJDH82bEfLlp"
      }
    },
    {
      "cell_type": "code",
      "execution_count": 1,
      "metadata": {
        "id": "Oy-D2TkIFdny"
      },
      "outputs": [],
      "source": [
        "%%capture\n",
        "!git clone https://github.com/dwadden/multivers.git"
      ]
    },
    {
      "cell_type": "markdown",
      "source": [
        "## Setup virtual environment and requirements\n",
        "virtual environment is needed to avoid conflicts with the packages already installed on Colab"
      ],
      "metadata": {
        "id": "yqfLZfK8fPM0"
      }
    },
    {
      "cell_type": "code",
      "source": [
        "%%capture\n",
        "!pip install virtualenv\n",
        "!virtualenv multivers\n",
        "!source /content/multivers/bin/activate; pip install -r /content/multivers/requirements.txt"
      ],
      "metadata": {
        "id": "2z7GAM7dRbXR"
      },
      "execution_count": 2,
      "outputs": []
    },
    {
      "cell_type": "markdown",
      "source": [
        "## Download the model checkpoints"
      ],
      "metadata": {
        "id": "X96cYNZ8fjHr"
      }
    },
    {
      "cell_type": "code",
      "source": [
        "!python /content/multivers/script/get_checkpoint.py longformer_large_science\n",
        "!python /content/multivers/script/get_checkpoint.py scifact\n"
      ],
      "metadata": {
        "colab": {
          "base_uri": "https://localhost:8080/"
        },
        "id": "FdHc1LAAGFG1",
        "outputId": "3d1a072f-82d0-4155-8ff9-6b2e7a92d236"
      },
      "execution_count": 3,
      "outputs": [
        {
          "output_type": "stream",
          "name": "stdout",
          "text": [
            "--2023-03-14 17:01:33--  https://scifact.s3.us-west-2.amazonaws.com/longchecker/latest/checkpoints/longformer_large_science.ckpt\n",
            "Resolving scifact.s3.us-west-2.amazonaws.com (scifact.s3.us-west-2.amazonaws.com)... 52.92.161.74, 52.218.249.49, 52.92.165.138, ...\n",
            "Connecting to scifact.s3.us-west-2.amazonaws.com (scifact.s3.us-west-2.amazonaws.com)|52.92.161.74|:443... connected.\n",
            "HTTP request sent, awaiting response... 200 OK\n",
            "Length: 1646843693 (1.5G) [binary/octet-stream]\n",
            "Saving to: ‘checkpoints/longformer_large_science.ckpt’\n",
            "\n",
            "checkpoints/longfor 100%[===================>]   1.53G  14.9MB/s    in 2m 32s  \n",
            "\n",
            "2023-03-14 17:04:05 (10.4 MB/s) - ‘checkpoints/longformer_large_science.ckpt’ saved [1646843693/1646843693]\n",
            "\n",
            "--2023-03-14 17:04:05--  https://scifact.s3.us-west-2.amazonaws.com/longchecker/latest/checkpoints/scifact.ckpt\n",
            "Resolving scifact.s3.us-west-2.amazonaws.com (scifact.s3.us-west-2.amazonaws.com)... 52.218.197.65, 3.5.80.199, 52.92.165.66, ...\n",
            "Connecting to scifact.s3.us-west-2.amazonaws.com (scifact.s3.us-west-2.amazonaws.com)|52.218.197.65|:443... connected.\n",
            "HTTP request sent, awaiting response... 200 OK\n",
            "Length: 5253770098 (4.9G) [binary/octet-stream]\n",
            "Saving to: ‘checkpoints/scifact.ckpt’\n",
            "\n",
            "checkpoints/scifact 100%[===================>]   4.89G  17.2MB/s    in 5m 44s  \n",
            "\n",
            "2023-03-14 17:09:50 (14.6 MB/s) - ‘checkpoints/scifact.ckpt’ saved [5253770098/5253770098]\n",
            "\n"
          ]
        }
      ]
    },
    {
      "cell_type": "markdown",
      "source": [
        "And move the models to the folder where multivers is looking for them"
      ],
      "metadata": {
        "id": "--vTkn0zfqa2"
      }
    },
    {
      "cell_type": "code",
      "source": [
        "!mv /content/checkpoints /content/multivers/checkpoints"
      ],
      "metadata": {
        "id": "Ecv2DoTWHmz8"
      },
      "execution_count": 4,
      "outputs": []
    },
    {
      "cell_type": "markdown",
      "source": [
        "## If CPU is not available only \n",
        "delete line `    model.to(f\"cuda:{args.device}\")` from `predict.py` otherwise it would throw an error `RuntimeError: No CUDA GPUs are available\n",
        "`"
      ],
      "metadata": {
        "id": "tmxYKbV6xOT5"
      }
    },
    {
      "cell_type": "code",
      "source": [
        "import torch\n",
        "import os\n",
        "if not torch.cuda.is_available():\n",
        "  ret_code = os.system(\"sed -i '40d' /content/multivers/multivers/predict.py\")\n",
        "  print(f\"exit code = {ret_code}\")"
      ],
      "metadata": {
        "id": "1ym2v6ExwOTq"
      },
      "execution_count": 5,
      "outputs": []
    },
    {
      "cell_type": "markdown",
      "source": [
        "# First inference attempt"
      ],
      "metadata": {
        "id": "PVABbvPuer5K"
      }
    },
    {
      "cell_type": "code",
      "source": [
        "!gdown https://drive.google.com/uc?id=1KFKGaaiKwx81B_hIeSyvyqiMPDy0e6VZ -O corpus.jsonl\n",
        "!gdown https://drive.google.com/uc?id=1QwqYmNWQhlsy4Wabg5Lqtv0H1wDjW2N2 -O claims.jsonl"
      ],
      "metadata": {
        "colab": {
          "base_uri": "https://localhost:8080/"
        },
        "id": "GREndalUIId5",
        "outputId": "fb906253-f063-40c3-d969-9ac0698a7890"
      },
      "execution_count": 6,
      "outputs": [
        {
          "output_type": "stream",
          "name": "stdout",
          "text": [
            "Downloading...\n",
            "From: https://drive.google.com/uc?id=1KFKGaaiKwx81B_hIeSyvyqiMPDy0e6VZ\n",
            "To: /content/corpus.jsonl\n",
            "100% 87.7k/87.7k [00:00<00:00, 81.3MB/s]\n",
            "Downloading...\n",
            "From: https://drive.google.com/uc?id=1QwqYmNWQhlsy4Wabg5Lqtv0H1wDjW2N2\n",
            "To: /content/claims.jsonl\n",
            "100% 629/629 [00:00<00:00, 1.01MB/s]\n"
          ]
        }
      ]
    },
    {
      "cell_type": "code",
      "source": [
        "from timeit import default_timer as timer\n",
        "start = timer()"
      ],
      "metadata": {
        "id": "hAr3sKjQxKvh"
      },
      "execution_count": 39,
      "outputs": []
    },
    {
      "cell_type": "code",
      "source": [
        "!source /content/multivers/bin/activate; python /content/multivers/multivers/predict.py \\\n",
        "        --checkpoint_path=/content/multivers/checkpoints/scifact.ckpt \\\n",
        "        --input_file=/content/claims.jsonl \\\n",
        "        --corpus_file=/content/corpus.jsonl \\\n",
        "        --output_file=/content/preds.jsonl"
      ],
      "metadata": {
        "colab": {
          "base_uri": "https://localhost:8080/"
        },
        "id": "RGo-X-zkHLPH",
        "outputId": "457aba83-104e-45ec-a255-2650db8fcc6b"
      },
      "execution_count": 40,
      "outputs": [
        {
          "output_type": "stream",
          "name": "stdout",
          "text": [
            "100% 90/90 [00:20<00:00,  4.30it/s]\n"
          ]
        }
      ]
    },
    {
      "cell_type": "code",
      "source": [
        "end = timer()\n",
        "print(f\"Took {(end - start):.0f} seconds\")"
      ],
      "metadata": {
        "colab": {
          "base_uri": "https://localhost:8080/"
        },
        "id": "Tv9O9s72xRyt",
        "outputId": "f2309200-03ef-4460-d665-d124855197f2"
      },
      "execution_count": 41,
      "outputs": [
        {
          "output_type": "stream",
          "name": "stdout",
          "text": [
            "Took 86 seconds\n"
          ]
        }
      ]
    },
    {
      "cell_type": "code",
      "source": [
        "!cat /content/preds.jsonl"
      ],
      "metadata": {
        "colab": {
          "base_uri": "https://localhost:8080/"
        },
        "id": "qDFnWELJL82s",
        "outputId": "f02b11a6-695f-484e-830d-c27c72203075"
      },
      "execution_count": 10,
      "outputs": [
        {
          "output_type": "stream",
          "name": "stdout",
          "text": [
            "{\"id\": 0, \"evidence\": {}}\n",
            "{\"id\": 1, \"evidence\": {\"31\": {\"label\": \"CONTRADICT\", \"sentences\": []}, \"32\": {\"label\": \"CONTRADICT\", \"sentences\": [1]}}}\n",
            "{\"id\": 2, \"evidence\": {}}\n"
          ]
        }
      ]
    },
    {
      "cell_type": "markdown",
      "source": [
        "## The result from the inference above visualized\n",
        "```\n",
        "{\"id\": 1, \"claim\": \"Arctic sea ice has expanded in recent years.\"}\n",
        "```\n",
        "the evidence from the below abstracts contradict with the claim\n",
        "```\n",
        "{\"doc_id\": 31, \n",
        "\"title\": \"An Updated Assessment of the Changing Arctic Sea Ice Cover\", \n",
        "\"abstract\": [\n",
        "  \"Sea ice is an essential component of the Arctic climate system.\", \n",
        "  \"The sea cover has undergone substantial changes in past 40+ years, including decline areal extent all months (strongest during summer), thinning, loss multiyear cover, earlier melt onset and retreat, later freeze-up advance.\", \n",
        "  \"In 10 these trends have been further reinforced, though (not statistically significant at p &lt;0.05) some parameters (e.g., extent) over decade are more moderate.\", \n",
        "  \"Since 2011, observing capabilities improved significantly, collection first basin-wide routine observations freeboard thickness by radar laser altimeters (except summer).\", \n",
        "  \"addition, data from a year-long field campaign 2019–2020 promises to yield bounty situ that will vastly improve understanding small-scale processes interactions between ice, ocean, atmosphere, as well provide valuable validation for satellite missions.\", \n",
        "  \"impacts within clear already affecting humans flora fauna.\", \n",
        "  \"Impacts outside Arctic, while garnering much attention, remain unclear.\", \n",
        "  \"future dependent on CO2 emissions, but seasonally ice-free Ocean likely coming decades.\", \n",
        "  \"However, year-to-year variability causes considerable uncertainty exactly when this happen.\", \n",
        "  \"also challenge seasonal prediction.\"]}\n",
        "{\"doc_id\": 32, \n",
        "\"title\": \"Arctic sea ice in transformation: A review of recent observed changes and impacts on biology and human activity\", \n",
        "\"abstract\": [\n",
        "  \"Sea ice in the Arctic is one of most rapidly changing components global climate system.\", \n",
        "  \"Over past few decades, summer areal extent has declined over 30, and all months show statistically significant declining trends.\", \n",
        "  \"New satellite missions techniques have greatly expanded information on sea thickness, but many uncertainties remain data long-term records are sparse.\", \n",
        "  \"However, thickness observations other satellite-derived indicate a 40 decline due large part to loss thicker, older cover.\", \n",
        "  \"The changes happening faster than models projected.\", \n",
        "  \"With continued increasing temperatures, ice-free conditions likely sometime coming though there substantial exact timing high interannual variability will as decreases.\", \n",
        "  \"already having an impact flora fauna Arctic.\", \n",
        "  \"Some species face challenges future, while new habitat open up for species.\", \n",
        "  \"also affecting peoples living working Native communities facing their traditional ways life, opportunities shipping, fishing, natural resource extraction.\"]}\n",
        "```\n",
        "\n",
        "For the rest of the claims there's NOT ENOUGH INFO"
      ],
      "metadata": {
        "id": "KobmhW7PdjRh"
      }
    },
    {
      "cell_type": "markdown",
      "source": [
        "# Testing inference for Claims extracted from this article  \n",
        "https://www.nationalgeographic.com/environment/article/amazon-rainforest-now-appears-to-be-contributing-to-climate-change\n",
        "\n",
        "There are 38 claims (they're not necessarily \"good\" claims, claim extraction is also AI assisted) and 30 abstracts for each claim"
      ],
      "metadata": {
        "id": "o8KPJLp7YmAe"
      }
    },
    {
      "cell_type": "code",
      "source": [
        "!gdown https://drive.google.com/uc?id=16FmVPslnSDYBevOms4C_AJTCZi9TC1UK -O corpus_1.jsonl\n",
        "!gdown https://drive.google.com/uc?id=1xUA2faMjS4-9ahZjovMnOIlTWu8-DeYX -O claims_1.jsonl"
      ],
      "metadata": {
        "colab": {
          "base_uri": "https://localhost:8080/"
        },
        "id": "sMM3Rr8nMClz",
        "outputId": "d5c882be-4d23-439d-9a2c-54a20f269ddf"
      },
      "execution_count": 11,
      "outputs": [
        {
          "output_type": "stream",
          "name": "stdout",
          "text": [
            "Downloading...\n",
            "From: https://drive.google.com/uc?id=16FmVPslnSDYBevOms4C_AJTCZi9TC1UK\n",
            "To: /content/corpus_1.jsonl\n",
            "100% 1.32M/1.32M [00:00<00:00, 137MB/s]\n",
            "Downloading...\n",
            "From: https://drive.google.com/uc?id=1xUA2faMjS4-9ahZjovMnOIlTWu8-DeYX\n",
            "To: /content/claims_1.jsonl\n",
            "100% 13.0k/13.0k [00:00<00:00, 22.5MB/s]\n"
          ]
        }
      ]
    },
    {
      "cell_type": "code",
      "source": [
        "start = timer()"
      ],
      "metadata": {
        "id": "sDP3LXUXYdiu"
      },
      "execution_count": 46,
      "outputs": []
    },
    {
      "cell_type": "code",
      "source": [
        "!source /content/multivers/bin/activate; python /content/multivers/multivers/predict.py \\\n",
        "        --checkpoint_path=/content/multivers/checkpoints/scifact.ckpt \\\n",
        "        --batch_size=10 \\\n",
        "        --input_file=/content/claims_1.jsonl \\\n",
        "        --corpus_file=/content/corpus_1.jsonl \\\n",
        "        --output_file=/content/preds_1.jsonl"
      ],
      "metadata": {
        "colab": {
          "base_uri": "https://localhost:8080/"
        },
        "id": "hDbYv93jYZS1",
        "outputId": "f176ecf0-3d07-4985-d537-56b735a8a02d"
      },
      "execution_count": 47,
      "outputs": [
        {
          "output_type": "stream",
          "name": "stdout",
          "text": [
            "100% 117/117 [03:36<00:00,  1.85s/it]\n"
          ]
        }
      ]
    },
    {
      "cell_type": "code",
      "source": [
        "!cat /content/preds_1.jsonl"
      ],
      "metadata": {
        "colab": {
          "base_uri": "https://localhost:8080/"
        },
        "id": "1rWkg9kdZkiE",
        "outputId": "9e9c27aa-d6a8-478b-94fd-762ad01786f1"
      },
      "execution_count": 48,
      "outputs": [
        {
          "output_type": "stream",
          "name": "stdout",
          "text": [
            "{\"id\": 0, \"evidence\": {}}\n",
            "{\"id\": 1, \"evidence\": {}}\n",
            "{\"id\": 2, \"evidence\": {}}\n",
            "{\"id\": 3, \"evidence\": {}}\n",
            "{\"id\": 4, \"evidence\": {}}\n",
            "{\"id\": 5, \"evidence\": {}}\n",
            "{\"id\": 6, \"evidence\": {}}\n",
            "{\"id\": 7, \"evidence\": {}}\n",
            "{\"id\": 8, \"evidence\": {}}\n",
            "{\"id\": 9, \"evidence\": {}}\n",
            "{\"id\": 10, \"evidence\": {}}\n",
            "{\"id\": 11, \"evidence\": {}}\n",
            "{\"id\": 12, \"evidence\": {}}\n",
            "{\"id\": 13, \"evidence\": {}}\n",
            "{\"id\": 14, \"evidence\": {}}\n",
            "{\"id\": 15, \"evidence\": {}}\n",
            "{\"id\": 16, \"evidence\": {}}\n",
            "{\"id\": 17, \"evidence\": {}}\n",
            "{\"id\": 18, \"evidence\": {}}\n",
            "{\"id\": 19, \"evidence\": {}}\n",
            "{\"id\": 20, \"evidence\": {}}\n",
            "{\"id\": 21, \"evidence\": {}}\n",
            "{\"id\": 22, \"evidence\": {\"681\": {\"label\": \"SUPPORT\", \"sentences\": [4]}, \"684\": {\"label\": \"SUPPORT\", \"sentences\": [8]}}}\n",
            "{\"id\": 23, \"evidence\": {}}\n",
            "{\"id\": 24, \"evidence\": {}}\n",
            "{\"id\": 25, \"evidence\": {}}\n",
            "{\"id\": 26, \"evidence\": {}}\n",
            "{\"id\": 27, \"evidence\": {}}\n",
            "{\"id\": 28, \"evidence\": {}}\n",
            "{\"id\": 29, \"evidence\": {}}\n",
            "{\"id\": 30, \"evidence\": {}}\n",
            "{\"id\": 31, \"evidence\": {}}\n",
            "{\"id\": 32, \"evidence\": {}}\n",
            "{\"id\": 33, \"evidence\": {}}\n",
            "{\"id\": 34, \"evidence\": {}}\n",
            "{\"id\": 35, \"evidence\": {}}\n",
            "{\"id\": 36, \"evidence\": {}}\n",
            "{\"id\": 37, \"evidence\": {}}\n",
            "{\"id\": 38, \"evidence\": {}}\n"
          ]
        }
      ]
    },
    {
      "cell_type": "code",
      "source": [
        "end = timer()\n",
        "print(f\"Took {(end - start):.0f} seconds\")"
      ],
      "metadata": {
        "colab": {
          "base_uri": "https://localhost:8080/"
        },
        "id": "4HrqBu8gYfkZ",
        "outputId": "19e2cbca-00e7-4b1b-ab70-c21a3431395c"
      },
      "execution_count": 49,
      "outputs": [
        {
          "output_type": "stream",
          "name": "stdout",
          "text": [
            "Took 284 seconds\n"
          ]
        }
      ]
    },
    {
      "cell_type": "markdown",
      "source": [
        "## The result from the inference above visualized\n",
        "```\n",
        "{\"id\": 22, \"claim\": \"Droughts come more often and, in some areas, last longer.\"}\n",
        "```\n",
        "the evidence from the below abstracts contradict with the claim\n",
        "```\n",
        "{\"doc_id\": 681, \n",
        "\"title\": \"Five Decades of Observed Daily Precipitation Reveal Longer and More Variable Drought Events Across Much of the Western United States\", \n",
        "\"abstract\": [\n",
        "  \"Multiple lines of evidence suggest climate change will result in increased precipitation variability and consequently more frequent extreme events.\", \n",
        "\"These hydroclimatic changes likely have significant socioecological impacts, especially across water-limited regions.\", \n",
        "\"Here we present an analysis daily meteorological observations from 1976 to 2019 at 337 long-term weather stations distributed the western United States (US).\", \n",
        "\"In addition widespread warming (0.2 °C ± 0.01°C/decade, maximum temperature), observed trends reduced annual (−2.3 1.5 mm/decade) most region, with increasing interannual precipitation.\", \n",
        "\"Critically, showed that extreme-duration drought became common, increases both mean longest dry interval between events (0.6 0.2, 2.4 0.3 days/decade) greater these intervals.\", \n",
        "\"findings indicate that, against a backdrop drying, large regions US are experiencing intensification variability, detrimental consequences for essential ecosystem services.\"]}\n",
        "{\"doc_id\": 684, \n",
        "\"title\": \"National-scale analysis of simulated hydrological droughts (1891–2015)\", \n",
        "\"abstract\": [\n",
        "  \"Droughts are phenomena that affect people and ecosystems in a variety of ways.\", \n",
        "  \"One way to help with resilience future droughts is understand the characteristics historic how these have changed over recent past.\", \n",
        "  \"Although, on average, Great Britain experiences relatively wet climate it also prone periods low rainfall which can lead droughts.\", \n",
        "  \"Until recently research into has been neglected compared other natural hazards such as storms floods.\", \n",
        "  \"This study first use national-scale gridded hydrological model characterise across last century.\", \n",
        "  \"Firstly, performance at flows assessed found simulate well many catchments Britain.\", \n",
        "  \"Next, threshold level method applied time series monthly mean river flow soil moisture identify (1891–2015).\", \n",
        "  \"It shown output be used drought periods.\", \n",
        "  \"A quantitative assessment shows groundwater-dependent areas typically experience more severe droughts, longer durations rather than higher intensities.\", \n",
        "  \"There substantial spatial temporal variability characteristics, but there no consistent changes through time.\"]}\n",
        "```\n",
        "\n",
        "For the rest of the claims there's NOT ENOUGH INFO"
      ],
      "metadata": {
        "id": "HQ2IKZ-JZmcR"
      }
    },
    {
      "cell_type": "markdown",
      "source": [
        "## Download original data"
      ],
      "metadata": {
        "id": "eNG2etQsLR_Q"
      }
    },
    {
      "cell_type": "code",
      "source": [
        "!gdown https://drive.google.com/uc?id=1uqehbrsMEez0jrUnu_4d12D4BBaHCKcm\n",
        "!tar -xf data.tar.gz\n",
        "!rm data.tar.gz"
      ],
      "metadata": {
        "colab": {
          "base_uri": "https://localhost:8080/"
        },
        "id": "MbWfZ9EGLXox",
        "outputId": "5c4b89ca-cf1d-46f5-aebd-f6da3842dfef"
      },
      "execution_count": 22,
      "outputs": [
        {
          "output_type": "stream",
          "name": "stdout",
          "text": [
            "Downloading...\n",
            "From: https://drive.google.com/uc?id=1uqehbrsMEez0jrUnu_4d12D4BBaHCKcm\n",
            "To: /content/data.tar.gz\n",
            "\r  0% 0.00/3.61M [00:00<?, ?B/s]\r100% 3.61M/3.61M [00:00<00:00, 93.1MB/s]\n"
          ]
        }
      ]
    },
    {
      "cell_type": "markdown",
      "source": [
        "## Time prediction on the original data"
      ],
      "metadata": {
        "id": "8vVeT7Swg08K"
      }
    },
    {
      "cell_type": "code",
      "source": [
        "start = timer()"
      ],
      "metadata": {
        "id": "r_y67ZTSCM3f"
      },
      "execution_count": 36,
      "outputs": []
    },
    {
      "cell_type": "code",
      "source": [
        "!source /content/multivers/bin/activate; python /content/multivers/multivers/predict.py \\\n",
        "        --checkpoint_path=/content/multivers/checkpoints/scifact.ckpt \\\n",
        "        --batch_size=10 \\\n",
        "        --input_file=/content/data/scifact/claims_test_retrieved.jsonl \\\n",
        "        --corpus_file=/content/data/scifact/corpus.jsonl \\\n",
        "        --output_file=/content/prediction/scifact.jsonl"
      ],
      "metadata": {
        "colab": {
          "base_uri": "https://localhost:8080/"
        },
        "id": "IGg1qRAAB48J",
        "outputId": "d7475c09-2e75-4dd1-8dc5-34fe1e46bef2"
      },
      "execution_count": 37,
      "outputs": [
        {
          "output_type": "stream",
          "name": "stdout",
          "text": [
            "100% 300/300 [15:30<00:00,  3.10s/it]\n"
          ]
        }
      ]
    },
    {
      "cell_type": "code",
      "source": [
        "end = timer()\n",
        "print(f\"Took {(end - start):.0f} seconds\")"
      ],
      "metadata": {
        "colab": {
          "base_uri": "https://localhost:8080/"
        },
        "id": "VWEFgAViCQal",
        "outputId": "98717b74-9a94-41a0-fa81-83dd37ea6f28"
      },
      "execution_count": 38,
      "outputs": [
        {
          "output_type": "stream",
          "name": "stdout",
          "text": [
            "Took 995 seconds\n"
          ]
        }
      ]
    },
    {
      "cell_type": "code",
      "source": [
        "!nvidia-smi"
      ],
      "metadata": {
        "colab": {
          "base_uri": "https://localhost:8080/"
        },
        "id": "dcuaFwsfKSbJ",
        "outputId": "eaa553fd-1c43-4baf-dd7e-4f01c1d91c6d"
      },
      "execution_count": 29,
      "outputs": [
        {
          "output_type": "stream",
          "name": "stdout",
          "text": [
            "Tue Mar 14 18:03:44 2023       \n",
            "+-----------------------------------------------------------------------------+\n",
            "| NVIDIA-SMI 525.85.12    Driver Version: 525.85.12    CUDA Version: 12.0     |\n",
            "|-------------------------------+----------------------+----------------------+\n",
            "| GPU  Name        Persistence-M| Bus-Id        Disp.A | Volatile Uncorr. ECC |\n",
            "| Fan  Temp  Perf  Pwr:Usage/Cap|         Memory-Usage | GPU-Util  Compute M. |\n",
            "|                               |                      |               MIG M. |\n",
            "|===============================+======================+======================|\n",
            "|   0  Tesla T4            Off  | 00000000:00:04.0 Off |                    0 |\n",
            "| N/A   58C    P0    29W /  70W |      3MiB / 15360MiB |      0%      Default |\n",
            "|                               |                      |                  N/A |\n",
            "+-------------------------------+----------------------+----------------------+\n",
            "                                                                               \n",
            "+-----------------------------------------------------------------------------+\n",
            "| Processes:                                                                  |\n",
            "|  GPU   GI   CI        PID   Type   Process name                  GPU Memory |\n",
            "|        ID   ID                                                   Usage      |\n",
            "|=============================================================================|\n",
            "|  No running processes found                                                 |\n",
            "+-----------------------------------------------------------------------------+\n"
          ]
        }
      ]
    },
    {
      "cell_type": "code",
      "source": [],
      "metadata": {
        "id": "wzMcBdPwSkhc"
      },
      "execution_count": null,
      "outputs": []
    }
  ]
}