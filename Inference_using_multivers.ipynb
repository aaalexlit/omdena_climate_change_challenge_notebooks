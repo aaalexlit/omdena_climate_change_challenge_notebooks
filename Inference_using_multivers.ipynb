{
  "nbformat": 4,
  "nbformat_minor": 0,
  "metadata": {
    "colab": {
      "provenance": [],
      "mount_file_id": "1dbY6ybcfezhqgVfN0CfUG_uJAkcU1IOV",
      "authorship_tag": "ABX9TyOcLDS5Osq7W0LCyEKIB4CM",
      "include_colab_link": true
    },
    "kernelspec": {
      "name": "python3",
      "display_name": "Python 3"
    },
    "language_info": {
      "name": "python"
    },
    "accelerator": "GPU",
    "gpuClass": "standard"
  },
  "cells": [
    {
      "cell_type": "markdown",
      "metadata": {
        "id": "view-in-github",
        "colab_type": "text"
      },
      "source": [
        "<a href=\"https://colab.research.google.com/github/aaalexlit/omdena_climate_change_challenge_notebooks/blob/main/Inference_using_multivers.ipynb\" target=\"_parent\"><img src=\"https://colab.research.google.com/assets/colab-badge.svg\" alt=\"Open In Colab\"/></a>"
      ]
    },
    {
      "cell_type": "markdown",
      "source": [
        "# Setup"
      ],
      "metadata": {
        "id": "gcCejQT9fH20"
      }
    },
    {
      "cell_type": "markdown",
      "source": [
        "## Clone multivers repo"
      ],
      "metadata": {
        "id": "eJDH82bEfLlp"
      }
    },
    {
      "cell_type": "code",
      "execution_count": 1,
      "metadata": {
        "id": "Oy-D2TkIFdny"
      },
      "outputs": [],
      "source": [
        "%%capture\n",
        "!git clone https://github.com/dwadden/multivers.git"
      ]
    },
    {
      "cell_type": "markdown",
      "source": [
        "## Setup virtual environment and requirements\n",
        "virtual environment is needed to avoid conflicts with the packages already installed on Colab"
      ],
      "metadata": {
        "id": "yqfLZfK8fPM0"
      }
    },
    {
      "cell_type": "code",
      "source": [
        "%%capture\n",
        "!pip install virtualenv\n",
        "!virtualenv multivers\n",
        "!source /content/multivers/bin/activate; pip install -r /content/multivers/requirements.txt"
      ],
      "metadata": {
        "id": "2z7GAM7dRbXR"
      },
      "execution_count": 3,
      "outputs": []
    },
    {
      "cell_type": "markdown",
      "source": [
        "## Download the model checkpoints"
      ],
      "metadata": {
        "id": "X96cYNZ8fjHr"
      }
    },
    {
      "cell_type": "code",
      "source": [
        "!python /content/multivers/script/get_checkpoint.py longformer_large_science\n",
        "!python /content/multivers/script/get_checkpoint.py scifact\n"
      ],
      "metadata": {
        "colab": {
          "base_uri": "https://localhost:8080/"
        },
        "id": "FdHc1LAAGFG1",
        "outputId": "2fc01ebd-031f-438a-d5eb-920fa47f530e"
      },
      "execution_count": 4,
      "outputs": [
        {
          "output_type": "stream",
          "name": "stdout",
          "text": [
            "--2023-02-25 06:39:29--  https://scifact.s3.us-west-2.amazonaws.com/longchecker/latest/checkpoints/longformer_large_science.ckpt\n",
            "Resolving scifact.s3.us-west-2.amazonaws.com (scifact.s3.us-west-2.amazonaws.com)... 52.218.221.137, 3.5.78.146, 3.5.78.210, ...\n",
            "Connecting to scifact.s3.us-west-2.amazonaws.com (scifact.s3.us-west-2.amazonaws.com)|52.218.221.137|:443... connected.\n",
            "HTTP request sent, awaiting response... 200 OK\n",
            "Length: 1646843693 (1.5G) [binary/octet-stream]\n",
            "Saving to: ‘checkpoints/longformer_large_science.ckpt’\n",
            "\n",
            "checkpoints/longfor 100%[===================>]   1.53G  21.3MB/s    in 2m 54s  \n",
            "\n",
            "2023-02-25 06:42:23 (9.02 MB/s) - ‘checkpoints/longformer_large_science.ckpt’ saved [1646843693/1646843693]\n",
            "\n",
            "--2023-02-25 06:42:24--  https://scifact.s3.us-west-2.amazonaws.com/longchecker/latest/checkpoints/scifact.ckpt\n",
            "Resolving scifact.s3.us-west-2.amazonaws.com (scifact.s3.us-west-2.amazonaws.com)... 52.218.176.233, 52.218.216.49, 3.5.78.146, ...\n",
            "Connecting to scifact.s3.us-west-2.amazonaws.com (scifact.s3.us-west-2.amazonaws.com)|52.218.176.233|:443... connected.\n",
            "HTTP request sent, awaiting response... 200 OK\n",
            "Length: 5253770098 (4.9G) [binary/octet-stream]\n",
            "Saving to: ‘checkpoints/scifact.ckpt’\n",
            "\n",
            "checkpoints/scifact 100%[===================>]   4.89G  40.8MB/s    in 2m 32s  \n",
            "\n",
            "2023-02-25 06:44:56 (33.0 MB/s) - ‘checkpoints/scifact.ckpt’ saved [5253770098/5253770098]\n",
            "\n"
          ]
        }
      ]
    },
    {
      "cell_type": "markdown",
      "source": [
        "And move the models to the folder where multivers is looking for them"
      ],
      "metadata": {
        "id": "--vTkn0zfqa2"
      }
    },
    {
      "cell_type": "code",
      "source": [
        "!mv /content/checkpoints /content/multivers/checkpoints"
      ],
      "metadata": {
        "id": "Ecv2DoTWHmz8"
      },
      "execution_count": 5,
      "outputs": []
    },
    {
      "cell_type": "markdown",
      "source": [
        "## If CPU is not available only \n",
        "delete line `    model.to(f\"cuda:{args.device}\")` from `predict.py` otherwise it would throw an error `RuntimeError: No CUDA GPUs are available\n",
        "`"
      ],
      "metadata": {
        "id": "tmxYKbV6xOT5"
      }
    },
    {
      "cell_type": "code",
      "source": [
        "import torch\n",
        "import os\n",
        "if not torch.cuda.is_available():\n",
        "  ret_code = os.system(\"sed -i '40d' /content/multivers/multivers/predict.py\")\n",
        "  print(f\"exit code = {ret_code}\")"
      ],
      "metadata": {
        "id": "1ym2v6ExwOTq"
      },
      "execution_count": 6,
      "outputs": []
    },
    {
      "cell_type": "markdown",
      "source": [
        "# First inference attempt"
      ],
      "metadata": {
        "id": "PVABbvPuer5K"
      }
    },
    {
      "cell_type": "code",
      "source": [
        "!gdown https://drive.google.com/uc?id=1KFKGaaiKwx81B_hIeSyvyqiMPDy0e6VZ -O corpus.jsonl\n",
        "!gdown https://drive.google.com/uc?id=1QwqYmNWQhlsy4Wabg5Lqtv0H1wDjW2N2 -O claims.jsonl"
      ],
      "metadata": {
        "colab": {
          "base_uri": "https://localhost:8080/"
        },
        "id": "GREndalUIId5",
        "outputId": "0ae9e4c4-fffc-41ed-d380-9871eda255f2"
      },
      "execution_count": 2,
      "outputs": [
        {
          "output_type": "stream",
          "name": "stdout",
          "text": [
            "Downloading...\n",
            "From: https://drive.google.com/uc?id=1KFKGaaiKwx81B_hIeSyvyqiMPDy0e6VZ\n",
            "To: /content/corpus.jsonl\n",
            "100% 87.7k/87.7k [00:00<00:00, 79.4MB/s]\n",
            "Downloading...\n",
            "From: https://drive.google.com/uc?id=1QwqYmNWQhlsy4Wabg5Lqtv0H1wDjW2N2\n",
            "To: /content/claims.jsonl\n",
            "100% 629/629 [00:00<00:00, 1.42MB/s]\n"
          ]
        }
      ]
    },
    {
      "cell_type": "code",
      "source": [
        "from timeit import default_timer as timer\n",
        "start = timer()"
      ],
      "metadata": {
        "id": "hAr3sKjQxKvh"
      },
      "execution_count": 7,
      "outputs": []
    },
    {
      "cell_type": "code",
      "source": [
        "!source /content/multivers/bin/activate; python /content/multivers/multivers/predict.py \\\n",
        "        --checkpoint_path=/content/multivers/checkpoints/scifact.ckpt \\\n",
        "        --batch_size=100 \\\n",
        "        --input_file=/content/claims.jsonl \\\n",
        "        --corpus_file=/content/corpus.jsonl \\\n",
        "        --output_file=/content/preds.jsonl"
      ],
      "metadata": {
        "colab": {
          "base_uri": "https://localhost:8080/"
        },
        "id": "RGo-X-zkHLPH",
        "outputId": "842c41a6-9228-4cf6-f33b-effa7998ac8f"
      },
      "execution_count": 8,
      "outputs": [
        {
          "output_type": "stream",
          "name": "stdout",
          "text": [
            "Downloading: 100% 803/803 [00:00<00:00, 1.02MB/s]\n",
            "Downloading: 100% 1.74G/1.74G [00:56<00:00, 31.0MB/s]\n",
            "Downloading: 100% 899k/899k [00:00<00:00, 6.37MB/s]\n",
            "Downloading: 100% 456k/456k [00:00<00:00, 3.48MB/s]\n",
            "Downloading: 100% 1.36M/1.36M [00:00<00:00, 6.62MB/s]\n",
            "100% 1/1 [00:15<00:00, 15.25s/it]\n"
          ]
        }
      ]
    },
    {
      "cell_type": "code",
      "source": [
        "end = timer()\n",
        "print(f\"Took {(end - start):.0f} seconds\")"
      ],
      "metadata": {
        "colab": {
          "base_uri": "https://localhost:8080/"
        },
        "id": "Tv9O9s72xRyt",
        "outputId": "2c644b9b-4b3e-43cb-ddc8-811fd8f8cd34"
      },
      "execution_count": 9,
      "outputs": [
        {
          "output_type": "stream",
          "name": "stdout",
          "text": [
            "Took 120 seconds\n"
          ]
        }
      ]
    },
    {
      "cell_type": "code",
      "source": [
        "!cat /content/preds.jsonl"
      ],
      "metadata": {
        "colab": {
          "base_uri": "https://localhost:8080/"
        },
        "id": "qDFnWELJL82s",
        "outputId": "37c6fa15-f9b0-4242-f6d6-9358d468d2ff"
      },
      "execution_count": 10,
      "outputs": [
        {
          "output_type": "stream",
          "name": "stdout",
          "text": [
            "{\"id\": 0, \"evidence\": {}}\n",
            "{\"id\": 1, \"evidence\": {\"31\": {\"label\": \"CONTRADICT\", \"sentences\": []}, \"32\": {\"label\": \"CONTRADICT\", \"sentences\": [1]}}}\n",
            "{\"id\": 2, \"evidence\": {}}\n"
          ]
        }
      ]
    },
    {
      "cell_type": "markdown",
      "source": [
        "## The result from the inference above visualized\n",
        "```\n",
        "{\"id\": 1, \"claim\": \"Arctic sea ice has expanded in recent years.\"}\n",
        "```\n",
        "the evidence from the below abstracts contradict with the claim\n",
        "```\n",
        "{\"doc_id\": 31, \"title\": \"An Updated Assessment of the Changing Arctic Sea Ice Cover\", \"abstract\": [\"Sea ice is an essential component of the Arctic climate system.\", \"The sea cover has undergone substantial changes in past 40+ years, including decline areal extent all months (strongest during summer), thinning, loss multiyear cover, earlier melt onset and retreat, later freeze-up advance.\", \"In 10 these trends have been further reinforced, though (not statistically significant at p &lt;0.05) some parameters (e.g., extent) over decade are more moderate.\", \"Since 2011, observing capabilities improved significantly, collection first basin-wide routine observations freeboard thickness by radar laser altimeters (except summer).\", \"addition, data from a year-long field campaign 2019–2020 promises to yield bounty situ that will vastly improve understanding small-scale processes interactions between ice, ocean, atmosphere, as well provide valuable validation for satellite missions.\", \"impacts within clear already affecting humans flora fauna.\", \"Impacts outside Arctic, while garnering much attention, remain unclear.\", \"future dependent on CO2 emissions, but seasonally ice-free Ocean likely coming decades.\", \"However, year-to-year variability causes considerable uncertainty exactly when this happen.\", \"also challenge seasonal prediction.\"]}\n",
        "{\"doc_id\": 32, \"title\": \"Arctic sea ice in transformation: A review of recent observed changes and impacts on biology and human activity\", \"abstract\": [\"Sea ice in the Arctic is one of most rapidly changing components global climate system.\", \"Over past few decades, summer areal extent has declined over 30, and all months show statistically significant declining trends.\", \"New satellite missions techniques have greatly expanded information on sea thickness, but many uncertainties remain data long-term records are sparse.\", \"However, thickness observations other satellite-derived indicate a 40 decline due large part to loss thicker, older cover.\", \"The changes happening faster than models projected.\", \"With continued increasing temperatures, ice-free conditions likely sometime coming though there substantial exact timing high interannual variability will as decreases.\", \"already having an impact flora fauna Arctic.\", \"Some species face challenges future, while new habitat open up for species.\", \"also affecting peoples living working Native communities facing their traditional ways life, opportunities shipping, fishing, natural resource extraction.\"]}\n",
        "```\n",
        "\n",
        "For the rest of the claims there's NOT ENOUGH INFO"
      ],
      "metadata": {
        "id": "KobmhW7PdjRh"
      }
    },
    {
      "cell_type": "markdown",
      "source": [
        "# Testing inference for Claims extracted from this article  \n",
        "https://www.nationalgeographic.com/environment/article/amazon-rainforest-now-appears-to-be-contributing-to-climate-change\n",
        "\n",
        "There are 38 claims (they're not necessarily \"good\" claims, claim extraction is also AI assisted) and 30 abstracts for each claim"
      ],
      "metadata": {
        "id": "o8KPJLp7YmAe"
      }
    },
    {
      "cell_type": "code",
      "source": [
        "!gdown https://drive.google.com/uc?id=16FmVPslnSDYBevOms4C_AJTCZi9TC1UK -O corpus_1.jsonl\n",
        "!gdown https://drive.google.com/uc?id=1xUA2faMjS4-9ahZjovMnOIlTWu8-DeYX -O claims_1.jsonl"
      ],
      "metadata": {
        "colab": {
          "base_uri": "https://localhost:8080/"
        },
        "id": "sMM3Rr8nMClz",
        "outputId": "1cae4aa3-cbfa-4fd0-c756-d633bc7862ad"
      },
      "execution_count": 11,
      "outputs": [
        {
          "output_type": "stream",
          "name": "stdout",
          "text": [
            "Downloading...\n",
            "From: https://drive.google.com/uc?id=16FmVPslnSDYBevOms4C_AJTCZi9TC1UK\n",
            "To: /content/corpus_1.jsonl\n",
            "100% 1.32M/1.32M [00:00<00:00, 131MB/s]\n",
            "Downloading...\n",
            "From: https://drive.google.com/uc?id=1xUA2faMjS4-9ahZjovMnOIlTWu8-DeYX\n",
            "To: /content/claims_1.jsonl\n",
            "100% 13.0k/13.0k [00:00<00:00, 22.7MB/s]\n"
          ]
        }
      ]
    },
    {
      "cell_type": "code",
      "source": [
        "start = timer()"
      ],
      "metadata": {
        "id": "sDP3LXUXYdiu"
      },
      "execution_count": 16,
      "outputs": []
    },
    {
      "cell_type": "code",
      "source": [
        "!source /content/multivers/bin/activate; python /content/multivers/multivers/predict.py \\\n",
        "        --checkpoint_path=/content/multivers/checkpoints/scifact.ckpt \\\n",
        "        --batch_size=10 \\\n",
        "        --input_file=/content/claims_1.jsonl \\\n",
        "        --corpus_file=/content/corpus_1.jsonl \\\n",
        "        --output_file=/content/preds_1.jsonl"
      ],
      "metadata": {
        "colab": {
          "base_uri": "https://localhost:8080/"
        },
        "id": "hDbYv93jYZS1",
        "outputId": "fee4cfe0-5d55-4b6d-ea08-d6416c525943"
      },
      "execution_count": 17,
      "outputs": [
        {
          "output_type": "stream",
          "name": "stdout",
          "text": [
            "100% 117/117 [03:29<00:00,  1.79s/it]\n"
          ]
        }
      ]
    },
    {
      "cell_type": "code",
      "source": [
        "!cat /content/preds_1.jsonl"
      ],
      "metadata": {
        "colab": {
          "base_uri": "https://localhost:8080/"
        },
        "id": "1rWkg9kdZkiE",
        "outputId": "02df5d6a-8dab-44f6-c0be-65247838cae2"
      },
      "execution_count": 18,
      "outputs": [
        {
          "output_type": "stream",
          "name": "stdout",
          "text": [
            "{\"id\": 0, \"evidence\": {}}\n",
            "{\"id\": 1, \"evidence\": {}}\n",
            "{\"id\": 2, \"evidence\": {}}\n",
            "{\"id\": 3, \"evidence\": {}}\n",
            "{\"id\": 4, \"evidence\": {}}\n",
            "{\"id\": 5, \"evidence\": {}}\n",
            "{\"id\": 6, \"evidence\": {}}\n",
            "{\"id\": 7, \"evidence\": {}}\n",
            "{\"id\": 8, \"evidence\": {}}\n",
            "{\"id\": 9, \"evidence\": {}}\n",
            "{\"id\": 10, \"evidence\": {}}\n",
            "{\"id\": 11, \"evidence\": {}}\n",
            "{\"id\": 12, \"evidence\": {}}\n",
            "{\"id\": 13, \"evidence\": {}}\n",
            "{\"id\": 14, \"evidence\": {}}\n",
            "{\"id\": 15, \"evidence\": {}}\n",
            "{\"id\": 16, \"evidence\": {}}\n",
            "{\"id\": 17, \"evidence\": {}}\n",
            "{\"id\": 18, \"evidence\": {}}\n",
            "{\"id\": 19, \"evidence\": {}}\n",
            "{\"id\": 20, \"evidence\": {}}\n",
            "{\"id\": 21, \"evidence\": {}}\n",
            "{\"id\": 22, \"evidence\": {\"681\": {\"label\": \"SUPPORT\", \"sentences\": [4]}, \"684\": {\"label\": \"SUPPORT\", \"sentences\": [8]}}}\n",
            "{\"id\": 23, \"evidence\": {}}\n",
            "{\"id\": 24, \"evidence\": {}}\n",
            "{\"id\": 25, \"evidence\": {}}\n",
            "{\"id\": 26, \"evidence\": {}}\n",
            "{\"id\": 27, \"evidence\": {}}\n",
            "{\"id\": 28, \"evidence\": {}}\n",
            "{\"id\": 29, \"evidence\": {}}\n",
            "{\"id\": 30, \"evidence\": {}}\n",
            "{\"id\": 31, \"evidence\": {}}\n",
            "{\"id\": 32, \"evidence\": {}}\n",
            "{\"id\": 33, \"evidence\": {}}\n",
            "{\"id\": 34, \"evidence\": {}}\n",
            "{\"id\": 35, \"evidence\": {}}\n",
            "{\"id\": 36, \"evidence\": {}}\n",
            "{\"id\": 37, \"evidence\": {}}\n",
            "{\"id\": 38, \"evidence\": {}}\n"
          ]
        }
      ]
    },
    {
      "cell_type": "code",
      "source": [
        "end = timer()\n",
        "print(f\"Took {(end - start):.0f} seconds\")"
      ],
      "metadata": {
        "colab": {
          "base_uri": "https://localhost:8080/"
        },
        "id": "4HrqBu8gYfkZ",
        "outputId": "38c8ebb3-1b5f-45b1-d727-2140f265e71c"
      },
      "execution_count": 19,
      "outputs": [
        {
          "output_type": "stream",
          "name": "stdout",
          "text": [
            "Took 274 seconds\n"
          ]
        }
      ]
    },
    {
      "cell_type": "markdown",
      "source": [
        "## The result from the inference above visualized\n",
        "```\n",
        "{\"id\": 22, \"claim\": \"Droughts come more often and, in some areas, last longer.\"}\n",
        "```\n",
        "the evidence from the below abstracts contradict with the claim\n",
        "```\n",
        "{\"doc_id\": 681, \n",
        "\"title\": \"Five Decades of Observed Daily Precipitation Reveal Longer and More Variable Drought Events Across Much of the Western United States\", \n",
        "\"abstract\": [\n",
        "  \"Multiple lines of evidence suggest climate change will result in increased precipitation variability and consequently more frequent extreme events.\", \n",
        "\"These hydroclimatic changes likely have significant socioecological impacts, especially across water-limited regions.\", \n",
        "\"Here we present an analysis daily meteorological observations from 1976 to 2019 at 337 long-term weather stations distributed the western United States (US).\", \n",
        "\"In addition widespread warming (0.2 °C ± 0.01°C/decade, maximum temperature), observed trends reduced annual (−2.3 1.5 mm/decade) most region, with increasing interannual precipitation.\", \n",
        "\"Critically, showed that extreme-duration drought became common, increases both mean longest dry interval between events (0.6 0.2, 2.4 0.3 days/decade) greater these intervals.\", \n",
        "\"findings indicate that, against a backdrop drying, large regions US are experiencing intensification variability, detrimental consequences for essential ecosystem services.\"]}\n",
        "{\"doc_id\": 684, \n",
        "\"title\": \"National-scale analysis of simulated hydrological droughts (1891–2015)\", \n",
        "\"abstract\": [\n",
        "  \"Droughts are phenomena that affect people and ecosystems in a variety of ways.\", \n",
        "  \"One way to help with resilience future droughts is understand the characteristics historic how these have changed over recent past.\", \n",
        "  \"Although, on average, Great Britain experiences relatively wet climate it also prone periods low rainfall which can lead droughts.\", \n",
        "  \"Until recently research into has been neglected compared other natural hazards such as storms floods.\", \n",
        "  \"This study first use national-scale gridded hydrological model characterise across last century.\", \n",
        "  \"Firstly, performance at flows assessed found simulate well many catchments Britain.\", \n",
        "  \"Next, threshold level method applied time series monthly mean river flow soil moisture identify (1891–2015).\", \n",
        "  \"It shown output be used drought periods.\", \n",
        "  \"A quantitative assessment shows groundwater-dependent areas typically experience more severe droughts, longer durations rather than higher intensities.\", \n",
        "  \"There substantial spatial temporal variability characteristics, but there no consistent changes through time.\"]}\n",
        "```\n",
        "\n",
        "For the rest of the claims there's NOT ENOUGH INFO"
      ],
      "metadata": {
        "id": "HQ2IKZ-JZmcR"
      }
    },
    {
      "cell_type": "code",
      "source": [],
      "metadata": {
        "id": "8vVeT7Swg08K"
      },
      "execution_count": null,
      "outputs": []
    }
  ]
}