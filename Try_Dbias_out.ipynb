{
  "nbformat": 4,
  "nbformat_minor": 0,
  "metadata": {
    "colab": {
      "provenance": [],
      "authorship_tag": "ABX9TyNaz/eRKaG6x79cMseMUqJn",
      "include_colab_link": true
    },
    "kernelspec": {
      "name": "python3",
      "display_name": "Python 3"
    },
    "language_info": {
      "name": "python"
    }
  },
  "cells": [
    {
      "cell_type": "markdown",
      "metadata": {
        "id": "view-in-github",
        "colab_type": "text"
      },
      "source": [
        "<a href=\"https://colab.research.google.com/github/aaalexlit/omdena_climate_change_challenge_notebooks/blob/main/Try_Dbias_out.ipynb\" target=\"_parent\"><img src=\"https://colab.research.google.com/assets/colab-badge.svg\" alt=\"Open In Colab\"/></a>"
      ]
    },
    {
      "cell_type": "code",
      "execution_count": 1,
      "metadata": {
        "id": "88b4y7H9o9j9"
      },
      "outputs": [],
      "source": [
        "%%capture\n",
        "!pip install Dbias\n",
        "!pip install https://huggingface.co/d4data/en_pipeline/resolve/main/en_pipeline-any-py3-none-any.whl\n",
        "\n",
        "\n",
        "from Dbias.bias_classification import *\n",
        "from Dbias.bias_recognition import *\n",
        "from Dbias.bias_masking import *\n",
        "from Dbias.text_debiasing import * "
      ]
    },
    {
      "cell_type": "code",
      "source": [
        "\n",
        "input_phrase = \"Christians should make clear that the perpetuation of objectionable vaccines and the lack of alternatives is a kind of coercion.\"\n",
        "# Uncomment this to run the models on a phrase that the model offered as de-biased version of the original one..\n",
        "# input_phrase = 'Christians should make clear that the perpetuation of hiv vaccines and the lack of alternatives is a kind of coercion.'\n",
        "# And this to test on climate-related sentence\n",
        "# input_phrase = \"Anthropogenic CO2 can't be changing climate, because CO2 is only a trace gas in the atmosphere and the amount produced by humans is dwarfed by the amount from volcanoes and other natural sources\""
      ],
      "metadata": {
        "id": "-n1pxYussgjO"
      },
      "execution_count": 2,
      "outputs": []
    },
    {
      "cell_type": "markdown",
      "source": [
        "## To classify is biased or not"
      ],
      "metadata": {
        "id": "wgr_yIyvpGr3"
      }
    },
    {
      "cell_type": "code",
      "source": [
        "# returns classification label for a given sentence fragment.\n",
        "classifier(input_phrase)"
      ],
      "metadata": {
        "colab": {
          "base_uri": "https://localhost:8080/"
        },
        "id": "WhcBtZC4rfT6",
        "outputId": "3389b3a3-c2e6-4ca2-e7af-73c5e8b8da81"
      },
      "execution_count": 3,
      "outputs": [
        {
          "output_type": "execute_result",
          "data": {
            "text/plain": [
              "[{'label': 'Biased', 'score': 0.912908136844635}]"
            ]
          },
          "metadata": {},
          "execution_count": 3
        }
      ]
    },
    {
      "cell_type": "markdown",
      "source": [
        "##To Recognize the biased words/phrases"
      ],
      "metadata": {
        "id": "X2ZHfuuDpji2"
      }
    },
    {
      "cell_type": "code",
      "source": [
        "# returns extracted biased entities from a given sentence fragment\n",
        "biased_entites = recognizer(input_phrase)\n",
        "for biased_entity in biased_entites:\n",
        "  print(f\"entity '{biased_entity['entity']}' has a label {biased_entity['label']}\")"
      ],
      "metadata": {
        "colab": {
          "base_uri": "https://localhost:8080/"
        },
        "id": "4zcFPbSOpoG4",
        "outputId": "b3fc8b3b-5629-4e5c-9957-6d71a7d2e74a"
      },
      "execution_count": 4,
      "outputs": [
        {
          "output_type": "stream",
          "name": "stdout",
          "text": [
            "entity 'objectionable' has a label bias\n"
          ]
        }
      ]
    },
    {
      "cell_type": "markdown",
      "source": [
        "## To Mask out the biased portions of a given sentence fragment"
      ],
      "metadata": {
        "id": "hQTUl4MarRvR"
      }
    },
    {
      "cell_type": "code",
      "source": [
        "# returns extracted biased entities from a given sentence fragment\n",
        "masking(input_phrase)"
      ],
      "metadata": {
        "colab": {
          "base_uri": "https://localhost:8080/"
        },
        "id": "fZQ0ST_mpqEY",
        "outputId": "a17c43c1-c9d3-4af4-dde7-c04a6431fec0"
      },
      "execution_count": 5,
      "outputs": [
        {
          "output_type": "execute_result",
          "data": {
            "text/plain": [
              "[{'masked': 'Christians should make clear that the perpetuation of [MASK] vaccines and the lack of alternatives is a kind of coercion.',\n",
              "  'words': ['objectionable']}]"
            ]
          },
          "metadata": {},
          "execution_count": 5
        }
      ]
    },
    {
      "cell_type": "markdown",
      "source": [
        "## To de-bias"
      ],
      "metadata": {
        "id": "rMMMe4yNpuYJ"
      }
    },
    {
      "cell_type": "code",
      "source": [
        "run(input_phrase)\n"
      ],
      "metadata": {
        "colab": {
          "base_uri": "https://localhost:8080/"
        },
        "id": "hC8OSzZWsFsQ",
        "outputId": "93fb29e8-51e8-40f4-b7f6-3d2df65286ae"
      },
      "execution_count": 6,
      "outputs": [
        {
          "output_type": "stream",
          "name": "stdout",
          "text": [
            "We were able to reduce the amount of bias!\n"
          ]
        },
        {
          "output_type": "execute_result",
          "data": {
            "text/plain": [
              "[{'Sentence': 'Christians should make clear that the perpetuation of these vaccines and the lack of alternatives is a kind of coercion.',\n",
              "  'bias': 0.8593251705169678},\n",
              " {'Sentence': 'Christians should make clear that the perpetuation of new vaccines and the lack of alternatives is a kind of coercion.',\n",
              "  'bias': 0.8865146040916443},\n",
              " {'Sentence': 'Christians should make clear that the perpetuation of the vaccines and the lack of alternatives is a kind of coercion.',\n",
              "  'bias': 0.8459372520446777}]"
            ]
          },
          "metadata": {},
          "execution_count": 6
        }
      ]
    }
  ]
}