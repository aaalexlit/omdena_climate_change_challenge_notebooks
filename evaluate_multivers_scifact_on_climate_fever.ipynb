{
  "nbformat": 4,
  "nbformat_minor": 0,
  "metadata": {
    "colab": {
      "provenance": [],
      "mount_file_id": "1ddscevGQnIsCgR-Qx5sOUdw-F7kbZgyE",
      "authorship_tag": "ABX9TyMpb+9Bc9lnbix0ws8izE42",
      "include_colab_link": true
    },
    "kernelspec": {
      "name": "python3",
      "display_name": "Python 3"
    },
    "language_info": {
      "name": "python"
    },
    "accelerator": "GPU",
    "gpuClass": "standard",
    "widgets": {
      "application/vnd.jupyter.widget-state+json": {
        "7fc35ea4adf048ba8d42136a1cc9d8ab": {
          "model_module": "@jupyter-widgets/controls",
          "model_name": "HBoxModel",
          "model_module_version": "1.5.0",
          "state": {
            "_dom_classes": [],
            "_model_module": "@jupyter-widgets/controls",
            "_model_module_version": "1.5.0",
            "_model_name": "HBoxModel",
            "_view_count": null,
            "_view_module": "@jupyter-widgets/controls",
            "_view_module_version": "1.5.0",
            "_view_name": "HBoxView",
            "box_style": "",
            "children": [
              "IPY_MODEL_1eb49c9e69da4be1a77043b9f7f7c3b2",
              "IPY_MODEL_b6a36154cd604a29b1333b305f1a1351",
              "IPY_MODEL_fc652fbd17ea4929a8b54084b0bf1e66"
            ],
            "layout": "IPY_MODEL_b433efb0b2a049b3b573b1371c643f15"
          }
        },
        "1eb49c9e69da4be1a77043b9f7f7c3b2": {
          "model_module": "@jupyter-widgets/controls",
          "model_name": "HTMLModel",
          "model_module_version": "1.5.0",
          "state": {
            "_dom_classes": [],
            "_model_module": "@jupyter-widgets/controls",
            "_model_module_version": "1.5.0",
            "_model_name": "HTMLModel",
            "_view_count": null,
            "_view_module": "@jupyter-widgets/controls",
            "_view_module_version": "1.5.0",
            "_view_name": "HTMLView",
            "description": "",
            "description_tooltip": null,
            "layout": "IPY_MODEL_0287d092cdc24c77b9c374104171abd4",
            "placeholder": "​",
            "style": "IPY_MODEL_903f51ab706f4a3a83fb88bff307ea2f",
            "value": "Downloading builder script: 100%"
          }
        },
        "b6a36154cd604a29b1333b305f1a1351": {
          "model_module": "@jupyter-widgets/controls",
          "model_name": "FloatProgressModel",
          "model_module_version": "1.5.0",
          "state": {
            "_dom_classes": [],
            "_model_module": "@jupyter-widgets/controls",
            "_model_module_version": "1.5.0",
            "_model_name": "FloatProgressModel",
            "_view_count": null,
            "_view_module": "@jupyter-widgets/controls",
            "_view_module_version": "1.5.0",
            "_view_name": "ProgressView",
            "bar_style": "success",
            "description": "",
            "description_tooltip": null,
            "layout": "IPY_MODEL_70b6be4ca241428c9aa87b647498cc62",
            "max": 5130,
            "min": 0,
            "orientation": "horizontal",
            "style": "IPY_MODEL_d89b2b5866144e9ea82457cab4796828",
            "value": 5130
          }
        },
        "fc652fbd17ea4929a8b54084b0bf1e66": {
          "model_module": "@jupyter-widgets/controls",
          "model_name": "HTMLModel",
          "model_module_version": "1.5.0",
          "state": {
            "_dom_classes": [],
            "_model_module": "@jupyter-widgets/controls",
            "_model_module_version": "1.5.0",
            "_model_name": "HTMLModel",
            "_view_count": null,
            "_view_module": "@jupyter-widgets/controls",
            "_view_module_version": "1.5.0",
            "_view_name": "HTMLView",
            "description": "",
            "description_tooltip": null,
            "layout": "IPY_MODEL_483fd692379e481bbefb97a01121967a",
            "placeholder": "​",
            "style": "IPY_MODEL_f7a25c45a2904f03903e0273134bc508",
            "value": " 5.13k/5.13k [00:00&lt;00:00, 179kB/s]"
          }
        },
        "b433efb0b2a049b3b573b1371c643f15": {
          "model_module": "@jupyter-widgets/base",
          "model_name": "LayoutModel",
          "model_module_version": "1.2.0",
          "state": {
            "_model_module": "@jupyter-widgets/base",
            "_model_module_version": "1.2.0",
            "_model_name": "LayoutModel",
            "_view_count": null,
            "_view_module": "@jupyter-widgets/base",
            "_view_module_version": "1.2.0",
            "_view_name": "LayoutView",
            "align_content": null,
            "align_items": null,
            "align_self": null,
            "border": null,
            "bottom": null,
            "display": null,
            "flex": null,
            "flex_flow": null,
            "grid_area": null,
            "grid_auto_columns": null,
            "grid_auto_flow": null,
            "grid_auto_rows": null,
            "grid_column": null,
            "grid_gap": null,
            "grid_row": null,
            "grid_template_areas": null,
            "grid_template_columns": null,
            "grid_template_rows": null,
            "height": null,
            "justify_content": null,
            "justify_items": null,
            "left": null,
            "margin": null,
            "max_height": null,
            "max_width": null,
            "min_height": null,
            "min_width": null,
            "object_fit": null,
            "object_position": null,
            "order": null,
            "overflow": null,
            "overflow_x": null,
            "overflow_y": null,
            "padding": null,
            "right": null,
            "top": null,
            "visibility": null,
            "width": null
          }
        },
        "0287d092cdc24c77b9c374104171abd4": {
          "model_module": "@jupyter-widgets/base",
          "model_name": "LayoutModel",
          "model_module_version": "1.2.0",
          "state": {
            "_model_module": "@jupyter-widgets/base",
            "_model_module_version": "1.2.0",
            "_model_name": "LayoutModel",
            "_view_count": null,
            "_view_module": "@jupyter-widgets/base",
            "_view_module_version": "1.2.0",
            "_view_name": "LayoutView",
            "align_content": null,
            "align_items": null,
            "align_self": null,
            "border": null,
            "bottom": null,
            "display": null,
            "flex": null,
            "flex_flow": null,
            "grid_area": null,
            "grid_auto_columns": null,
            "grid_auto_flow": null,
            "grid_auto_rows": null,
            "grid_column": null,
            "grid_gap": null,
            "grid_row": null,
            "grid_template_areas": null,
            "grid_template_columns": null,
            "grid_template_rows": null,
            "height": null,
            "justify_content": null,
            "justify_items": null,
            "left": null,
            "margin": null,
            "max_height": null,
            "max_width": null,
            "min_height": null,
            "min_width": null,
            "object_fit": null,
            "object_position": null,
            "order": null,
            "overflow": null,
            "overflow_x": null,
            "overflow_y": null,
            "padding": null,
            "right": null,
            "top": null,
            "visibility": null,
            "width": null
          }
        },
        "903f51ab706f4a3a83fb88bff307ea2f": {
          "model_module": "@jupyter-widgets/controls",
          "model_name": "DescriptionStyleModel",
          "model_module_version": "1.5.0",
          "state": {
            "_model_module": "@jupyter-widgets/controls",
            "_model_module_version": "1.5.0",
            "_model_name": "DescriptionStyleModel",
            "_view_count": null,
            "_view_module": "@jupyter-widgets/base",
            "_view_module_version": "1.2.0",
            "_view_name": "StyleView",
            "description_width": ""
          }
        },
        "70b6be4ca241428c9aa87b647498cc62": {
          "model_module": "@jupyter-widgets/base",
          "model_name": "LayoutModel",
          "model_module_version": "1.2.0",
          "state": {
            "_model_module": "@jupyter-widgets/base",
            "_model_module_version": "1.2.0",
            "_model_name": "LayoutModel",
            "_view_count": null,
            "_view_module": "@jupyter-widgets/base",
            "_view_module_version": "1.2.0",
            "_view_name": "LayoutView",
            "align_content": null,
            "align_items": null,
            "align_self": null,
            "border": null,
            "bottom": null,
            "display": null,
            "flex": null,
            "flex_flow": null,
            "grid_area": null,
            "grid_auto_columns": null,
            "grid_auto_flow": null,
            "grid_auto_rows": null,
            "grid_column": null,
            "grid_gap": null,
            "grid_row": null,
            "grid_template_areas": null,
            "grid_template_columns": null,
            "grid_template_rows": null,
            "height": null,
            "justify_content": null,
            "justify_items": null,
            "left": null,
            "margin": null,
            "max_height": null,
            "max_width": null,
            "min_height": null,
            "min_width": null,
            "object_fit": null,
            "object_position": null,
            "order": null,
            "overflow": null,
            "overflow_x": null,
            "overflow_y": null,
            "padding": null,
            "right": null,
            "top": null,
            "visibility": null,
            "width": null
          }
        },
        "d89b2b5866144e9ea82457cab4796828": {
          "model_module": "@jupyter-widgets/controls",
          "model_name": "ProgressStyleModel",
          "model_module_version": "1.5.0",
          "state": {
            "_model_module": "@jupyter-widgets/controls",
            "_model_module_version": "1.5.0",
            "_model_name": "ProgressStyleModel",
            "_view_count": null,
            "_view_module": "@jupyter-widgets/base",
            "_view_module_version": "1.2.0",
            "_view_name": "StyleView",
            "bar_color": null,
            "description_width": ""
          }
        },
        "483fd692379e481bbefb97a01121967a": {
          "model_module": "@jupyter-widgets/base",
          "model_name": "LayoutModel",
          "model_module_version": "1.2.0",
          "state": {
            "_model_module": "@jupyter-widgets/base",
            "_model_module_version": "1.2.0",
            "_model_name": "LayoutModel",
            "_view_count": null,
            "_view_module": "@jupyter-widgets/base",
            "_view_module_version": "1.2.0",
            "_view_name": "LayoutView",
            "align_content": null,
            "align_items": null,
            "align_self": null,
            "border": null,
            "bottom": null,
            "display": null,
            "flex": null,
            "flex_flow": null,
            "grid_area": null,
            "grid_auto_columns": null,
            "grid_auto_flow": null,
            "grid_auto_rows": null,
            "grid_column": null,
            "grid_gap": null,
            "grid_row": null,
            "grid_template_areas": null,
            "grid_template_columns": null,
            "grid_template_rows": null,
            "height": null,
            "justify_content": null,
            "justify_items": null,
            "left": null,
            "margin": null,
            "max_height": null,
            "max_width": null,
            "min_height": null,
            "min_width": null,
            "object_fit": null,
            "object_position": null,
            "order": null,
            "overflow": null,
            "overflow_x": null,
            "overflow_y": null,
            "padding": null,
            "right": null,
            "top": null,
            "visibility": null,
            "width": null
          }
        },
        "f7a25c45a2904f03903e0273134bc508": {
          "model_module": "@jupyter-widgets/controls",
          "model_name": "DescriptionStyleModel",
          "model_module_version": "1.5.0",
          "state": {
            "_model_module": "@jupyter-widgets/controls",
            "_model_module_version": "1.5.0",
            "_model_name": "DescriptionStyleModel",
            "_view_count": null,
            "_view_module": "@jupyter-widgets/base",
            "_view_module_version": "1.2.0",
            "_view_name": "StyleView",
            "description_width": ""
          }
        },
        "0e2be710a4ee4151ba84e23087dcbbbd": {
          "model_module": "@jupyter-widgets/controls",
          "model_name": "HBoxModel",
          "model_module_version": "1.5.0",
          "state": {
            "_dom_classes": [],
            "_model_module": "@jupyter-widgets/controls",
            "_model_module_version": "1.5.0",
            "_model_name": "HBoxModel",
            "_view_count": null,
            "_view_module": "@jupyter-widgets/controls",
            "_view_module_version": "1.5.0",
            "_view_name": "HBoxView",
            "box_style": "",
            "children": [
              "IPY_MODEL_7899df7c704b4cda84e81aeab8d37284",
              "IPY_MODEL_454e1cbc9ce34751a2e238999f36f53b",
              "IPY_MODEL_fb3e7f21cb93429bbf21b81eeced8463"
            ],
            "layout": "IPY_MODEL_177507f00e6e482ab52f2302e69d2b7e"
          }
        },
        "7899df7c704b4cda84e81aeab8d37284": {
          "model_module": "@jupyter-widgets/controls",
          "model_name": "HTMLModel",
          "model_module_version": "1.5.0",
          "state": {
            "_dom_classes": [],
            "_model_module": "@jupyter-widgets/controls",
            "_model_module_version": "1.5.0",
            "_model_name": "HTMLModel",
            "_view_count": null,
            "_view_module": "@jupyter-widgets/controls",
            "_view_module_version": "1.5.0",
            "_view_name": "HTMLView",
            "description": "",
            "description_tooltip": null,
            "layout": "IPY_MODEL_5b2ee7b1f10542c7bf3f884543909927",
            "placeholder": "​",
            "style": "IPY_MODEL_07c0b2ea1d7140c28e9bcadd4717eca2",
            "value": "Downloading metadata: 100%"
          }
        },
        "454e1cbc9ce34751a2e238999f36f53b": {
          "model_module": "@jupyter-widgets/controls",
          "model_name": "FloatProgressModel",
          "model_module_version": "1.5.0",
          "state": {
            "_dom_classes": [],
            "_model_module": "@jupyter-widgets/controls",
            "_model_module_version": "1.5.0",
            "_model_name": "FloatProgressModel",
            "_view_count": null,
            "_view_module": "@jupyter-widgets/controls",
            "_view_module_version": "1.5.0",
            "_view_name": "ProgressView",
            "bar_style": "success",
            "description": "",
            "description_tooltip": null,
            "layout": "IPY_MODEL_f5569b6963a048d18f8b6b71b83b18f4",
            "max": 2363,
            "min": 0,
            "orientation": "horizontal",
            "style": "IPY_MODEL_8a376b298b4f4cc2a74544f07b2b192c",
            "value": 2363
          }
        },
        "fb3e7f21cb93429bbf21b81eeced8463": {
          "model_module": "@jupyter-widgets/controls",
          "model_name": "HTMLModel",
          "model_module_version": "1.5.0",
          "state": {
            "_dom_classes": [],
            "_model_module": "@jupyter-widgets/controls",
            "_model_module_version": "1.5.0",
            "_model_name": "HTMLModel",
            "_view_count": null,
            "_view_module": "@jupyter-widgets/controls",
            "_view_module_version": "1.5.0",
            "_view_name": "HTMLView",
            "description": "",
            "description_tooltip": null,
            "layout": "IPY_MODEL_477578dbe6bb449bae3d6324044ea7f6",
            "placeholder": "​",
            "style": "IPY_MODEL_81181589384347aeb433b9a2612a4a7b",
            "value": " 2.36k/2.36k [00:00&lt;00:00, 71.3kB/s]"
          }
        },
        "177507f00e6e482ab52f2302e69d2b7e": {
          "model_module": "@jupyter-widgets/base",
          "model_name": "LayoutModel",
          "model_module_version": "1.2.0",
          "state": {
            "_model_module": "@jupyter-widgets/base",
            "_model_module_version": "1.2.0",
            "_model_name": "LayoutModel",
            "_view_count": null,
            "_view_module": "@jupyter-widgets/base",
            "_view_module_version": "1.2.0",
            "_view_name": "LayoutView",
            "align_content": null,
            "align_items": null,
            "align_self": null,
            "border": null,
            "bottom": null,
            "display": null,
            "flex": null,
            "flex_flow": null,
            "grid_area": null,
            "grid_auto_columns": null,
            "grid_auto_flow": null,
            "grid_auto_rows": null,
            "grid_column": null,
            "grid_gap": null,
            "grid_row": null,
            "grid_template_areas": null,
            "grid_template_columns": null,
            "grid_template_rows": null,
            "height": null,
            "justify_content": null,
            "justify_items": null,
            "left": null,
            "margin": null,
            "max_height": null,
            "max_width": null,
            "min_height": null,
            "min_width": null,
            "object_fit": null,
            "object_position": null,
            "order": null,
            "overflow": null,
            "overflow_x": null,
            "overflow_y": null,
            "padding": null,
            "right": null,
            "top": null,
            "visibility": null,
            "width": null
          }
        },
        "5b2ee7b1f10542c7bf3f884543909927": {
          "model_module": "@jupyter-widgets/base",
          "model_name": "LayoutModel",
          "model_module_version": "1.2.0",
          "state": {
            "_model_module": "@jupyter-widgets/base",
            "_model_module_version": "1.2.0",
            "_model_name": "LayoutModel",
            "_view_count": null,
            "_view_module": "@jupyter-widgets/base",
            "_view_module_version": "1.2.0",
            "_view_name": "LayoutView",
            "align_content": null,
            "align_items": null,
            "align_self": null,
            "border": null,
            "bottom": null,
            "display": null,
            "flex": null,
            "flex_flow": null,
            "grid_area": null,
            "grid_auto_columns": null,
            "grid_auto_flow": null,
            "grid_auto_rows": null,
            "grid_column": null,
            "grid_gap": null,
            "grid_row": null,
            "grid_template_areas": null,
            "grid_template_columns": null,
            "grid_template_rows": null,
            "height": null,
            "justify_content": null,
            "justify_items": null,
            "left": null,
            "margin": null,
            "max_height": null,
            "max_width": null,
            "min_height": null,
            "min_width": null,
            "object_fit": null,
            "object_position": null,
            "order": null,
            "overflow": null,
            "overflow_x": null,
            "overflow_y": null,
            "padding": null,
            "right": null,
            "top": null,
            "visibility": null,
            "width": null
          }
        },
        "07c0b2ea1d7140c28e9bcadd4717eca2": {
          "model_module": "@jupyter-widgets/controls",
          "model_name": "DescriptionStyleModel",
          "model_module_version": "1.5.0",
          "state": {
            "_model_module": "@jupyter-widgets/controls",
            "_model_module_version": "1.5.0",
            "_model_name": "DescriptionStyleModel",
            "_view_count": null,
            "_view_module": "@jupyter-widgets/base",
            "_view_module_version": "1.2.0",
            "_view_name": "StyleView",
            "description_width": ""
          }
        },
        "f5569b6963a048d18f8b6b71b83b18f4": {
          "model_module": "@jupyter-widgets/base",
          "model_name": "LayoutModel",
          "model_module_version": "1.2.0",
          "state": {
            "_model_module": "@jupyter-widgets/base",
            "_model_module_version": "1.2.0",
            "_model_name": "LayoutModel",
            "_view_count": null,
            "_view_module": "@jupyter-widgets/base",
            "_view_module_version": "1.2.0",
            "_view_name": "LayoutView",
            "align_content": null,
            "align_items": null,
            "align_self": null,
            "border": null,
            "bottom": null,
            "display": null,
            "flex": null,
            "flex_flow": null,
            "grid_area": null,
            "grid_auto_columns": null,
            "grid_auto_flow": null,
            "grid_auto_rows": null,
            "grid_column": null,
            "grid_gap": null,
            "grid_row": null,
            "grid_template_areas": null,
            "grid_template_columns": null,
            "grid_template_rows": null,
            "height": null,
            "justify_content": null,
            "justify_items": null,
            "left": null,
            "margin": null,
            "max_height": null,
            "max_width": null,
            "min_height": null,
            "min_width": null,
            "object_fit": null,
            "object_position": null,
            "order": null,
            "overflow": null,
            "overflow_x": null,
            "overflow_y": null,
            "padding": null,
            "right": null,
            "top": null,
            "visibility": null,
            "width": null
          }
        },
        "8a376b298b4f4cc2a74544f07b2b192c": {
          "model_module": "@jupyter-widgets/controls",
          "model_name": "ProgressStyleModel",
          "model_module_version": "1.5.0",
          "state": {
            "_model_module": "@jupyter-widgets/controls",
            "_model_module_version": "1.5.0",
            "_model_name": "ProgressStyleModel",
            "_view_count": null,
            "_view_module": "@jupyter-widgets/base",
            "_view_module_version": "1.2.0",
            "_view_name": "StyleView",
            "bar_color": null,
            "description_width": ""
          }
        },
        "477578dbe6bb449bae3d6324044ea7f6": {
          "model_module": "@jupyter-widgets/base",
          "model_name": "LayoutModel",
          "model_module_version": "1.2.0",
          "state": {
            "_model_module": "@jupyter-widgets/base",
            "_model_module_version": "1.2.0",
            "_model_name": "LayoutModel",
            "_view_count": null,
            "_view_module": "@jupyter-widgets/base",
            "_view_module_version": "1.2.0",
            "_view_name": "LayoutView",
            "align_content": null,
            "align_items": null,
            "align_self": null,
            "border": null,
            "bottom": null,
            "display": null,
            "flex": null,
            "flex_flow": null,
            "grid_area": null,
            "grid_auto_columns": null,
            "grid_auto_flow": null,
            "grid_auto_rows": null,
            "grid_column": null,
            "grid_gap": null,
            "grid_row": null,
            "grid_template_areas": null,
            "grid_template_columns": null,
            "grid_template_rows": null,
            "height": null,
            "justify_content": null,
            "justify_items": null,
            "left": null,
            "margin": null,
            "max_height": null,
            "max_width": null,
            "min_height": null,
            "min_width": null,
            "object_fit": null,
            "object_position": null,
            "order": null,
            "overflow": null,
            "overflow_x": null,
            "overflow_y": null,
            "padding": null,
            "right": null,
            "top": null,
            "visibility": null,
            "width": null
          }
        },
        "81181589384347aeb433b9a2612a4a7b": {
          "model_module": "@jupyter-widgets/controls",
          "model_name": "DescriptionStyleModel",
          "model_module_version": "1.5.0",
          "state": {
            "_model_module": "@jupyter-widgets/controls",
            "_model_module_version": "1.5.0",
            "_model_name": "DescriptionStyleModel",
            "_view_count": null,
            "_view_module": "@jupyter-widgets/base",
            "_view_module_version": "1.2.0",
            "_view_name": "StyleView",
            "description_width": ""
          }
        },
        "7e32899252a14dc196e4d92062e5a13e": {
          "model_module": "@jupyter-widgets/controls",
          "model_name": "HBoxModel",
          "model_module_version": "1.5.0",
          "state": {
            "_dom_classes": [],
            "_model_module": "@jupyter-widgets/controls",
            "_model_module_version": "1.5.0",
            "_model_name": "HBoxModel",
            "_view_count": null,
            "_view_module": "@jupyter-widgets/controls",
            "_view_module_version": "1.5.0",
            "_view_name": "HBoxView",
            "box_style": "",
            "children": [
              "IPY_MODEL_69901156df83477baf540b881dc94153",
              "IPY_MODEL_34b8b15e6cee4198894bbf719f0180c2",
              "IPY_MODEL_394062f0f7ea439384c46bde148cdfb0"
            ],
            "layout": "IPY_MODEL_24de6edaa8374718b6646ef12bc87bd3"
          }
        },
        "69901156df83477baf540b881dc94153": {
          "model_module": "@jupyter-widgets/controls",
          "model_name": "HTMLModel",
          "model_module_version": "1.5.0",
          "state": {
            "_dom_classes": [],
            "_model_module": "@jupyter-widgets/controls",
            "_model_module_version": "1.5.0",
            "_model_name": "HTMLModel",
            "_view_count": null,
            "_view_module": "@jupyter-widgets/controls",
            "_view_module_version": "1.5.0",
            "_view_name": "HTMLView",
            "description": "",
            "description_tooltip": null,
            "layout": "IPY_MODEL_8d6de3ead4ae4fa6a37369b3de645ada",
            "placeholder": "​",
            "style": "IPY_MODEL_565b021e1bcb42568cd0a4430dcdd5b5",
            "value": "Downloading readme: 100%"
          }
        },
        "34b8b15e6cee4198894bbf719f0180c2": {
          "model_module": "@jupyter-widgets/controls",
          "model_name": "FloatProgressModel",
          "model_module_version": "1.5.0",
          "state": {
            "_dom_classes": [],
            "_model_module": "@jupyter-widgets/controls",
            "_model_module_version": "1.5.0",
            "_model_name": "FloatProgressModel",
            "_view_count": null,
            "_view_module": "@jupyter-widgets/controls",
            "_view_module_version": "1.5.0",
            "_view_name": "ProgressView",
            "bar_style": "success",
            "description": "",
            "description_tooltip": null,
            "layout": "IPY_MODEL_43ed11186b29407198b9acbd8180083f",
            "max": 8004,
            "min": 0,
            "orientation": "horizontal",
            "style": "IPY_MODEL_53786d3a747b49d386c03e667afb27b2",
            "value": 8004
          }
        },
        "394062f0f7ea439384c46bde148cdfb0": {
          "model_module": "@jupyter-widgets/controls",
          "model_name": "HTMLModel",
          "model_module_version": "1.5.0",
          "state": {
            "_dom_classes": [],
            "_model_module": "@jupyter-widgets/controls",
            "_model_module_version": "1.5.0",
            "_model_name": "HTMLModel",
            "_view_count": null,
            "_view_module": "@jupyter-widgets/controls",
            "_view_module_version": "1.5.0",
            "_view_name": "HTMLView",
            "description": "",
            "description_tooltip": null,
            "layout": "IPY_MODEL_42ec6f8af87f4bb5bc477ac553a1e73e",
            "placeholder": "​",
            "style": "IPY_MODEL_54e83944445e4a238ccc8330f8b19eb9",
            "value": " 8.00k/8.00k [00:00&lt;00:00, 333kB/s]"
          }
        },
        "24de6edaa8374718b6646ef12bc87bd3": {
          "model_module": "@jupyter-widgets/base",
          "model_name": "LayoutModel",
          "model_module_version": "1.2.0",
          "state": {
            "_model_module": "@jupyter-widgets/base",
            "_model_module_version": "1.2.0",
            "_model_name": "LayoutModel",
            "_view_count": null,
            "_view_module": "@jupyter-widgets/base",
            "_view_module_version": "1.2.0",
            "_view_name": "LayoutView",
            "align_content": null,
            "align_items": null,
            "align_self": null,
            "border": null,
            "bottom": null,
            "display": null,
            "flex": null,
            "flex_flow": null,
            "grid_area": null,
            "grid_auto_columns": null,
            "grid_auto_flow": null,
            "grid_auto_rows": null,
            "grid_column": null,
            "grid_gap": null,
            "grid_row": null,
            "grid_template_areas": null,
            "grid_template_columns": null,
            "grid_template_rows": null,
            "height": null,
            "justify_content": null,
            "justify_items": null,
            "left": null,
            "margin": null,
            "max_height": null,
            "max_width": null,
            "min_height": null,
            "min_width": null,
            "object_fit": null,
            "object_position": null,
            "order": null,
            "overflow": null,
            "overflow_x": null,
            "overflow_y": null,
            "padding": null,
            "right": null,
            "top": null,
            "visibility": null,
            "width": null
          }
        },
        "8d6de3ead4ae4fa6a37369b3de645ada": {
          "model_module": "@jupyter-widgets/base",
          "model_name": "LayoutModel",
          "model_module_version": "1.2.0",
          "state": {
            "_model_module": "@jupyter-widgets/base",
            "_model_module_version": "1.2.0",
            "_model_name": "LayoutModel",
            "_view_count": null,
            "_view_module": "@jupyter-widgets/base",
            "_view_module_version": "1.2.0",
            "_view_name": "LayoutView",
            "align_content": null,
            "align_items": null,
            "align_self": null,
            "border": null,
            "bottom": null,
            "display": null,
            "flex": null,
            "flex_flow": null,
            "grid_area": null,
            "grid_auto_columns": null,
            "grid_auto_flow": null,
            "grid_auto_rows": null,
            "grid_column": null,
            "grid_gap": null,
            "grid_row": null,
            "grid_template_areas": null,
            "grid_template_columns": null,
            "grid_template_rows": null,
            "height": null,
            "justify_content": null,
            "justify_items": null,
            "left": null,
            "margin": null,
            "max_height": null,
            "max_width": null,
            "min_height": null,
            "min_width": null,
            "object_fit": null,
            "object_position": null,
            "order": null,
            "overflow": null,
            "overflow_x": null,
            "overflow_y": null,
            "padding": null,
            "right": null,
            "top": null,
            "visibility": null,
            "width": null
          }
        },
        "565b021e1bcb42568cd0a4430dcdd5b5": {
          "model_module": "@jupyter-widgets/controls",
          "model_name": "DescriptionStyleModel",
          "model_module_version": "1.5.0",
          "state": {
            "_model_module": "@jupyter-widgets/controls",
            "_model_module_version": "1.5.0",
            "_model_name": "DescriptionStyleModel",
            "_view_count": null,
            "_view_module": "@jupyter-widgets/base",
            "_view_module_version": "1.2.0",
            "_view_name": "StyleView",
            "description_width": ""
          }
        },
        "43ed11186b29407198b9acbd8180083f": {
          "model_module": "@jupyter-widgets/base",
          "model_name": "LayoutModel",
          "model_module_version": "1.2.0",
          "state": {
            "_model_module": "@jupyter-widgets/base",
            "_model_module_version": "1.2.0",
            "_model_name": "LayoutModel",
            "_view_count": null,
            "_view_module": "@jupyter-widgets/base",
            "_view_module_version": "1.2.0",
            "_view_name": "LayoutView",
            "align_content": null,
            "align_items": null,
            "align_self": null,
            "border": null,
            "bottom": null,
            "display": null,
            "flex": null,
            "flex_flow": null,
            "grid_area": null,
            "grid_auto_columns": null,
            "grid_auto_flow": null,
            "grid_auto_rows": null,
            "grid_column": null,
            "grid_gap": null,
            "grid_row": null,
            "grid_template_areas": null,
            "grid_template_columns": null,
            "grid_template_rows": null,
            "height": null,
            "justify_content": null,
            "justify_items": null,
            "left": null,
            "margin": null,
            "max_height": null,
            "max_width": null,
            "min_height": null,
            "min_width": null,
            "object_fit": null,
            "object_position": null,
            "order": null,
            "overflow": null,
            "overflow_x": null,
            "overflow_y": null,
            "padding": null,
            "right": null,
            "top": null,
            "visibility": null,
            "width": null
          }
        },
        "53786d3a747b49d386c03e667afb27b2": {
          "model_module": "@jupyter-widgets/controls",
          "model_name": "ProgressStyleModel",
          "model_module_version": "1.5.0",
          "state": {
            "_model_module": "@jupyter-widgets/controls",
            "_model_module_version": "1.5.0",
            "_model_name": "ProgressStyleModel",
            "_view_count": null,
            "_view_module": "@jupyter-widgets/base",
            "_view_module_version": "1.2.0",
            "_view_name": "StyleView",
            "bar_color": null,
            "description_width": ""
          }
        },
        "42ec6f8af87f4bb5bc477ac553a1e73e": {
          "model_module": "@jupyter-widgets/base",
          "model_name": "LayoutModel",
          "model_module_version": "1.2.0",
          "state": {
            "_model_module": "@jupyter-widgets/base",
            "_model_module_version": "1.2.0",
            "_model_name": "LayoutModel",
            "_view_count": null,
            "_view_module": "@jupyter-widgets/base",
            "_view_module_version": "1.2.0",
            "_view_name": "LayoutView",
            "align_content": null,
            "align_items": null,
            "align_self": null,
            "border": null,
            "bottom": null,
            "display": null,
            "flex": null,
            "flex_flow": null,
            "grid_area": null,
            "grid_auto_columns": null,
            "grid_auto_flow": null,
            "grid_auto_rows": null,
            "grid_column": null,
            "grid_gap": null,
            "grid_row": null,
            "grid_template_areas": null,
            "grid_template_columns": null,
            "grid_template_rows": null,
            "height": null,
            "justify_content": null,
            "justify_items": null,
            "left": null,
            "margin": null,
            "max_height": null,
            "max_width": null,
            "min_height": null,
            "min_width": null,
            "object_fit": null,
            "object_position": null,
            "order": null,
            "overflow": null,
            "overflow_x": null,
            "overflow_y": null,
            "padding": null,
            "right": null,
            "top": null,
            "visibility": null,
            "width": null
          }
        },
        "54e83944445e4a238ccc8330f8b19eb9": {
          "model_module": "@jupyter-widgets/controls",
          "model_name": "DescriptionStyleModel",
          "model_module_version": "1.5.0",
          "state": {
            "_model_module": "@jupyter-widgets/controls",
            "_model_module_version": "1.5.0",
            "_model_name": "DescriptionStyleModel",
            "_view_count": null,
            "_view_module": "@jupyter-widgets/base",
            "_view_module_version": "1.2.0",
            "_view_name": "StyleView",
            "description_width": ""
          }
        },
        "2a9e36ca25b9479793bdc59e493e74f2": {
          "model_module": "@jupyter-widgets/controls",
          "model_name": "HBoxModel",
          "model_module_version": "1.5.0",
          "state": {
            "_dom_classes": [],
            "_model_module": "@jupyter-widgets/controls",
            "_model_module_version": "1.5.0",
            "_model_name": "HBoxModel",
            "_view_count": null,
            "_view_module": "@jupyter-widgets/controls",
            "_view_module_version": "1.5.0",
            "_view_name": "HBoxView",
            "box_style": "",
            "children": [
              "IPY_MODEL_2b87f5f78be74789be6f2aab5b4457de",
              "IPY_MODEL_2e6ddc2f14064159938a84554bfddba7",
              "IPY_MODEL_b91a32827f8046f685d46ab8470a44dd"
            ],
            "layout": "IPY_MODEL_ee8ccc2e36b04af9af0ec37085558bd7"
          }
        },
        "2b87f5f78be74789be6f2aab5b4457de": {
          "model_module": "@jupyter-widgets/controls",
          "model_name": "HTMLModel",
          "model_module_version": "1.5.0",
          "state": {
            "_dom_classes": [],
            "_model_module": "@jupyter-widgets/controls",
            "_model_module_version": "1.5.0",
            "_model_name": "HTMLModel",
            "_view_count": null,
            "_view_module": "@jupyter-widgets/controls",
            "_view_module_version": "1.5.0",
            "_view_name": "HTMLView",
            "description": "",
            "description_tooltip": null,
            "layout": "IPY_MODEL_3783009d321e434db6e512e8d62c332c",
            "placeholder": "​",
            "style": "IPY_MODEL_ef00ef0e4226424ea6700eaabe1c8e06",
            "value": "Downloading data: "
          }
        },
        "2e6ddc2f14064159938a84554bfddba7": {
          "model_module": "@jupyter-widgets/controls",
          "model_name": "FloatProgressModel",
          "model_module_version": "1.5.0",
          "state": {
            "_dom_classes": [],
            "_model_module": "@jupyter-widgets/controls",
            "_model_module_version": "1.5.0",
            "_model_name": "FloatProgressModel",
            "_view_count": null,
            "_view_module": "@jupyter-widgets/controls",
            "_view_module_version": "1.5.0",
            "_view_name": "ProgressView",
            "bar_style": "success",
            "description": "",
            "description_tooltip": null,
            "layout": "IPY_MODEL_18577fc0a9e84145b023620a603e6c5f",
            "max": 685842,
            "min": 0,
            "orientation": "horizontal",
            "style": "IPY_MODEL_69d99a66ab06465d94d738314fdb4b08",
            "value": 685842
          }
        },
        "b91a32827f8046f685d46ab8470a44dd": {
          "model_module": "@jupyter-widgets/controls",
          "model_name": "HTMLModel",
          "model_module_version": "1.5.0",
          "state": {
            "_dom_classes": [],
            "_model_module": "@jupyter-widgets/controls",
            "_model_module_version": "1.5.0",
            "_model_name": "HTMLModel",
            "_view_count": null,
            "_view_module": "@jupyter-widgets/controls",
            "_view_module_version": "1.5.0",
            "_view_name": "HTMLView",
            "description": "",
            "description_tooltip": null,
            "layout": "IPY_MODEL_b0a5138cef994b22ad34bed6883174cc",
            "placeholder": "​",
            "style": "IPY_MODEL_a21333df9ec54f2b898bd2b376231d84",
            "value": " 3.15M/? [00:00&lt;00:00, 37.0MB/s]"
          }
        },
        "ee8ccc2e36b04af9af0ec37085558bd7": {
          "model_module": "@jupyter-widgets/base",
          "model_name": "LayoutModel",
          "model_module_version": "1.2.0",
          "state": {
            "_model_module": "@jupyter-widgets/base",
            "_model_module_version": "1.2.0",
            "_model_name": "LayoutModel",
            "_view_count": null,
            "_view_module": "@jupyter-widgets/base",
            "_view_module_version": "1.2.0",
            "_view_name": "LayoutView",
            "align_content": null,
            "align_items": null,
            "align_self": null,
            "border": null,
            "bottom": null,
            "display": null,
            "flex": null,
            "flex_flow": null,
            "grid_area": null,
            "grid_auto_columns": null,
            "grid_auto_flow": null,
            "grid_auto_rows": null,
            "grid_column": null,
            "grid_gap": null,
            "grid_row": null,
            "grid_template_areas": null,
            "grid_template_columns": null,
            "grid_template_rows": null,
            "height": null,
            "justify_content": null,
            "justify_items": null,
            "left": null,
            "margin": null,
            "max_height": null,
            "max_width": null,
            "min_height": null,
            "min_width": null,
            "object_fit": null,
            "object_position": null,
            "order": null,
            "overflow": null,
            "overflow_x": null,
            "overflow_y": null,
            "padding": null,
            "right": null,
            "top": null,
            "visibility": null,
            "width": null
          }
        },
        "3783009d321e434db6e512e8d62c332c": {
          "model_module": "@jupyter-widgets/base",
          "model_name": "LayoutModel",
          "model_module_version": "1.2.0",
          "state": {
            "_model_module": "@jupyter-widgets/base",
            "_model_module_version": "1.2.0",
            "_model_name": "LayoutModel",
            "_view_count": null,
            "_view_module": "@jupyter-widgets/base",
            "_view_module_version": "1.2.0",
            "_view_name": "LayoutView",
            "align_content": null,
            "align_items": null,
            "align_self": null,
            "border": null,
            "bottom": null,
            "display": null,
            "flex": null,
            "flex_flow": null,
            "grid_area": null,
            "grid_auto_columns": null,
            "grid_auto_flow": null,
            "grid_auto_rows": null,
            "grid_column": null,
            "grid_gap": null,
            "grid_row": null,
            "grid_template_areas": null,
            "grid_template_columns": null,
            "grid_template_rows": null,
            "height": null,
            "justify_content": null,
            "justify_items": null,
            "left": null,
            "margin": null,
            "max_height": null,
            "max_width": null,
            "min_height": null,
            "min_width": null,
            "object_fit": null,
            "object_position": null,
            "order": null,
            "overflow": null,
            "overflow_x": null,
            "overflow_y": null,
            "padding": null,
            "right": null,
            "top": null,
            "visibility": null,
            "width": null
          }
        },
        "ef00ef0e4226424ea6700eaabe1c8e06": {
          "model_module": "@jupyter-widgets/controls",
          "model_name": "DescriptionStyleModel",
          "model_module_version": "1.5.0",
          "state": {
            "_model_module": "@jupyter-widgets/controls",
            "_model_module_version": "1.5.0",
            "_model_name": "DescriptionStyleModel",
            "_view_count": null,
            "_view_module": "@jupyter-widgets/base",
            "_view_module_version": "1.2.0",
            "_view_name": "StyleView",
            "description_width": ""
          }
        },
        "18577fc0a9e84145b023620a603e6c5f": {
          "model_module": "@jupyter-widgets/base",
          "model_name": "LayoutModel",
          "model_module_version": "1.2.0",
          "state": {
            "_model_module": "@jupyter-widgets/base",
            "_model_module_version": "1.2.0",
            "_model_name": "LayoutModel",
            "_view_count": null,
            "_view_module": "@jupyter-widgets/base",
            "_view_module_version": "1.2.0",
            "_view_name": "LayoutView",
            "align_content": null,
            "align_items": null,
            "align_self": null,
            "border": null,
            "bottom": null,
            "display": null,
            "flex": null,
            "flex_flow": null,
            "grid_area": null,
            "grid_auto_columns": null,
            "grid_auto_flow": null,
            "grid_auto_rows": null,
            "grid_column": null,
            "grid_gap": null,
            "grid_row": null,
            "grid_template_areas": null,
            "grid_template_columns": null,
            "grid_template_rows": null,
            "height": null,
            "justify_content": null,
            "justify_items": null,
            "left": null,
            "margin": null,
            "max_height": null,
            "max_width": null,
            "min_height": null,
            "min_width": null,
            "object_fit": null,
            "object_position": null,
            "order": null,
            "overflow": null,
            "overflow_x": null,
            "overflow_y": null,
            "padding": null,
            "right": null,
            "top": null,
            "visibility": null,
            "width": null
          }
        },
        "69d99a66ab06465d94d738314fdb4b08": {
          "model_module": "@jupyter-widgets/controls",
          "model_name": "ProgressStyleModel",
          "model_module_version": "1.5.0",
          "state": {
            "_model_module": "@jupyter-widgets/controls",
            "_model_module_version": "1.5.0",
            "_model_name": "ProgressStyleModel",
            "_view_count": null,
            "_view_module": "@jupyter-widgets/base",
            "_view_module_version": "1.2.0",
            "_view_name": "StyleView",
            "bar_color": null,
            "description_width": ""
          }
        },
        "b0a5138cef994b22ad34bed6883174cc": {
          "model_module": "@jupyter-widgets/base",
          "model_name": "LayoutModel",
          "model_module_version": "1.2.0",
          "state": {
            "_model_module": "@jupyter-widgets/base",
            "_model_module_version": "1.2.0",
            "_model_name": "LayoutModel",
            "_view_count": null,
            "_view_module": "@jupyter-widgets/base",
            "_view_module_version": "1.2.0",
            "_view_name": "LayoutView",
            "align_content": null,
            "align_items": null,
            "align_self": null,
            "border": null,
            "bottom": null,
            "display": null,
            "flex": null,
            "flex_flow": null,
            "grid_area": null,
            "grid_auto_columns": null,
            "grid_auto_flow": null,
            "grid_auto_rows": null,
            "grid_column": null,
            "grid_gap": null,
            "grid_row": null,
            "grid_template_areas": null,
            "grid_template_columns": null,
            "grid_template_rows": null,
            "height": null,
            "justify_content": null,
            "justify_items": null,
            "left": null,
            "margin": null,
            "max_height": null,
            "max_width": null,
            "min_height": null,
            "min_width": null,
            "object_fit": null,
            "object_position": null,
            "order": null,
            "overflow": null,
            "overflow_x": null,
            "overflow_y": null,
            "padding": null,
            "right": null,
            "top": null,
            "visibility": null,
            "width": null
          }
        },
        "a21333df9ec54f2b898bd2b376231d84": {
          "model_module": "@jupyter-widgets/controls",
          "model_name": "DescriptionStyleModel",
          "model_module_version": "1.5.0",
          "state": {
            "_model_module": "@jupyter-widgets/controls",
            "_model_module_version": "1.5.0",
            "_model_name": "DescriptionStyleModel",
            "_view_count": null,
            "_view_module": "@jupyter-widgets/base",
            "_view_module_version": "1.2.0",
            "_view_name": "StyleView",
            "description_width": ""
          }
        },
        "97ed2d9dfa154d93ba2f98185cbae719": {
          "model_module": "@jupyter-widgets/controls",
          "model_name": "HBoxModel",
          "model_module_version": "1.5.0",
          "state": {
            "_dom_classes": [],
            "_model_module": "@jupyter-widgets/controls",
            "_model_module_version": "1.5.0",
            "_model_name": "HBoxModel",
            "_view_count": null,
            "_view_module": "@jupyter-widgets/controls",
            "_view_module_version": "1.5.0",
            "_view_name": "HBoxView",
            "box_style": "",
            "children": [
              "IPY_MODEL_6ec0f18265aa4395986535f826b219c7",
              "IPY_MODEL_602163245eec48c3993ac2e2dff230c7",
              "IPY_MODEL_7a73ae5720cf41d9afe72a4454d252f1"
            ],
            "layout": "IPY_MODEL_098073b7e96f486eb5e257699038a0dd"
          }
        },
        "6ec0f18265aa4395986535f826b219c7": {
          "model_module": "@jupyter-widgets/controls",
          "model_name": "HTMLModel",
          "model_module_version": "1.5.0",
          "state": {
            "_dom_classes": [],
            "_model_module": "@jupyter-widgets/controls",
            "_model_module_version": "1.5.0",
            "_model_name": "HTMLModel",
            "_view_count": null,
            "_view_module": "@jupyter-widgets/controls",
            "_view_module_version": "1.5.0",
            "_view_name": "HTMLView",
            "description": "",
            "description_tooltip": null,
            "layout": "IPY_MODEL_2d3e367f3352490388d32e1f6f648f07",
            "placeholder": "​",
            "style": "IPY_MODEL_42bab70db35b4d0e854684fda5c50b6f",
            "value": "Generating test split: 100%"
          }
        },
        "602163245eec48c3993ac2e2dff230c7": {
          "model_module": "@jupyter-widgets/controls",
          "model_name": "FloatProgressModel",
          "model_module_version": "1.5.0",
          "state": {
            "_dom_classes": [],
            "_model_module": "@jupyter-widgets/controls",
            "_model_module_version": "1.5.0",
            "_model_name": "FloatProgressModel",
            "_view_count": null,
            "_view_module": "@jupyter-widgets/controls",
            "_view_module_version": "1.5.0",
            "_view_name": "ProgressView",
            "bar_style": "",
            "description": "",
            "description_tooltip": null,
            "layout": "IPY_MODEL_d5cab299b0724fc6a443b2555013d11a",
            "max": 1535,
            "min": 0,
            "orientation": "horizontal",
            "style": "IPY_MODEL_9430c708b7a4435ca667403bc90938f1",
            "value": 1535
          }
        },
        "7a73ae5720cf41d9afe72a4454d252f1": {
          "model_module": "@jupyter-widgets/controls",
          "model_name": "HTMLModel",
          "model_module_version": "1.5.0",
          "state": {
            "_dom_classes": [],
            "_model_module": "@jupyter-widgets/controls",
            "_model_module_version": "1.5.0",
            "_model_name": "HTMLModel",
            "_view_count": null,
            "_view_module": "@jupyter-widgets/controls",
            "_view_module_version": "1.5.0",
            "_view_name": "HTMLView",
            "description": "",
            "description_tooltip": null,
            "layout": "IPY_MODEL_9ad6e0a79bea4d7ab48499ad4b0ee498",
            "placeholder": "​",
            "style": "IPY_MODEL_1e8f77f8b8c6414da9ddf7f57b82ffae",
            "value": " 1535/1535 [00:18&lt;00:00, 1217.88 examples/s]"
          }
        },
        "098073b7e96f486eb5e257699038a0dd": {
          "model_module": "@jupyter-widgets/base",
          "model_name": "LayoutModel",
          "model_module_version": "1.2.0",
          "state": {
            "_model_module": "@jupyter-widgets/base",
            "_model_module_version": "1.2.0",
            "_model_name": "LayoutModel",
            "_view_count": null,
            "_view_module": "@jupyter-widgets/base",
            "_view_module_version": "1.2.0",
            "_view_name": "LayoutView",
            "align_content": null,
            "align_items": null,
            "align_self": null,
            "border": null,
            "bottom": null,
            "display": null,
            "flex": null,
            "flex_flow": null,
            "grid_area": null,
            "grid_auto_columns": null,
            "grid_auto_flow": null,
            "grid_auto_rows": null,
            "grid_column": null,
            "grid_gap": null,
            "grid_row": null,
            "grid_template_areas": null,
            "grid_template_columns": null,
            "grid_template_rows": null,
            "height": null,
            "justify_content": null,
            "justify_items": null,
            "left": null,
            "margin": null,
            "max_height": null,
            "max_width": null,
            "min_height": null,
            "min_width": null,
            "object_fit": null,
            "object_position": null,
            "order": null,
            "overflow": null,
            "overflow_x": null,
            "overflow_y": null,
            "padding": null,
            "right": null,
            "top": null,
            "visibility": null,
            "width": null
          }
        },
        "2d3e367f3352490388d32e1f6f648f07": {
          "model_module": "@jupyter-widgets/base",
          "model_name": "LayoutModel",
          "model_module_version": "1.2.0",
          "state": {
            "_model_module": "@jupyter-widgets/base",
            "_model_module_version": "1.2.0",
            "_model_name": "LayoutModel",
            "_view_count": null,
            "_view_module": "@jupyter-widgets/base",
            "_view_module_version": "1.2.0",
            "_view_name": "LayoutView",
            "align_content": null,
            "align_items": null,
            "align_self": null,
            "border": null,
            "bottom": null,
            "display": null,
            "flex": null,
            "flex_flow": null,
            "grid_area": null,
            "grid_auto_columns": null,
            "grid_auto_flow": null,
            "grid_auto_rows": null,
            "grid_column": null,
            "grid_gap": null,
            "grid_row": null,
            "grid_template_areas": null,
            "grid_template_columns": null,
            "grid_template_rows": null,
            "height": null,
            "justify_content": null,
            "justify_items": null,
            "left": null,
            "margin": null,
            "max_height": null,
            "max_width": null,
            "min_height": null,
            "min_width": null,
            "object_fit": null,
            "object_position": null,
            "order": null,
            "overflow": null,
            "overflow_x": null,
            "overflow_y": null,
            "padding": null,
            "right": null,
            "top": null,
            "visibility": null,
            "width": null
          }
        },
        "42bab70db35b4d0e854684fda5c50b6f": {
          "model_module": "@jupyter-widgets/controls",
          "model_name": "DescriptionStyleModel",
          "model_module_version": "1.5.0",
          "state": {
            "_model_module": "@jupyter-widgets/controls",
            "_model_module_version": "1.5.0",
            "_model_name": "DescriptionStyleModel",
            "_view_count": null,
            "_view_module": "@jupyter-widgets/base",
            "_view_module_version": "1.2.0",
            "_view_name": "StyleView",
            "description_width": ""
          }
        },
        "d5cab299b0724fc6a443b2555013d11a": {
          "model_module": "@jupyter-widgets/base",
          "model_name": "LayoutModel",
          "model_module_version": "1.2.0",
          "state": {
            "_model_module": "@jupyter-widgets/base",
            "_model_module_version": "1.2.0",
            "_model_name": "LayoutModel",
            "_view_count": null,
            "_view_module": "@jupyter-widgets/base",
            "_view_module_version": "1.2.0",
            "_view_name": "LayoutView",
            "align_content": null,
            "align_items": null,
            "align_self": null,
            "border": null,
            "bottom": null,
            "display": null,
            "flex": null,
            "flex_flow": null,
            "grid_area": null,
            "grid_auto_columns": null,
            "grid_auto_flow": null,
            "grid_auto_rows": null,
            "grid_column": null,
            "grid_gap": null,
            "grid_row": null,
            "grid_template_areas": null,
            "grid_template_columns": null,
            "grid_template_rows": null,
            "height": null,
            "justify_content": null,
            "justify_items": null,
            "left": null,
            "margin": null,
            "max_height": null,
            "max_width": null,
            "min_height": null,
            "min_width": null,
            "object_fit": null,
            "object_position": null,
            "order": null,
            "overflow": null,
            "overflow_x": null,
            "overflow_y": null,
            "padding": null,
            "right": null,
            "top": null,
            "visibility": null,
            "width": null
          }
        },
        "9430c708b7a4435ca667403bc90938f1": {
          "model_module": "@jupyter-widgets/controls",
          "model_name": "ProgressStyleModel",
          "model_module_version": "1.5.0",
          "state": {
            "_model_module": "@jupyter-widgets/controls",
            "_model_module_version": "1.5.0",
            "_model_name": "ProgressStyleModel",
            "_view_count": null,
            "_view_module": "@jupyter-widgets/base",
            "_view_module_version": "1.2.0",
            "_view_name": "StyleView",
            "bar_color": null,
            "description_width": ""
          }
        },
        "9ad6e0a79bea4d7ab48499ad4b0ee498": {
          "model_module": "@jupyter-widgets/base",
          "model_name": "LayoutModel",
          "model_module_version": "1.2.0",
          "state": {
            "_model_module": "@jupyter-widgets/base",
            "_model_module_version": "1.2.0",
            "_model_name": "LayoutModel",
            "_view_count": null,
            "_view_module": "@jupyter-widgets/base",
            "_view_module_version": "1.2.0",
            "_view_name": "LayoutView",
            "align_content": null,
            "align_items": null,
            "align_self": null,
            "border": null,
            "bottom": null,
            "display": null,
            "flex": null,
            "flex_flow": null,
            "grid_area": null,
            "grid_auto_columns": null,
            "grid_auto_flow": null,
            "grid_auto_rows": null,
            "grid_column": null,
            "grid_gap": null,
            "grid_row": null,
            "grid_template_areas": null,
            "grid_template_columns": null,
            "grid_template_rows": null,
            "height": null,
            "justify_content": null,
            "justify_items": null,
            "left": null,
            "margin": null,
            "max_height": null,
            "max_width": null,
            "min_height": null,
            "min_width": null,
            "object_fit": null,
            "object_position": null,
            "order": null,
            "overflow": null,
            "overflow_x": null,
            "overflow_y": null,
            "padding": null,
            "right": null,
            "top": null,
            "visibility": null,
            "width": null
          }
        },
        "1e8f77f8b8c6414da9ddf7f57b82ffae": {
          "model_module": "@jupyter-widgets/controls",
          "model_name": "DescriptionStyleModel",
          "model_module_version": "1.5.0",
          "state": {
            "_model_module": "@jupyter-widgets/controls",
            "_model_module_version": "1.5.0",
            "_model_name": "DescriptionStyleModel",
            "_view_count": null,
            "_view_module": "@jupyter-widgets/base",
            "_view_module_version": "1.2.0",
            "_view_name": "StyleView",
            "description_width": ""
          }
        }
      }
    }
  },
  "cells": [
    {
      "cell_type": "markdown",
      "metadata": {
        "id": "view-in-github",
        "colab_type": "text"
      },
      "source": [
        "<a href=\"https://colab.research.google.com/github/aaalexlit/omdena_climate_change_challenge_notebooks/blob/main/evaluate_multivers_scifact_on_climate_fever.ipynb\" target=\"_parent\"><img src=\"https://colab.research.google.com/assets/colab-badge.svg\" alt=\"Open In Colab\"/></a>"
      ]
    },
    {
      "cell_type": "code",
      "source": [
        "%%capture\n",
        "!git clone https://github.com/dwadden/multivers.git\n",
        "!git clone https://github.com/allenai/scifact-evaluator.git\n",
        "!pip install virtualenv\n",
        "!virtualenv multivers\n",
        "!source /content/multivers/bin/activate; pip install -r /content/multivers/requirements.txt"
      ],
      "metadata": {
        "id": "UKvsScigNK3R"
      },
      "execution_count": 1,
      "outputs": []
    },
    {
      "cell_type": "code",
      "source": [
        "!python /content/multivers/script/get_checkpoint.py longformer_large_science\n",
        "!python /content/multivers/script/get_checkpoint.py scifact"
      ],
      "metadata": {
        "colab": {
          "base_uri": "https://localhost:8080/"
        },
        "id": "f4q7Gi_wNaOY",
        "outputId": "fc5d3bb1-2d1a-45ec-e6e3-466d3ad6a07a"
      },
      "execution_count": 2,
      "outputs": [
        {
          "output_type": "stream",
          "name": "stdout",
          "text": [
            "--2023-03-23 19:32:42--  https://scifact.s3.us-west-2.amazonaws.com/longchecker/latest/checkpoints/longformer_large_science.ckpt\n",
            "Resolving scifact.s3.us-west-2.amazonaws.com (scifact.s3.us-west-2.amazonaws.com)... 52.92.139.2, 52.218.224.137, 52.92.195.42, ...\n",
            "Connecting to scifact.s3.us-west-2.amazonaws.com (scifact.s3.us-west-2.amazonaws.com)|52.92.139.2|:443... connected.\n",
            "HTTP request sent, awaiting response... 200 OK\n",
            "Length: 1646843693 (1.5G) [binary/octet-stream]\n",
            "Saving to: ‘checkpoints/longformer_large_science.ckpt’\n",
            "\n",
            "checkpoints/longfor 100%[===================>]   1.53G  34.6MB/s    in 48s     \n",
            "\n",
            "2023-03-23 19:33:30 (33.0 MB/s) - ‘checkpoints/longformer_large_science.ckpt’ saved [1646843693/1646843693]\n",
            "\n",
            "--2023-03-23 19:33:30--  https://scifact.s3.us-west-2.amazonaws.com/longchecker/latest/checkpoints/scifact.ckpt\n",
            "Resolving scifact.s3.us-west-2.amazonaws.com (scifact.s3.us-west-2.amazonaws.com)... 52.218.209.225, 52.92.176.234, 52.218.220.57, ...\n",
            "Connecting to scifact.s3.us-west-2.amazonaws.com (scifact.s3.us-west-2.amazonaws.com)|52.218.209.225|:443... connected.\n",
            "HTTP request sent, awaiting response... 200 OK\n",
            "Length: 5253770098 (4.9G) [binary/octet-stream]\n",
            "Saving to: ‘checkpoints/scifact.ckpt’\n",
            "\n",
            "checkpoints/scifact 100%[===================>]   4.89G  35.9MB/s    in 2m 37s  \n",
            "\n",
            "2023-03-23 19:36:08 (31.8 MB/s) - ‘checkpoints/scifact.ckpt’ saved [5253770098/5253770098]\n",
            "\n"
          ]
        }
      ]
    },
    {
      "cell_type": "code",
      "source": [
        "!python /content/multivers/script/get_checkpoint.py fever_sci"
      ],
      "metadata": {
        "colab": {
          "base_uri": "https://localhost:8080/"
        },
        "id": "ShVyHSnJGFsg",
        "outputId": "42317e33-edfd-4a21-9456-408595720606"
      },
      "execution_count": 3,
      "outputs": [
        {
          "output_type": "stream",
          "name": "stdout",
          "text": [
            "--2023-03-23 19:36:08--  https://scifact.s3.us-west-2.amazonaws.com/longchecker/latest/checkpoints/fever_sci.ckpt\n",
            "Resolving scifact.s3.us-west-2.amazonaws.com (scifact.s3.us-west-2.amazonaws.com)... 52.92.251.98, 3.5.86.186, 52.92.181.42, ...\n",
            "Connecting to scifact.s3.us-west-2.amazonaws.com (scifact.s3.us-west-2.amazonaws.com)|52.92.251.98|:443... connected.\n",
            "HTTP request sent, awaiting response... 200 OK\n",
            "Length: 5253768950 (4.9G) [binary/octet-stream]\n",
            "Saving to: ‘checkpoints/fever_sci.ckpt’\n",
            "\n",
            "checkpoints/fever_s 100%[===================>]   4.89G  32.0MB/s    in 2m 26s  \n",
            "\n",
            "2023-03-23 19:38:34 (34.4 MB/s) - ‘checkpoints/fever_sci.ckpt’ saved [5253768950/5253768950]\n",
            "\n"
          ]
        }
      ]
    },
    {
      "cell_type": "code",
      "source": [
        "!mv /content/checkpoints /content/multivers/checkpoints"
      ],
      "metadata": {
        "id": "42qDM1RcNb6I"
      },
      "execution_count": 4,
      "outputs": []
    },
    {
      "cell_type": "code",
      "source": [
        "!gdown https://drive.google.com/uc?id=1uqehbrsMEez0jrUnu_4d12D4BBaHCKcm\n",
        "!tar -xf data.tar.gz\n",
        "!rm data.tar.gz\n",
        "!mv /content/data /content/multivers/data"
      ],
      "metadata": {
        "colab": {
          "base_uri": "https://localhost:8080/"
        },
        "id": "fDGdo_aW2Ngs",
        "outputId": "ad4b7fb9-4c1c-4c20-a861-671a4a93b807"
      },
      "execution_count": 5,
      "outputs": [
        {
          "output_type": "stream",
          "name": "stdout",
          "text": [
            "Downloading...\n",
            "From: https://drive.google.com/uc?id=1uqehbrsMEez0jrUnu_4d12D4BBaHCKcm\n",
            "To: /content/data.tar.gz\n",
            "\r  0% 0.00/3.61M [00:00<?, ?B/s]\r100% 3.61M/3.61M [00:00<00:00, 171MB/s]\n"
          ]
        }
      ]
    },
    {
      "cell_type": "code",
      "execution_count": 6,
      "metadata": {
        "id": "v04Ula66Ewyd"
      },
      "outputs": [],
      "source": [
        "%%capture\n",
        "!pip install datasets\n",
        "!pip install codetiming\n",
        "!pip install jsonlines"
      ]
    },
    {
      "cell_type": "code",
      "source": [
        "from datasets import load_dataset\n",
        "import pandas as pd\n",
        "from codetiming import Timer\n",
        "import jsonlines\n"
      ],
      "metadata": {
        "id": "f8e7uPTiHwil"
      },
      "execution_count": 7,
      "outputs": []
    },
    {
      "cell_type": "code",
      "source": [
        "ds_orig = load_dataset(\"climate_fever\", split='test')\n",
        "df = ds_orig.to_pandas()"
      ],
      "metadata": {
        "colab": {
          "base_uri": "https://localhost:8080/",
          "height": 344,
          "referenced_widgets": [
            "7fc35ea4adf048ba8d42136a1cc9d8ab",
            "1eb49c9e69da4be1a77043b9f7f7c3b2",
            "b6a36154cd604a29b1333b305f1a1351",
            "fc652fbd17ea4929a8b54084b0bf1e66",
            "b433efb0b2a049b3b573b1371c643f15",
            "0287d092cdc24c77b9c374104171abd4",
            "903f51ab706f4a3a83fb88bff307ea2f",
            "70b6be4ca241428c9aa87b647498cc62",
            "d89b2b5866144e9ea82457cab4796828",
            "483fd692379e481bbefb97a01121967a",
            "f7a25c45a2904f03903e0273134bc508",
            "0e2be710a4ee4151ba84e23087dcbbbd",
            "7899df7c704b4cda84e81aeab8d37284",
            "454e1cbc9ce34751a2e238999f36f53b",
            "fb3e7f21cb93429bbf21b81eeced8463",
            "177507f00e6e482ab52f2302e69d2b7e",
            "5b2ee7b1f10542c7bf3f884543909927",
            "07c0b2ea1d7140c28e9bcadd4717eca2",
            "f5569b6963a048d18f8b6b71b83b18f4",
            "8a376b298b4f4cc2a74544f07b2b192c",
            "477578dbe6bb449bae3d6324044ea7f6",
            "81181589384347aeb433b9a2612a4a7b",
            "7e32899252a14dc196e4d92062e5a13e",
            "69901156df83477baf540b881dc94153",
            "34b8b15e6cee4198894bbf719f0180c2",
            "394062f0f7ea439384c46bde148cdfb0",
            "24de6edaa8374718b6646ef12bc87bd3",
            "8d6de3ead4ae4fa6a37369b3de645ada",
            "565b021e1bcb42568cd0a4430dcdd5b5",
            "43ed11186b29407198b9acbd8180083f",
            "53786d3a747b49d386c03e667afb27b2",
            "42ec6f8af87f4bb5bc477ac553a1e73e",
            "54e83944445e4a238ccc8330f8b19eb9",
            "2a9e36ca25b9479793bdc59e493e74f2",
            "2b87f5f78be74789be6f2aab5b4457de",
            "2e6ddc2f14064159938a84554bfddba7",
            "b91a32827f8046f685d46ab8470a44dd",
            "ee8ccc2e36b04af9af0ec37085558bd7",
            "3783009d321e434db6e512e8d62c332c",
            "ef00ef0e4226424ea6700eaabe1c8e06",
            "18577fc0a9e84145b023620a603e6c5f",
            "69d99a66ab06465d94d738314fdb4b08",
            "b0a5138cef994b22ad34bed6883174cc",
            "a21333df9ec54f2b898bd2b376231d84",
            "97ed2d9dfa154d93ba2f98185cbae719",
            "6ec0f18265aa4395986535f826b219c7",
            "602163245eec48c3993ac2e2dff230c7",
            "7a73ae5720cf41d9afe72a4454d252f1",
            "098073b7e96f486eb5e257699038a0dd",
            "2d3e367f3352490388d32e1f6f648f07",
            "42bab70db35b4d0e854684fda5c50b6f",
            "d5cab299b0724fc6a443b2555013d11a",
            "9430c708b7a4435ca667403bc90938f1",
            "9ad6e0a79bea4d7ab48499ad4b0ee498",
            "1e8f77f8b8c6414da9ddf7f57b82ffae"
          ]
        },
        "id": "4dfP1_sxHyBF",
        "outputId": "1469aacc-386b-4fb1-ad35-79abbdef8496"
      },
      "execution_count": 8,
      "outputs": [
        {
          "output_type": "display_data",
          "data": {
            "text/plain": [
              "Downloading builder script:   0%|          | 0.00/5.13k [00:00<?, ?B/s]"
            ],
            "application/vnd.jupyter.widget-view+json": {
              "version_major": 2,
              "version_minor": 0,
              "model_id": "7fc35ea4adf048ba8d42136a1cc9d8ab"
            }
          },
          "metadata": {}
        },
        {
          "output_type": "display_data",
          "data": {
            "text/plain": [
              "Downloading metadata:   0%|          | 0.00/2.36k [00:00<?, ?B/s]"
            ],
            "application/vnd.jupyter.widget-view+json": {
              "version_major": 2,
              "version_minor": 0,
              "model_id": "0e2be710a4ee4151ba84e23087dcbbbd"
            }
          },
          "metadata": {}
        },
        {
          "output_type": "display_data",
          "data": {
            "text/plain": [
              "Downloading readme:   0%|          | 0.00/8.00k [00:00<?, ?B/s]"
            ],
            "application/vnd.jupyter.widget-view+json": {
              "version_major": 2,
              "version_minor": 0,
              "model_id": "7e32899252a14dc196e4d92062e5a13e"
            }
          },
          "metadata": {}
        },
        {
          "output_type": "stream",
          "name": "stdout",
          "text": [
            "Downloading and preparing dataset climate_fever/default to /root/.cache/huggingface/datasets/climate_fever/default/1.0.1/9091d2d01d327631e4880d42fda9e8d69da1fb59b53b12d68867cee6e5770ba4...\n"
          ]
        },
        {
          "output_type": "display_data",
          "data": {
            "text/plain": [
              "Downloading data:   0%|          | 0.00/686k [00:00<?, ?B/s]"
            ],
            "application/vnd.jupyter.widget-view+json": {
              "version_major": 2,
              "version_minor": 0,
              "model_id": "2a9e36ca25b9479793bdc59e493e74f2"
            }
          },
          "metadata": {}
        },
        {
          "output_type": "display_data",
          "data": {
            "text/plain": [
              "Generating test split:   0%|          | 0/1535 [00:00<?, ? examples/s]"
            ],
            "application/vnd.jupyter.widget-view+json": {
              "version_major": 2,
              "version_minor": 0,
              "model_id": "97ed2d9dfa154d93ba2f98185cbae719"
            }
          },
          "metadata": {}
        },
        {
          "output_type": "stream",
          "name": "stdout",
          "text": [
            "Dataset climate_fever downloaded and prepared to /root/.cache/huggingface/datasets/climate_fever/default/1.0.1/9091d2d01d327631e4880d42fda9e8d69da1fb59b53b12d68867cee6e5770ba4. Subsequent calls will reuse this data.\n"
          ]
        }
      ]
    },
    {
      "cell_type": "code",
      "source": [
        "for row in df.to_dict('records')[:2]:\n",
        "  print(row)"
      ],
      "metadata": {
        "colab": {
          "base_uri": "https://localhost:8080/"
        },
        "id": "5qPqJPP-KuvB",
        "outputId": "e92f8d29-5db4-4e8a-838d-5f04f52d9fa6"
      },
      "execution_count": 9,
      "outputs": [
        {
          "output_type": "stream",
          "name": "stdout",
          "text": [
            "{'claim_id': '0', 'claim': 'Global warming is driving polar bears toward extinction', 'claim_label': 0, 'evidences': array([{'evidence_id': 'Extinction risk from global warming:170', 'evidence_label': 2, 'article': 'Extinction risk from global warming', 'evidence': '\"Recent Research Shows Human Activity Driving Earth Towards Global Extinction Event\".', 'entropy': 0.6931471824645996, 'votes': array(['SUPPORTS', 'NOT_ENOUGH_INFO', None, None, None], dtype=object)},\n",
            "       {'evidence_id': 'Global warming:14', 'evidence_label': 0, 'article': 'Global warming', 'evidence': 'Environmental impacts include the extinction or relocation of many species as their ecosystems change, most immediately the environments of coral reefs, mountains, and the Arctic.', 'entropy': 0.0, 'votes': array(['SUPPORTS', 'SUPPORTS', None, None, None], dtype=object)},\n",
            "       {'evidence_id': 'Global warming:178', 'evidence_label': 2, 'article': 'Global warming', 'evidence': 'Rising temperatures push bees to their physiological limits, and could cause the extinction of bee populations.', 'entropy': 0.6931471824645996, 'votes': array(['SUPPORTS', 'NOT_ENOUGH_INFO', None, None, None], dtype=object)},\n",
            "       {'evidence_id': 'Habitat destruction:61', 'evidence_label': 0, 'article': 'Habitat destruction', 'evidence': 'Rising global temperatures, caused by the greenhouse effect, contribute to habitat destruction, endangering various species, such as the polar bear.', 'entropy': 0.0, 'votes': array(['SUPPORTS', 'SUPPORTS', None, None, None], dtype=object)},\n",
            "       {'evidence_id': 'Polar bear:1328', 'evidence_label': 2, 'article': 'Polar bear', 'evidence': '\"Bear hunting caught in global warming debate\".', 'entropy': 0.6931471824645996, 'votes': array(['SUPPORTS', 'NOT_ENOUGH_INFO', None, None, None], dtype=object)}],\n",
            "      dtype=object)}\n",
            "{'claim_id': '5', 'claim': 'The sun has gone into ‘lockdown’ which could cause freezing weather, earthquakes and famine, say scientists', 'claim_label': 0, 'evidences': array([{'evidence_id': 'Famine:386', 'evidence_label': 0, 'article': 'Famine', 'evidence': \"The current consensus of the scientific community is that the aerosols and dust released into the upper atmosphere causes cooler temperatures by preventing the sun's energy from reaching the ground.\", 'entropy': 0.0, 'votes': array(['SUPPORTS', 'SUPPORTS', None, None, None], dtype=object)},\n",
            "       {'evidence_id': 'Weather:67', 'evidence_label': 0, 'article': 'Weather', 'evidence': 'The Little Ice Age caused crop failures and famines in Europe.', 'entropy': 0.0, 'votes': array(['SUPPORTS', 'SUPPORTS', None, None, None], dtype=object)},\n",
            "       {'evidence_id': 'Winter:114', 'evidence_label': 0, 'article': 'Winter', 'evidence': 'The persistently cold, wet weather caused great hardship, was primarily responsible for the Great Famine of 1315–1317, and strongly contributed to the weakened immunity and malnutrition leading up to the Black Death (1348–1350).', 'entropy': 0.0, 'votes': array(['SUPPORTS', 'SUPPORTS', None, None, None], dtype=object)},\n",
            "       {'evidence_id': 'Winter:20', 'evidence_label': 2, 'article': 'Winter', 'evidence': 'The manifestation of the meteorological winter (freezing temperatures) in the northerly snow–prone latitudes is highly variable depending on elevation, position versus marine winds and the amount of precipitation.', 'entropy': 0.6931471824645996, 'votes': array(['REFUTES', 'NOT_ENOUGH_INFO', None, None, None], dtype=object)},\n",
            "       {'evidence_id': 'Winter:5', 'evidence_label': 2, 'article': 'Winter', 'evidence': 'In many regions, winter is associated with snow and freezing temperatures.', 'entropy': 0.6931471824645996, 'votes': array(['REFUTES', 'NOT_ENOUGH_INFO', None, None, None], dtype=object)}],\n",
            "      dtype=object)}\n"
          ]
        }
      ]
    },
    {
      "cell_type": "code",
      "source": [
        "cf_label_dict = {'SUPPORTS' : 0, 'REFUTES':1, 'NOT_ENOUGH_INFO' : 2}\n",
        "mv_label_dict = {0:'SUPPORT', 1: 'CONTRADICT'}\n",
        "\n",
        "with jsonlines.open('claims.jsonl', 'w') as claims_writer, \\\n",
        "jsonlines.open('corpus.jsonl', 'w') as corpus_writer:\n",
        "  doc_id = 0\n",
        "  for row in df.to_dict('records'):\n",
        "      doc_ids = []\n",
        "      evidences = row['evidences']\n",
        "      evidence_dict = {}\n",
        "      for evidence in evidences:\n",
        "          evidence_labels = []\n",
        "          evidence_abstract = {\n",
        "              'doc_id': doc_id,\n",
        "              'title': evidence['article'],\n",
        "              'abstract': [evidence['evidence']]\n",
        "          }\n",
        "          evidence_label = evidence['evidence_label']\n",
        "          # skip NEI\n",
        "          if evidence_label != 2:\n",
        "            evidence_labels.append({'sentences': [0],\n",
        "                                    'label': mv_label_dict[evidence_label]})\n",
        "            evidence_dict[f\"{doc_id}\"] = evidence_labels\n",
        "          corpus_writer.write(evidence_abstract)\n",
        "          doc_ids.append(doc_id)\n",
        "          doc_id += 1\n",
        "      claim_doc = {\n",
        "          'id': int(row['claim_id']),\n",
        "          'claim': row['claim'],\n",
        "          'doc_ids': doc_ids,\n",
        "          'evidence': evidence_dict\n",
        "      }\n",
        "      claims_writer.write(claim_doc)\n"
      ],
      "metadata": {
        "id": "b9dykJwqIeES"
      },
      "execution_count": 10,
      "outputs": []
    },
    {
      "cell_type": "code",
      "source": [
        "!head /content/multivers/data/healthver/claims_test.jsonl "
      ],
      "metadata": {
        "colab": {
          "base_uri": "https://localhost:8080/"
        },
        "id": "PXwERT5z4VD0",
        "outputId": "bbcb4e12-a125-428c-978c-11ed02943851"
      },
      "execution_count": 11,
      "outputs": [
        {
          "output_type": "stream",
          "name": "stdout",
          "text": [
            "{\"id\": 1623, \"claim\": \" Saliva testing does depend on standard PCR technology, and it does require some manual labor in order to move it through\", \"doc_ids\": [176], \"evidence\": {}}\n",
            "{\"id\": 1624, \"claim\": \"5G caused the coronavirus outbreak\", \"doc_ids\": [69, 98, 207, 259], \"evidence\": {\"69\": [{\"sentences\": [14], \"label\": \"CONTRADICT\"}], \"98\": [{\"sentences\": [3], \"label\": \"CONTRADICT\"}, {\"sentences\": [1], \"label\": \"CONTRADICT\"}], \"207\": [{\"sentences\": [7], \"label\": \"CONTRADICT\"}], \"259\": [{\"sentences\": [2], \"label\": \"CONTRADICT\"}]}}\n",
            "{\"id\": 1625, \"claim\": \"A few cases of dogs tested weak positives of Coronavirus and there is evidence they can transmit to humans directly.\", \"doc_ids\": [236], \"evidence\": {\"236\": [{\"sentences\": [1], \"label\": \"CONTRADICT\"}]}}\n",
            "{\"id\": 1626, \"claim\": \"A headache is a potential symptom of COVID-19.\", \"doc_ids\": [162, 247, 278], \"evidence\": {\"162\": [{\"sentences\": [6], \"label\": \"SUPPORT\"}], \"247\": [{\"sentences\": [5], \"label\": \"SUPPORT\"}], \"278\": [{\"sentences\": [2], \"label\": \"SUPPORT\"}]}}\n",
            "{\"id\": 1627, \"claim\": \"A new Chinese coronavirus, a cousin of the SARS virus, has infected hundreds since the outbreak began in Wuhan, China, in December.\", \"doc_ids\": [47, 225], \"evidence\": {\"47\": [{\"sentences\": [2], \"label\": \"CONTRADICT\"}]}}\n",
            "{\"id\": 1628, \"claim\": \"A report indicates that Acetaminophen (Tylenol) may be preferred over Ibuprofen (Advil) for coronavirus (fever)\", \"doc_ids\": [30, 128, 137, 261, 265, 306], \"evidence\": {\"30\": [{\"sentences\": [2], \"label\": \"CONTRADICT\"}], \"137\": [{\"sentences\": [7], \"label\": \"SUPPORT\"}], \"261\": [{\"sentences\": [4], \"label\": \"CONTRADICT\"}], \"306\": [{\"sentences\": [0, 1], \"label\": \"SUPPORT\"}]}}\n",
            "{\"id\": 1629, \"claim\": \"A study from the Journal of Hospital Infection found that wearing a face covering slashed the risk of infection by 24% for a simple cotton covering and up to 99% for a professional, medical-grade filtration mask. \", \"doc_ids\": [57, 72, 106, 328], \"evidence\": {\"57\": [{\"sentences\": [1], \"label\": \"SUPPORT\"}], \"72\": [{\"sentences\": [1], \"label\": \"SUPPORT\"}], \"106\": [{\"sentences\": [0], \"label\": \"SUPPORT\"}], \"328\": [{\"sentences\": [0, 1, 2], \"label\": \"SUPPORT\"}]}}\n",
            "{\"id\": 1630, \"claim\": \"A study of COVID-19 patients in the Netherlands did not find the disease to be associated with cytokine storm, as previously suggested. \", \"doc_ids\": [143, 180, 197, 255, 288], \"evidence\": {\"143\": [{\"sentences\": [0], \"label\": \"CONTRADICT\"}], \"180\": [{\"sentences\": [2, 3], \"label\": \"CONTRADICT\"}], \"197\": [{\"sentences\": [0], \"label\": \"CONTRADICT\"}], \"255\": [{\"sentences\": [0], \"label\": \"CONTRADICT\"}], \"288\": [{\"sentences\": [2], \"label\": \"CONTRADICT\"}]}}\n",
            "{\"id\": 1631, \"claim\": \"ARVs can treat Covid-19\", \"doc_ids\": [194, 203], \"evidence\": {\"194\": [{\"sentences\": [0, 1], \"label\": \"CONTRADICT\"}]}}\n",
            "{\"id\": 1632, \"claim\": \"Adding pepper to your soup or other meals does not prevent or cure COVID-19.\", \"doc_ids\": [194], \"evidence\": {\"194\": [{\"sentences\": [0, 1], \"label\": \"SUPPORT\"}]}}\n"
          ]
        }
      ]
    },
    {
      "cell_type": "code",
      "source": [
        "!head claims.jsonl"
      ],
      "metadata": {
        "colab": {
          "base_uri": "https://localhost:8080/"
        },
        "id": "qxPVEG4_NDHA",
        "outputId": "555737f0-5204-4acd-8131-e484d2719437"
      },
      "execution_count": 12,
      "outputs": [
        {
          "output_type": "stream",
          "name": "stdout",
          "text": [
            "{\"id\": 0, \"claim\": \"Global warming is driving polar bears toward extinction\", \"doc_ids\": [0, 1, 2, 3, 4], \"evidence\": {\"1\": [{\"sentences\": [0], \"label\": \"SUPPORT\"}], \"3\": [{\"sentences\": [0], \"label\": \"SUPPORT\"}]}}\n",
            "{\"id\": 5, \"claim\": \"The sun has gone into ‘lockdown’ which could cause freezing weather, earthquakes and famine, say scientists\", \"doc_ids\": [5, 6, 7, 8, 9], \"evidence\": {\"5\": [{\"sentences\": [0], \"label\": \"SUPPORT\"}], \"6\": [{\"sentences\": [0], \"label\": \"SUPPORT\"}], \"7\": [{\"sentences\": [0], \"label\": \"SUPPORT\"}]}}\n",
            "{\"id\": 6, \"claim\": \"The polar bear population has been growing.\", \"doc_ids\": [10, 11, 12, 13, 14], \"evidence\": {\"13\": [{\"sentences\": [0], \"label\": \"CONTRADICT\"}], \"14\": [{\"sentences\": [0], \"label\": \"CONTRADICT\"}]}}\n",
            "{\"id\": 9, \"claim\": \"Ironic' study finds more CO2 has slightly cooled the planet\", \"doc_ids\": [15, 16, 17, 18, 19], \"evidence\": {\"17\": [{\"sentences\": [0], \"label\": \"CONTRADICT\"}]}}\n",
            "{\"id\": 10, \"claim\": \"Human additions of CO2 are in the margin of error of current measurements and the gradual increase in CO2 is mainly from oceans degassing as the planet slowly emerges from the last ice age.\", \"doc_ids\": [20, 21, 22, 23, 24], \"evidence\": {\"24\": [{\"sentences\": [0], \"label\": \"CONTRADICT\"}]}}\n",
            "{\"id\": 11, \"claim\": \"They tell us that we are the primary forces controlling earth temperatures by the burning of fossil fuels and releasing their carbon dioxide.\", \"doc_ids\": [25, 26, 27, 28, 29], \"evidence\": {\"25\": [{\"sentences\": [0], \"label\": \"SUPPORT\"}], \"26\": [{\"sentences\": [0], \"label\": \"SUPPORT\"}], \"27\": [{\"sentences\": [0], \"label\": \"SUPPORT\"}], \"28\": [{\"sentences\": [0], \"label\": \"SUPPORT\"}]}}\n",
            "{\"id\": 14, \"claim\": \"The Great Barrier Reef is experiencing the most widespread bleaching ever recorded\", \"doc_ids\": [30, 31, 32, 33, 34], \"evidence\": {\"30\": [{\"sentences\": [0], \"label\": \"SUPPORT\"}], \"31\": [{\"sentences\": [0], \"label\": \"SUPPORT\"}], \"33\": [{\"sentences\": [0], \"label\": \"SUPPORT\"}], \"34\": [{\"sentences\": [0], \"label\": \"SUPPORT\"}]}}\n",
            "{\"id\": 18, \"claim\": \"it’s not a pollutant that threatens human civilization.\", \"doc_ids\": [35, 36, 37, 38, 39], \"evidence\": {\"35\": [{\"sentences\": [0], \"label\": \"CONTRADICT\"}], \"37\": [{\"sentences\": [0], \"label\": \"CONTRADICT\"}]}}\n",
            "{\"id\": 19, \"claim\": \"If CO2 was so terrible for the planet, then installing a CO2 generator in a greenhouse would kill the plants.\", \"doc_ids\": [40, 41, 42, 43, 44], \"evidence\": {\"41\": [{\"sentences\": [0], \"label\": \"CONTRADICT\"}]}}\n",
            "{\"id\": 21, \"claim\": \"Sea level rise has been slow and a constant, pre-dating industrialization\", \"doc_ids\": [45, 46, 47, 48, 49], \"evidence\": {\"46\": [{\"sentences\": [0], \"label\": \"CONTRADICT\"}], \"48\": [{\"sentences\": [0], \"label\": \"CONTRADICT\"}]}}\n"
          ]
        }
      ]
    },
    {
      "cell_type": "code",
      "source": [
        "!head corpus.jsonl"
      ],
      "metadata": {
        "colab": {
          "base_uri": "https://localhost:8080/"
        },
        "id": "hDcD1QuyNGAb",
        "outputId": "13404955-ad89-40d8-fe16-465f814b17dc"
      },
      "execution_count": 13,
      "outputs": [
        {
          "output_type": "stream",
          "name": "stdout",
          "text": [
            "{\"doc_id\": 0, \"title\": \"Extinction risk from global warming\", \"abstract\": [\"\\\"Recent Research Shows Human Activity Driving Earth Towards Global Extinction Event\\\".\"]}\n",
            "{\"doc_id\": 1, \"title\": \"Global warming\", \"abstract\": [\"Environmental impacts include the extinction or relocation of many species as their ecosystems change, most immediately the environments of coral reefs, mountains, and the Arctic.\"]}\n",
            "{\"doc_id\": 2, \"title\": \"Global warming\", \"abstract\": [\"Rising temperatures push bees to their physiological limits, and could cause the extinction of bee populations.\"]}\n",
            "{\"doc_id\": 3, \"title\": \"Habitat destruction\", \"abstract\": [\"Rising global temperatures, caused by the greenhouse effect, contribute to habitat destruction, endangering various species, such as the polar bear.\"]}\n",
            "{\"doc_id\": 4, \"title\": \"Polar bear\", \"abstract\": [\"\\\"Bear hunting caught in global warming debate\\\".\"]}\n",
            "{\"doc_id\": 5, \"title\": \"Famine\", \"abstract\": [\"The current consensus of the scientific community is that the aerosols and dust released into the upper atmosphere causes cooler temperatures by preventing the sun's energy from reaching the ground.\"]}\n",
            "{\"doc_id\": 6, \"title\": \"Weather\", \"abstract\": [\"The Little Ice Age caused crop failures and famines in Europe.\"]}\n",
            "{\"doc_id\": 7, \"title\": \"Winter\", \"abstract\": [\"The persistently cold, wet weather caused great hardship, was primarily responsible for the Great Famine of 1315–1317, and strongly contributed to the weakened immunity and malnutrition leading up to the Black Death (1348–1350).\"]}\n",
            "{\"doc_id\": 8, \"title\": \"Winter\", \"abstract\": [\"The manifestation of the meteorological winter (freezing temperatures) in the northerly snow–prone latitudes is highly variable depending on elevation, position versus marine winds and the amount of precipitation.\"]}\n",
            "{\"doc_id\": 9, \"title\": \"Winter\", \"abstract\": [\"In many regions, winter is associated with snow and freezing temperatures.\"]}\n"
          ]
        }
      ]
    },
    {
      "cell_type": "code",
      "source": [
        "!source /content/multivers/bin/activate; python /content/multivers/multivers/predict.py \\\n",
        "        --checkpoint_path=/content/multivers/checkpoints/scifact.ckpt \\\n",
        "        --batch_size=10 \\\n",
        "        --input_file=\"/content/claims.jsonl\" \\\n",
        "        --corpus_file=\"/content/corpus.jsonl\" \\\n",
        "        --output_file=\"/content/preds.jsonl\""
      ],
      "metadata": {
        "colab": {
          "base_uri": "https://localhost:8080/"
        },
        "id": "BGL--8q8QydA",
        "outputId": "17b1da10-bc38-4acf-9cab-e119b8352a83"
      },
      "execution_count": 23,
      "outputs": [
        {
          "output_type": "stream",
          "name": "stdout",
          "text": [
            "100% 768/768 [19:58<00:00,  1.56s/it]\n"
          ]
        }
      ]
    },
    {
      "cell_type": "code",
      "source": [
        "!source /content/multivers/bin/activate; python /content/multivers/multivers/predict.py \\\n",
        "        --checkpoint_path=/content/multivers/checkpoints/scifact.ckpt \\\n",
        "        --batch_size=1 \\\n",
        "        --no_nei \\\n",
        "        --input_file=\"/content/claims.jsonl\" \\\n",
        "        --corpus_file=\"/content/corpus.jsonl\" \\\n",
        "        --output_file=\"/content/preds_no_nei.jsonl\""
      ],
      "metadata": {
        "colab": {
          "base_uri": "https://localhost:8080/",
          "height": 121
        },
        "id": "TR7OYpr4Ndxc",
        "outputId": "dd51486a-55fb-45b4-e132-b216088f9235"
      },
      "execution_count": 14,
      "outputs": [
        {
          "output_type": "stream",
          "name": "stdout",
          "text": [
            "Downloading: 100% 803/803 [00:00<00:00, 688kB/s]\n",
            "Downloading: 100% 1.74G/1.74G [01:01<00:00, 28.2MB/s]\n",
            "Downloading: 100% 899k/899k [00:00<00:00, 46.1MB/s]\n",
            "Downloading: 100% 456k/456k [00:00<00:00, 27.7MB/s]\n",
            "Downloading: 100% 1.36M/1.36M [00:00<00:00, 48.8MB/s]\n",
            "100% 7675/7675 [28:47<00:00,  4.44it/s]\n"
          ]
        }
      ]
    },
    {
      "cell_type": "code",
      "source": [
        "!head /content/preds_no_nei.jsonl "
      ],
      "metadata": {
        "colab": {
          "base_uri": "https://localhost:8080/"
        },
        "id": "KVAMnw9yNpig",
        "outputId": "e2b553ac-640e-4c4b-ebf0-fed5ac719ab5"
      },
      "execution_count": 15,
      "outputs": [
        {
          "output_type": "stream",
          "name": "stdout",
          "text": [
            "{\"id\": 0, \"evidence\": {\"0\": {\"label\": \"SUPPORT\", \"sentences\": []}, \"1\": {\"label\": \"SUPPORT\", \"sentences\": []}, \"2\": {\"label\": \"SUPPORT\", \"sentences\": []}, \"3\": {\"label\": \"SUPPORT\", \"sentences\": []}, \"4\": {\"label\": \"SUPPORT\", \"sentences\": []}}}\n",
            "{\"id\": 5, \"evidence\": {\"5\": {\"label\": \"CONTRADICT\", \"sentences\": []}, \"6\": {\"label\": \"CONTRADICT\", \"sentences\": []}, \"7\": {\"label\": \"CONTRADICT\", \"sentences\": []}, \"8\": {\"label\": \"CONTRADICT\", \"sentences\": []}, \"9\": {\"label\": \"CONTRADICT\", \"sentences\": []}}}\n",
            "{\"id\": 6, \"evidence\": {\"10\": {\"label\": \"SUPPORT\", \"sentences\": []}, \"11\": {\"label\": \"SUPPORT\", \"sentences\": []}, \"12\": {\"label\": \"SUPPORT\", \"sentences\": []}, \"13\": {\"label\": \"SUPPORT\", \"sentences\": []}, \"14\": {\"label\": \"CONTRADICT\", \"sentences\": []}}}\n",
            "{\"id\": 9, \"evidence\": {\"15\": {\"label\": \"SUPPORT\", \"sentences\": []}, \"16\": {\"label\": \"SUPPORT\", \"sentences\": []}, \"17\": {\"label\": \"SUPPORT\", \"sentences\": []}, \"18\": {\"label\": \"SUPPORT\", \"sentences\": []}, \"19\": {\"label\": \"CONTRADICT\", \"sentences\": []}}}\n",
            "{\"id\": 10, \"evidence\": {\"20\": {\"label\": \"SUPPORT\", \"sentences\": []}, \"21\": {\"label\": \"SUPPORT\", \"sentences\": []}, \"22\": {\"label\": \"SUPPORT\", \"sentences\": []}, \"23\": {\"label\": \"CONTRADICT\", \"sentences\": []}, \"24\": {\"label\": \"SUPPORT\", \"sentences\": []}}}\n",
            "{\"id\": 11, \"evidence\": {\"25\": {\"label\": \"SUPPORT\", \"sentences\": []}, \"26\": {\"label\": \"SUPPORT\", \"sentences\": []}, \"27\": {\"label\": \"CONTRADICT\", \"sentences\": []}, \"28\": {\"label\": \"CONTRADICT\", \"sentences\": []}, \"29\": {\"label\": \"SUPPORT\", \"sentences\": []}}}\n",
            "{\"id\": 14, \"evidence\": {\"30\": {\"label\": \"SUPPORT\", \"sentences\": []}, \"31\": {\"label\": \"SUPPORT\", \"sentences\": []}, \"32\": {\"label\": \"SUPPORT\", \"sentences\": []}, \"33\": {\"label\": \"SUPPORT\", \"sentences\": []}, \"34\": {\"label\": \"SUPPORT\", \"sentences\": []}}}\n",
            "{\"id\": 18, \"evidence\": {\"35\": {\"label\": \"SUPPORT\", \"sentences\": []}, \"36\": {\"label\": \"SUPPORT\", \"sentences\": []}, \"37\": {\"label\": \"SUPPORT\", \"sentences\": []}, \"38\": {\"label\": \"CONTRADICT\", \"sentences\": []}, \"39\": {\"label\": \"CONTRADICT\", \"sentences\": []}}}\n",
            "{\"id\": 19, \"evidence\": {\"40\": {\"label\": \"SUPPORT\", \"sentences\": []}, \"41\": {\"label\": \"SUPPORT\", \"sentences\": []}, \"42\": {\"label\": \"SUPPORT\", \"sentences\": []}, \"43\": {\"label\": \"SUPPORT\", \"sentences\": []}, \"44\": {\"label\": \"SUPPORT\", \"sentences\": []}}}\n",
            "{\"id\": 21, \"evidence\": {\"45\": {\"label\": \"CONTRADICT\", \"sentences\": []}, \"46\": {\"label\": \"CONTRADICT\", \"sentences\": []}, \"47\": {\"label\": \"CONTRADICT\", \"sentences\": []}, \"48\": {\"label\": \"CONTRADICT\", \"sentences\": []}, \"49\": {\"label\": \"CONTRADICT\", \"sentences\": []}}}\n"
          ]
        }
      ]
    },
    {
      "cell_type": "code",
      "source": [
        "!source /content/multivers/bin/activate; python /content/scifact-evaluator/evaluator/eval.py \\\n",
        "        --metrics_output_file=/content/multivers_scifact_eval_climate_fever.jsonl \\\n",
        "        --verbose \\\n",
        "        --labels_file=\"/content/claims.jsonl\" \\\n",
        "        --preds_file=\"/content/preds.jsonl\""
      ],
      "metadata": {
        "id": "5AhOAUwHQ58w"
      },
      "execution_count": 24,
      "outputs": []
    },
    {
      "cell_type": "code",
      "source": [
        "!source /content/multivers/bin/activate; python /content/scifact-evaluator/evaluator/eval.py \\\n",
        "        --metrics_output_file=/content/multivers_scifact_eval_climate_fever_no_nei.jsonl \\\n",
        "        --verbose \\\n",
        "        --labels_file=\"/content/claims.jsonl\" \\\n",
        "        --preds_file=\"/content/preds_no_nei.jsonl\""
      ],
      "metadata": {
        "id": "Bm3fhGL_5n56"
      },
      "execution_count": 16,
      "outputs": []
    },
    {
      "cell_type": "code",
      "source": [
        "!cp /content/multivers_scifact_eval_climate_fever.jsonl /content/drive/MyDrive/omdena_CC_challenge_data/CF_multivers\n",
        "!cp /content/multivers_scifact_eval_climate_fever_no_nei.jsonl /content/drive/MyDrive/omdena_CC_challenge_data/CF_multivers"
      ],
      "metadata": {
        "id": "di9RBh9U_yeF"
      },
      "execution_count": 25,
      "outputs": []
    },
    {
      "cell_type": "markdown",
      "source": [
        "# Predict using fever_sci checkpoint"
      ],
      "metadata": {
        "id": "plN8rXluG3D1"
      }
    },
    {
      "cell_type": "code",
      "source": [
        "!source /content/multivers/bin/activate; python /content/multivers/multivers/predict.py \\\n",
        "        --checkpoint_path=/content/multivers/checkpoints/fever_sci.ckpt \\\n",
        "        --batch_size=10 \\\n",
        "        --input_file=\"/content/claims.jsonl\" \\\n",
        "        --corpus_file=\"/content/corpus.jsonl\" \\\n",
        "        --output_file=\"/content/preds_fever_sci.jsonl\""
      ],
      "metadata": {
        "colab": {
          "base_uri": "https://localhost:8080/"
        },
        "id": "v2V1dNBMCclV",
        "outputId": "891c897c-47d0-4978-face-25035f04fab5"
      },
      "execution_count": 18,
      "outputs": [
        {
          "output_type": "stream",
          "name": "stdout",
          "text": [
            "100% 768/768 [20:04<00:00,  1.57s/it]\n"
          ]
        }
      ]
    },
    {
      "cell_type": "code",
      "source": [
        "!source /content/multivers/bin/activate; python /content/multivers/multivers/predict.py \\\n",
        "        --checkpoint_path=/content/multivers/checkpoints/fever_sci.ckpt \\\n",
        "        --batch_size=10 \\\n",
        "        --no_nei \\\n",
        "        --input_file=\"/content/claims.jsonl\" \\\n",
        "        --corpus_file=\"/content/corpus.jsonl\" \\\n",
        "        --output_file=\"/content/preds_fever_sci_no_nei.jsonl\""
      ],
      "metadata": {
        "colab": {
          "base_uri": "https://localhost:8080/"
        },
        "id": "4Ij_bjnVGZr1",
        "outputId": "b4f649d4-a1d1-48d2-d3a5-d19863078d91"
      },
      "execution_count": 19,
      "outputs": [
        {
          "output_type": "stream",
          "name": "stdout",
          "text": [
            "100% 768/768 [20:02<00:00,  1.57s/it]\n"
          ]
        }
      ]
    },
    {
      "cell_type": "markdown",
      "source": [
        "# Evaluate using fever_sci checkpoint"
      ],
      "metadata": {
        "id": "tcka7FgF69Et"
      }
    },
    {
      "cell_type": "code",
      "source": [
        "!source /content/multivers/bin/activate; python /content/scifact-evaluator/evaluator/eval.py \\\n",
        "        --metrics_output_file=/content/multivers_fever_sci_eval_climate_fever.jsonl \\\n",
        "        --verbose \\\n",
        "        --labels_file=\"/content/claims.jsonl\" \\\n",
        "        --preds_file=\"/content/preds_fever_sci.jsonl\""
      ],
      "metadata": {
        "id": "jSkxAb2q7O2s"
      },
      "execution_count": 20,
      "outputs": []
    },
    {
      "cell_type": "code",
      "source": [
        "!source /content/multivers/bin/activate; python /content/scifact-evaluator/evaluator/eval.py \\\n",
        "        --metrics_output_file=/content/multivers_fever_sci_eval_climate_fever_no_nei.jsonl \\\n",
        "        --verbose \\\n",
        "        --labels_file=\"/content/claims.jsonl\" \\\n",
        "        --preds_file=\"/content/preds_fever_sci_no_nei.jsonl\""
      ],
      "metadata": {
        "id": "9aiMRqvK7Arw"
      },
      "execution_count": 21,
      "outputs": []
    },
    {
      "cell_type": "code",
      "source": [
        "!cp /content/multivers_fever_sci_eval_climate_fever.jsonl /content/drive/MyDrive/omdena_CC_challenge_data/CF_multivers\n",
        "!cp /content/multivers_fever_sci_eval_climate_fever_no_nei.jsonl /content/drive/MyDrive/omdena_CC_challenge_data/CF_multivers"
      ],
      "metadata": {
        "id": "t_fJR9sx_NSE"
      },
      "execution_count": 22,
      "outputs": []
    },
    {
      "cell_type": "code",
      "source": [],
      "metadata": {
        "id": "sP2eb8JnOYqj"
      },
      "execution_count": null,
      "outputs": []
    }
  ]
}